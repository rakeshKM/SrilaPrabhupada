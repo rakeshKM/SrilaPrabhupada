{
 "cells": [
  {
   "cell_type": "code",
   "execution_count": 1,
   "id": "d05f8237",
   "metadata": {},
   "outputs": [
    {
     "name": "stdout",
     "output_type": "stream",
     "text": [
      "Your browser has been opened to visit:\n",
      "\n",
      "    https://accounts.google.com/o/oauth2/auth?client_id=6241901948-jgbd6m744b6l85jk8gpt924oqj1ik232.apps.googleusercontent.com&redirect_uri=http%3A%2F%2Flocalhost%3A8080%2F&scope=https%3A%2F%2Fwww.googleapis.com%2Fauth%2Fdrive&access_type=offline&response_type=code\n",
      "\n",
      "Authentication successful.\n"
     ]
    }
   ],
   "source": [
    "from pydrive.auth import GoogleAuth\n",
    "from pydrive.drive import GoogleDrive\n",
    "\n",
    "#1st authentification\n",
    "gauth = GoogleAuth()\n",
    "gauth.LocalWebserverAuth() # Creates local webserver and auto handles \n",
    "#authentication\n",
    "drive = GoogleDrive(gauth)"
   ]
  },
  {
   "cell_type": "code",
   "execution_count": 3,
   "id": "c2542416",
   "metadata": {},
   "outputs": [
    {
     "name": "stdout",
     "output_type": "stream",
     "text": [
      "Collecting pydrive\n",
      "  Downloading PyDrive-1.3.1.tar.gz (987 kB)\n",
      "     ------------------------------------ 987.4/987.4 kB 754.0 kB/s eta 0:00:00\n",
      "  Preparing metadata (setup.py): started\n",
      "  Preparing metadata (setup.py): finished with status 'done'\n",
      "Collecting google-api-python-client>=1.2\n",
      "  Downloading google_api_python_client-2.55.0-py2.py3-none-any.whl (8.8 MB)\n",
      "     ---------------------------------------- 8.8/8.8 MB 994.6 kB/s eta 0:00:00\n",
      "Requirement already satisfied: oauth2client>=4.0.0 in c:\\users\\svbd\\appdata\\local\\programs\\python\\python310\\lib\\site-packages (from pydrive) (4.1.3)\n",
      "Collecting PyYAML>=3.0\n",
      "  Downloading PyYAML-6.0-cp310-cp310-win_amd64.whl (151 kB)\n",
      "     ------------------------------------ 151.7/151.7 kB 696.6 kB/s eta 0:00:00\n",
      "Collecting uritemplate<5,>=3.0.1\n",
      "  Downloading uritemplate-4.1.1-py2.py3-none-any.whl (10 kB)\n",
      "Requirement already satisfied: google-auth<3.0.0dev,>=1.19.0 in c:\\users\\svbd\\appdata\\local\\programs\\python\\python310\\lib\\site-packages (from google-api-python-client>=1.2->pydrive) (2.9.1)\n",
      "Collecting google-auth-httplib2>=0.1.0\n",
      "  Downloading google_auth_httplib2-0.1.0-py2.py3-none-any.whl (9.3 kB)\n",
      "Requirement already satisfied: httplib2<1dev,>=0.15.0 in c:\\users\\svbd\\appdata\\local\\programs\\python\\python310\\lib\\site-packages (from google-api-python-client>=1.2->pydrive) (0.20.4)\n",
      "Collecting google-api-core!=2.0.*,!=2.1.*,!=2.2.*,!=2.3.0,<3.0.0dev,>=1.31.5\n",
      "  Downloading google_api_core-2.8.2-py3-none-any.whl (114 kB)\n",
      "     ------------------------------------ 114.6/114.6 kB 957.1 kB/s eta 0:00:00\n",
      "Requirement already satisfied: six>=1.6.1 in c:\\users\\svbd\\appdata\\local\\programs\\python\\python310\\lib\\site-packages (from oauth2client>=4.0.0->pydrive) (1.16.0)\n",
      "Requirement already satisfied: pyasn1-modules>=0.0.5 in c:\\users\\svbd\\appdata\\local\\programs\\python\\python310\\lib\\site-packages (from oauth2client>=4.0.0->pydrive) (0.2.8)\n",
      "Requirement already satisfied: pyasn1>=0.1.7 in c:\\users\\svbd\\appdata\\local\\programs\\python\\python310\\lib\\site-packages (from oauth2client>=4.0.0->pydrive) (0.4.8)\n",
      "Requirement already satisfied: rsa>=3.1.4 in c:\\users\\svbd\\appdata\\local\\programs\\python\\python310\\lib\\site-packages (from oauth2client>=4.0.0->pydrive) (4.8)\n",
      "Requirement already satisfied: requests<3.0.0dev,>=2.18.0 in c:\\users\\svbd\\appdata\\local\\programs\\python\\python310\\lib\\site-packages (from google-api-core!=2.0.*,!=2.1.*,!=2.2.*,!=2.3.0,<3.0.0dev,>=1.31.5->google-api-python-client>=1.2->pydrive) (2.26.0)\n",
      "Collecting protobuf<5.0.0dev,>=3.15.0\n",
      "  Downloading protobuf-4.21.4-cp310-abi3-win_amd64.whl (525 kB)\n",
      "     ------------------------------------ 525.5/525.5 kB 610.4 kB/s eta 0:00:00\n",
      "Collecting googleapis-common-protos<2.0dev,>=1.56.2\n",
      "  Downloading googleapis_common_protos-1.56.4-py2.py3-none-any.whl (211 kB)\n",
      "     ------------------------------------ 211.7/211.7 kB 919.7 kB/s eta 0:00:00\n",
      "Requirement already satisfied: cachetools<6.0,>=2.0.0 in c:\\users\\svbd\\appdata\\local\\programs\\python\\python310\\lib\\site-packages (from google-auth<3.0.0dev,>=1.19.0->google-api-python-client>=1.2->pydrive) (4.2.2)\n",
      "Requirement already satisfied: pyparsing!=3.0.0,!=3.0.1,!=3.0.2,!=3.0.3,<4,>=2.4.2 in c:\\users\\svbd\\appdata\\local\\programs\\python\\python310\\lib\\site-packages (from httplib2<1dev,>=0.15.0->google-api-python-client>=1.2->pydrive) (3.0.6)\n",
      "Requirement already satisfied: urllib3<1.27,>=1.21.1 in c:\\users\\svbd\\appdata\\local\\programs\\python\\python310\\lib\\site-packages (from requests<3.0.0dev,>=2.18.0->google-api-core!=2.0.*,!=2.1.*,!=2.2.*,!=2.3.0,<3.0.0dev,>=1.31.5->google-api-python-client>=1.2->pydrive) (1.26.7)\n",
      "Requirement already satisfied: certifi>=2017.4.17 in c:\\users\\svbd\\appdata\\local\\programs\\python\\python310\\lib\\site-packages (from requests<3.0.0dev,>=2.18.0->google-api-core!=2.0.*,!=2.1.*,!=2.2.*,!=2.3.0,<3.0.0dev,>=1.31.5->google-api-python-client>=1.2->pydrive) (2021.10.8)\n",
      "Requirement already satisfied: idna<4,>=2.5 in c:\\users\\svbd\\appdata\\local\\programs\\python\\python310\\lib\\site-packages (from requests<3.0.0dev,>=2.18.0->google-api-core!=2.0.*,!=2.1.*,!=2.2.*,!=2.3.0,<3.0.0dev,>=1.31.5->google-api-python-client>=1.2->pydrive) (3.3)\n",
      "Requirement already satisfied: charset-normalizer~=2.0.0 in c:\\users\\svbd\\appdata\\local\\programs\\python\\python310\\lib\\site-packages (from requests<3.0.0dev,>=2.18.0->google-api-core!=2.0.*,!=2.1.*,!=2.2.*,!=2.3.0,<3.0.0dev,>=1.31.5->google-api-python-client>=1.2->pydrive) (2.0.9)\n",
      "Using legacy 'setup.py install' for pydrive, since package 'wheel' is not installed.\n",
      "Installing collected packages: uritemplate, PyYAML, protobuf, googleapis-common-protos, google-auth-httplib2, google-api-core, google-api-python-client, pydrive\n",
      "  Running setup.py install for pydrive: started\n",
      "  Running setup.py install for pydrive: finished with status 'done'\n",
      "Successfully installed PyYAML-6.0 google-api-core-2.8.2 google-api-python-client-2.55.0 google-auth-httplib2-0.1.0 googleapis-common-protos-1.56.4 protobuf-4.21.4 pydrive-1.3.1 uritemplate-4.1.1\n",
      "\n",
      "[notice] A new release of pip available: 22.1.2 -> 22.2.1\n",
      "[notice] To update, run: python.exe -m pip install --upgrade pip\n"
     ]
    }
   ],
   "source": [
    "!pip3 install pydrive"
   ]
  },
  {
   "cell_type": "code",
   "execution_count": 1,
   "id": "8dcba21d",
   "metadata": {
    "scrolled": false
   },
   "outputs": [
    {
     "ename": "StopIteration",
     "evalue": "",
     "output_type": "error",
     "traceback": [
      "\u001b[1;31m---------------------------------------------------------------------------\u001b[0m",
      "\u001b[1;31mStopIteration\u001b[0m                             Traceback (most recent call last)",
      "\u001b[1;32m~\\AppData\\Local\\Temp/ipykernel_15052/4104200421.py\u001b[0m in \u001b[0;36m<module>\u001b[1;34m\u001b[0m\n\u001b[0;32m    288\u001b[0m     \u001b[0mupload\u001b[0m\u001b[1;33m=\u001b[0m \u001b[1;32mTrue\u001b[0m\u001b[1;33m\u001b[0m\u001b[1;33m\u001b[0m\u001b[0m\n\u001b[0;32m    289\u001b[0m     \u001b[0mcl_O\u001b[0m\u001b[1;33m=\u001b[0m\u001b[0mMakingVideo\u001b[0m\u001b[1;33m(\u001b[0m\u001b[0mupload\u001b[0m\u001b[1;33m,\u001b[0m \u001b[0mdrive\u001b[0m\u001b[1;33m=\u001b[0m\u001b[1;32mNone\u001b[0m\u001b[1;33m)\u001b[0m\u001b[1;33m\u001b[0m\u001b[1;33m\u001b[0m\u001b[0m\n\u001b[1;32m--> 290\u001b[1;33m     \u001b[0mcl_O\u001b[0m\u001b[1;33m.\u001b[0m\u001b[0mstart\u001b[0m\u001b[1;33m(\u001b[0m\u001b[1;33m)\u001b[0m\u001b[1;33m\u001b[0m\u001b[1;33m\u001b[0m\u001b[0m\n\u001b[0m\u001b[0;32m    291\u001b[0m \u001b[1;33m\u001b[0m\u001b[0m\n",
      "\u001b[1;32m~\\AppData\\Local\\Temp/ipykernel_15052/4104200421.py\u001b[0m in \u001b[0;36mstart\u001b[1;34m(self)\u001b[0m\n\u001b[0;32m    273\u001b[0m         \u001b[1;32mfor\u001b[0m \u001b[0mindex\u001b[0m\u001b[1;33m,\u001b[0m\u001b[0meach_record\u001b[0m \u001b[1;32min\u001b[0m \u001b[0mself\u001b[0m\u001b[1;33m.\u001b[0m\u001b[0mrun_records\u001b[0m\u001b[1;33m.\u001b[0m\u001b[0miterrows\u001b[0m\u001b[1;33m(\u001b[0m\u001b[1;33m)\u001b[0m\u001b[1;33m:\u001b[0m\u001b[1;33m\u001b[0m\u001b[1;33m\u001b[0m\u001b[0m\n\u001b[0;32m    274\u001b[0m             \u001b[1;31m#self.download_video(each_record)\u001b[0m\u001b[1;33m\u001b[0m\u001b[1;33m\u001b[0m\u001b[0m\n\u001b[1;32m--> 275\u001b[1;33m             \u001b[0mself\u001b[0m\u001b[1;33m.\u001b[0m\u001b[0mget_clip\u001b[0m\u001b[1;33m(\u001b[0m\u001b[0meach_record\u001b[0m\u001b[1;33m)\u001b[0m\u001b[1;33m\u001b[0m\u001b[1;33m\u001b[0m\u001b[0m\n\u001b[0m\u001b[0;32m    276\u001b[0m             \u001b[1;32mtry\u001b[0m\u001b[1;33m:\u001b[0m\u001b[1;33m\u001b[0m\u001b[1;33m\u001b[0m\u001b[0m\n\u001b[0;32m    277\u001b[0m                 \u001b[0mself\u001b[0m\u001b[1;33m.\u001b[0m\u001b[0mcrop_clip\u001b[0m\u001b[1;33m(\u001b[0m\u001b[1;33m)\u001b[0m\u001b[1;33m\u001b[0m\u001b[1;33m\u001b[0m\u001b[0m\n",
      "\u001b[1;32m~\\AppData\\Local\\Temp/ipykernel_15052/4104200421.py\u001b[0m in \u001b[0;36mget_clip\u001b[1;34m(self, record)\u001b[0m\n\u001b[0;32m     99\u001b[0m         \u001b[0mit\u001b[0m\u001b[1;33m=\u001b[0m\u001b[0miter\u001b[0m\u001b[1;33m(\u001b[0m\u001b[0mnonEmpty_cut_list\u001b[0m\u001b[1;33m)\u001b[0m\u001b[1;33m\u001b[0m\u001b[1;33m\u001b[0m\u001b[0m\n\u001b[0;32m    100\u001b[0m         \u001b[1;32mfor\u001b[0m \u001b[0mx\u001b[0m \u001b[1;32min\u001b[0m \u001b[0mit\u001b[0m\u001b[1;33m:\u001b[0m\u001b[1;33m\u001b[0m\u001b[1;33m\u001b[0m\u001b[0m\n\u001b[1;32m--> 101\u001b[1;33m             \u001b[0mcuts_topple\u001b[0m\u001b[1;33m.\u001b[0m\u001b[0mappend\u001b[0m\u001b[1;33m(\u001b[0m\u001b[1;33m(\u001b[0m\u001b[0mx\u001b[0m\u001b[1;33m,\u001b[0m\u001b[0mnext\u001b[0m\u001b[1;33m(\u001b[0m\u001b[0mit\u001b[0m\u001b[1;33m)\u001b[0m\u001b[1;33m)\u001b[0m\u001b[1;33m)\u001b[0m\u001b[1;33m\u001b[0m\u001b[1;33m\u001b[0m\u001b[0m\n\u001b[0m\u001b[0;32m    102\u001b[0m         \u001b[0mprint\u001b[0m\u001b[1;33m(\u001b[0m\u001b[0mcuts_topple\u001b[0m\u001b[1;33m)\u001b[0m\u001b[1;33m\u001b[0m\u001b[1;33m\u001b[0m\u001b[0m\n\u001b[0;32m    103\u001b[0m         \u001b[0mvideo\u001b[0m\u001b[1;33m=\u001b[0m \u001b[0mmpy\u001b[0m\u001b[1;33m.\u001b[0m\u001b[0mVideoFileClip\u001b[0m\u001b[1;33m(\u001b[0m\u001b[0mself\u001b[0m\u001b[1;33m.\u001b[0m\u001b[0mvideo_name\u001b[0m\u001b[1;33m)\u001b[0m\u001b[1;33m\u001b[0m\u001b[1;33m\u001b[0m\u001b[0m\n",
      "\u001b[1;31mStopIteration\u001b[0m: "
     ]
    }
   ],
   "source": [
    "import cv2\n",
    "import numpy as np\n",
    "from moviepy.video.fx.all import crop\n",
    "import moviepy.video.fx.all as vfx\n",
    "\n",
    "import moviepy.editor as mpy\n",
    "import pytube\n",
    "import os\n",
    "import random\n",
    "import xlrd\n",
    "import pandas as pd\n",
    "\n",
    "import gspread\n",
    "import pandas as pd\n",
    "import numpy as np\n",
    "\n",
    "from oauth2client.service_account import ServiceAccountCredentials\n",
    "from pydrive.auth import GoogleAuth\n",
    "from pydrive.drive import GoogleDrive\n",
    "import pandas as pd\n",
    "import requests\n",
    "from io import BytesIO\n",
    "\n",
    "\n",
    "\n",
    "class MakingVideo():\n",
    "    \n",
    "    def __init__(self,upload=False, drive=None):\n",
    "        # define the scope\n",
    "        self.scope = ['https://spreadsheets.google.com/feeds','https://www.googleapis.com/auth/drive']\n",
    "        self.json_file_name = 'splila-204506-3f4a019fbea2.json'\n",
    "        self.sheet_name = '54 Devotees'\n",
    "        self.upload=upload\n",
    "        self.drive=drive\n",
    "\n",
    "    \n",
    "    def read_spreadsheet(self):\n",
    "        # add credentials to the account\n",
    "        creds = ServiceAccountCredentials.from_json_keyfile_name(self.json_file_name, self.scope)\n",
    "\n",
    "        # authorize the clientsheet \n",
    "        client = gspread.authorize(creds)\n",
    "\n",
    "        # get the instance of the Spreadsheet\n",
    "        sheet = client.open(self.sheet_name)\n",
    "\n",
    "        # get the first sheet of the Spreadsheet\n",
    "        sheet_instance = sheet.get_worksheet(0)\n",
    "\n",
    "        # get all the records of the data\n",
    "        records_data = sheet_instance.get_all_records()\n",
    "        '''spreadsheetId = \"1GkBTSYSSBYcTOhGA0FDv8hcAI0NryiDo\"  # <--- Please set the Spreadsheet ID.\n",
    "\n",
    "        # 1. Download the Google Spreadsheet as XLSX format.\n",
    "        gauth = GoogleAuth()\n",
    "        gauth.LocalWebserverAuth()\n",
    "        url = \"https://www.googleapis.com/drive/v3/files/\" + spreadsheetId + \"/export?mimeType=application%2Fvnd.openxmlformats-officedocument.spreadsheetml.sheet\"\n",
    "        res = requests.get(url, headers={\"Authorization\": \"Bearer \" + gauth.attr['credentials'].access_token})\n",
    "\n",
    "        # 2. The downloaded XLSX data is read with `pd.read_excel`.\n",
    "        sheet = \"Videos\"\n",
    "        records_df = pd.read_excel(BytesIO(res.content), usecols=None, sheet_name=sheet)'''\n",
    "\n",
    "        #convert the json to dataframe\n",
    "        records_df = pd.DataFrame.from_dict(records_data)\n",
    "\n",
    "        # run with yes records\n",
    "        self.run_records = records_df[records_df['Run']=='Yes']\n",
    "        pass\n",
    "    def download_video(self, record):\n",
    "        link = record['YouTube link']\n",
    "        print(\"YouTube Link - \"+link)\n",
    "        self.folder_name = str(record['Posting Day'])+'_'+record['Name']\n",
    "        working_dir = os.getcwd()\n",
    "        self.directory = os.path.join(working_dir,self.folder_name)\n",
    "        self.video_path=os.path.join(self.directory,self.folder_name)\n",
    "        self.video_clip = self.video_path+'_clip.mp4'\n",
    "        if not os.path.exists(self.directory):\n",
    "            os.makedirs(self.directory)\n",
    "        self.video_name = self.video_path+'.mp4'\n",
    "        print(record['Name'])\n",
    "        try:\n",
    "            yt = pytube.YouTube(link)\n",
    "        except:\n",
    "            print('Youtube link is not working')\n",
    "        try:\n",
    "            if os.path.isfile(self.video_name):\n",
    "                print('Downloaded video exists')\n",
    "            else:\n",
    "                yt.streams.filter(progressive=True, file_extension='mp4').get_highest_resolution().download(filename=self.video_name)\n",
    "        except:\n",
    "            print('Download was not successful')\n",
    "        pass\n",
    "    def get_clip(self,record):        \n",
    "        #get_cuts\n",
    "        cut_list=[record[\"Start\"],record[\"End\"],record[\"Start2\"],record[\"End2\"],record[\"Start3\"],record[\"End3\"],record[\"Start4\"],record[\"End4\"],record[\"Start5\"],record[\"End5\"] ]\n",
    "        nonEmpty_cut_list = [i for i in cut_list if i] \n",
    "        cuts_topple=[]\n",
    "        it=iter(nonEmpty_cut_list)\n",
    "        for x in it:\n",
    "            cuts_topple.append((x,next(it)))\n",
    "        print(cuts_topple)    \n",
    "        video= mpy.VideoFileClip(self.video_name)\n",
    "        clips = []\n",
    "        #clips.append(intro_subclip)\n",
    "        for i,cut in enumerate(cuts_topple):\n",
    "            start=float(str(cut[0]).split(\".\")[0])*60 + float(str(format(cut[0],'.2f')).split(\".\")[1])\n",
    "            end=float(str(cut[1]).split(\".\")[0])*60 + float(str(format(cut[1],'.2f')).split(\".\")[1])\n",
    "            if(len(str(cut[0]).split(\".\"))==3):\n",
    "                start = start*60+float(str(cut[0]).split(\".\")[2])\n",
    "                end = end*60+float(str(cut[1]).split(\".\")[2])\n",
    "            \n",
    "            clip = video.subclip(start, end )\n",
    "            #clip.set_fps(25.0)\n",
    "            clips.append(clip)        \n",
    "        final_clip = mpy.concatenate_videoclips(clips,method=\"compose\")        \n",
    "        \n",
    "        final_clip.write_videofile(self.video_clip,fps=25)\n",
    "        video.close()\n",
    "        \n",
    "    def crop_clip(self,crop_x=0,crop_y=0, crop_w=0,crop_h=0):\n",
    "        if crop_x and crop_y and crop_w and crop_h:\n",
    "            a,b,c,d= crop_x, crop_y, crop_w, crop_h\n",
    "        else:\n",
    "            video = cv2.VideoCapture(self.video_clip) \n",
    "            ret,frame= video.read()\n",
    "            face_cascade = cv2.CascadeClassifier('haarcascade_frontalface_default.xml') \n",
    "            width = video.get(cv2.CAP_PROP_FRAME_WIDTH)\n",
    "            height = video.get(cv2.CAP_PROP_FRAME_HEIGHT)\n",
    "            print(\"Original width \"+str(width)+\" and height \"+str(height))\n",
    "            gray = cv2.cvtColor(frame, cv2.COLOR_BGR2GRAY)  \n",
    "            faces = face_cascade.detectMultiScale(gray, 1.1, 4) \n",
    "            max_i=0\n",
    "            max_a=0\n",
    "            for i,(x, y, w, h) in enumerate(faces):\n",
    "\n",
    "                if  h*w > max_a:\n",
    "                    max_i=i\n",
    "                    max_a= h*w\n",
    "                    x_, y_, w_, h_=x, y, w, h\n",
    "            x, y, w, h = faces[max_i][0],faces[max_i][1],faces[max_i][2],faces[max_i][3] \n",
    "            max_l=max(w,h)\n",
    "            cut_x = max(0,x-int(0.75*max_l))\n",
    "            cut_y = max(0,y-int(0.75*max_l))\n",
    "            cut_w = min(x+int(max_l+0.75*max_l),width)\n",
    "            cut_h = min(y+int(max_l+0.75*max_l),height)\n",
    "\n",
    "            #Replacing with input arguments\n",
    "            cut_x = crop_x if crop_x else cut_x\n",
    "            cut_y = crop_y if crop_y else cut_y\n",
    "            cut_w = crop_w if crop_w else cut_w\n",
    "            cut_h = crop_h if crop_h else cut_h\n",
    "            a,b,c,d= cut_x, cut_y, cut_w, cut_h\n",
    "            \n",
    "        print(\"Cropping at point x \"+str(a)+\" point y \"+str(b)+\" width \"+str(c)+\" and height at \"+str(d))\n",
    "\n",
    "        self.video_cropped = self.video_path+'_crop.mp4'\n",
    "        video2 = mpy.VideoFileClip(self.video_clip)\n",
    "        video_final= crop(video2, x1=a, y1=b, x2=c, y2=d)\n",
    "\n",
    "        video_final.write_videofile(\n",
    "            self.video_cropped ,\n",
    "            fps=30,\n",
    "            remove_temp=True,\n",
    "            codec=\"libx264\",\n",
    "            audio_codec=\"aac\",\n",
    "            threads = 6,\n",
    "        )\n",
    "        video2.close()\n",
    "\n",
    "\n",
    "    def add_blur_background_logo_strip(self, pad=0, cropping_failed = False ,each_record=None):\n",
    "        if cropping_failed:\n",
    "            self.video_cropped = self.video_path+'_clip.mp4'\n",
    "        else:\n",
    "            self.video_cropped = self.video_path+'_crop.mp4'\n",
    "        self.video_edited_final = self.video_path+'blur_background_logo_strip_added.mp4'\n",
    "        with mpy.VideoFileClip(self.video_cropped) as video:\n",
    "            if video.aspect_ratio < 1.8:\n",
    "                video.write_videofile(\n",
    "                    self.video_edited_final,\n",
    "                    #ffmpeg_params=['-lavfi', '[0:v]scale=-1:ih*16/9,boxblur=luma_radius=min(h\\,w)/20:luma_power=1:chroma_radius=min(cw\\,ch)/20:chroma_power=1[bg];[bg][0:v]overlay=(W-w)/2:(H-h)/2,crop=h=iw*9/16']\n",
    "                    #ffmpeg_params=[\"-lavfi\", \"[0:v] scale=350:640,boxblur=5[bg];[0:v]scale=350:500,pad=w=350:h=510:x=0:y=5:color=black [paded];[bg][paded]overlay=trunc((W-w)/2):trunc((H-h)/2)[prefinal];movie=logo_final2.png [watermark]; [prefinal][watermark] overlay=main_w-overlay_w-5:10\"]\n",
    "                    ffmpeg_params=[\"-lavfi\", \"[0:v] scale=350:640,boxblur=4[bg];[0:v]scale=350:520,pad=350:\"+str(520+2*pad)+\":0:\"+str(pad)+\":color=black [paded];[bg][paded]overlay=(W-w)/2:(H-h)/2[prefinal];movie=logo_final2.png [watermark]; [prefinal][watermark] overlay=main_w-overlay_w-5:6\"]\n",
    "                    \n",
    "                    #ffmpeg_params=[\"-lavfi\", \"[0:v]scale=-1:720[scaled_video];[1:v]scale=1280:720,boxblur=50[blur_image];[blur_image][scaled_video]overlay=(main_w-overlay_w)/2:(main_h-overlay_h)/2[outv]\"]\n",
    "                )\n",
    "        '''\n",
    "        clips=[]\n",
    "        clips.append(video)\n",
    "        working_dir = os.getcwd()\n",
    "        intro_fname = str(each_record['Intro'])+\".mp4\"\n",
    "        Intro_video_name = os.path.join(working_dir,\"Outro_short\",intro_fname)\n",
    "        intro_clip= mpy.VideoFileClip(Intro_video_name).resize( (350,640) )\n",
    "        intro_subclip=intro_clip.set_fps(25.0)\n",
    "        clips.append(intro_clip)\n",
    "        \n",
    "        Outro_video_name = os.path.join(working_dir,\"Outro_short\",intro_fname)\n",
    "        Outro_clip= mpy.VideoFileClip(Outro_video_name).resize( (350,640) )\n",
    "        Outro_clip=Outro_clip.set_fps(25.0)\n",
    "        clips.append(Outro_clip)\n",
    "        \n",
    "        self.savetitle= self.video_path+'_into_outro_added.mp4'\n",
    "        #final_clip = mpy.concatenate_videoclips(clips,method=\"compose\")\n",
    "        #final_clip= mpy.CompositeVideoClip([intro_subclip,video,Outro_clip])\n",
    "        #final_clip.write_videofile(self.savetitle,fps=25)\n",
    "\n",
    "        #video.close()\n",
    "        '''\n",
    "        \n",
    "        main_video = mpy.VideoFileClip(self.video_edited_final)\n",
    "        main_video=main_video.fx(vfx.resize, height=350, width=640).set_fps(25.0)\n",
    "        \n",
    "        working_dir = os.getcwd()\n",
    "        intro_fname = str(each_record['Intro'])+\".mp4\"\n",
    "        Intro_video_name = os.path.join(working_dir,\"Intro\",intro_fname)\n",
    "        intro_clip= mpy.VideoFileClip(Intro_video_name)\n",
    "        intro_clip =intro_clip.fx(vfx.resize, height=350, width=640).set_fps(25.0)\n",
    "        \n",
    "        Outro_video_name = os.path.join(working_dir,\"Outro\",intro_fname)\n",
    "        Outro_clip= mpy.VideoFileClip(Outro_video_name)\n",
    "        Outro_clip = Outro_clip.fx(vfx.resize, height=350, width=640).set_fps(25.0)\n",
    "        \n",
    "        self.savetitle= self.video_path+'_short.mp4'\n",
    "        #final_video = mpy.CompositeVideoClip([intro_clip,main_video,Outro_clip])\n",
    "        final_video = mpy.concatenate_videoclips([intro_clip,main_video,Outro_clip],method=\"compose\")\n",
    "\n",
    "        final_video.write_videofile(\n",
    "            self.savetitle,\n",
    "            fps=25,\n",
    "            remove_temp=True,\n",
    "            codec=\"libx264\",\n",
    "            audio_codec=\"aac\",\n",
    "            threads = 6,\n",
    "        )\n",
    "        \n",
    "   \n",
    "  \n",
    "    def createDriveFolder(self, folderName, parentID = None):\n",
    "        # Create a folder on Drive, returns the newely created folders ID\n",
    "        body = {\n",
    "          'title': folderName,\n",
    "          'mimeType': \"application/vnd.google-apps.folder\"\n",
    "        }\n",
    "        if parentID:\n",
    "            body['parents'] = [{'id': parentID}]\n",
    "        root_folder = self.drive.files().insert(body = body).execute()\n",
    "        return root_folder['id']\n",
    "    \n",
    "    def upload_files(self,each_record):\n",
    "        [month, date]=each_record['Posting Day'].split()\n",
    "        print(\"Saving in the month folder \"+month+\" and date folder \"+date)\n",
    "        fileList = self.drive.ListFile({'q': \"'19SyToVl9Uik6DR0vC4RXRY66HO2C9lpp' in parents and trashed=false\"}).GetList()\n",
    "        for file in fileList:\n",
    "            if(file['mimeType'] == \"application/vnd.google-apps.folder\") and file['title']==month:\n",
    "                month_folder = self.drive.ListFile({'q': \"'\"+file['id']+\"' in parents and trashed=false\"}).GetList()\n",
    "                print(\"Months folder ID \"+file['id'])\n",
    "                folder_ID=None\n",
    "                for each_file in month_folder: \n",
    "                    if each_file['title']==date:\n",
    "                        folder_ID = each_file['id']\n",
    "                if not folder_ID:       \n",
    "                    folder_ID = self.createDriveFolder(date,file['id'])\n",
    "                print(\"Date folder ID \"+folder_ID)\n",
    "        \n",
    "        file_metadata = {'title': 'Unedited_'+self.folder_name+'.mp4', \"parents\": [{\"id\": folder_ID, \"kind\": \"drive#childList\"}]}\n",
    "        file1 = self.drive.CreateFile(metadata=file_metadata)\n",
    "        file1.SetContentFile(self.savetitle)\n",
    "        file1.Upload()\n",
    "        \n",
    "    def start(self):\n",
    "        self.read_spreadsheet()\n",
    "        for index,each_record in self.run_records.iterrows():\n",
    "            self.download_video(each_record)\n",
    "            self.get_clip(each_record)\n",
    "            try:\n",
    "                self.crop_clip()\n",
    "                self.add_blur_background_logo_strip(5,False,each_record)\n",
    "            except Exception as e:\n",
    "                print(e)                \n",
    "                self.add_blur_background_logo_strip(5,True,each_record)\n",
    "            if self.upload:\n",
    "                print(\"Uploading the files\")\n",
    "                self.upload_files(each_record)\n",
    "        \n",
    "        \n",
    "if __name__ == \"__main__\":\n",
    "    upload= True\n",
    "    cl_O=MakingVideo(upload, drive)\n",
    "    cl_O.start()   \n",
    "        "
   ]
  },
  {
   "cell_type": "code",
   "execution_count": 6,
   "id": "3e55dd9e",
   "metadata": {},
   "outputs": [
    {
     "name": "stdout",
     "output_type": "stream",
     "text": [
      "Moviepy - Building video C:\\Users\\rnand\\Desktop\\nithya\\videos SPA\\August 10_Achyutananda Dasa\\August 10_Achyutananda Dasa_crop.mp4.\n",
      "MoviePy - Writing audio in August 10_Achyutananda Dasa_cropTEMP_MPY_wvf_snd.mp4\n"
     ]
    },
    {
     "name": "stderr",
     "output_type": "stream",
     "text": [
      "                                                                                                                       \r"
     ]
    },
    {
     "name": "stdout",
     "output_type": "stream",
     "text": [
      "MoviePy - Done.\n",
      "Moviepy - Writing video C:\\Users\\rnand\\Desktop\\nithya\\videos SPA\\August 10_Achyutananda Dasa\\August 10_Achyutananda Dasa_crop.mp4\n",
      "\n"
     ]
    },
    {
     "name": "stderr",
     "output_type": "stream",
     "text": [
      "                                                                                                                       "
     ]
    },
    {
     "name": "stdout",
     "output_type": "stream",
     "text": [
      "Moviepy - Done !\n",
      "Moviepy - video ready C:\\Users\\rnand\\Desktop\\nithya\\videos SPA\\August 10_Achyutananda Dasa\\August 10_Achyutananda Dasa_crop.mp4\n"
     ]
    },
    {
     "name": "stderr",
     "output_type": "stream",
     "text": [
      "\r"
     ]
    }
   ],
   "source": [
    "cl_O.video_cropped = cl_O.video_path+'_crop.mp4'\n",
    "video2 = mpy.VideoFileClip(cl_O.video_clip)\n",
    "video_final= crop(video2, x1=170, y1=40, x2=400, y2=300)\n",
    "\n",
    "video_final.write_videofile(\n",
    "    cl_O.video_cropped ,\n",
    "    fps=30,\n",
    "    remove_temp=True,\n",
    "    codec=\"libx264\",\n",
    "    audio_codec=\"aac\",\n",
    "    threads = 6,\n",
    ")\n",
    "video2.close()"
   ]
  },
  {
   "cell_type": "code",
   "execution_count": 5,
   "id": "b80eb0af",
   "metadata": {},
   "outputs": [
    {
     "name": "stdout",
     "output_type": "stream",
     "text": [
      "[(11.14, 11.2)]\n"
     ]
    }
   ],
   "source": [
    "for index,record in cl_O.run_records.iterrows():\n",
    "        cut_list=[record[\"Start\"],record[\"End\"]]#,record[\"Start2\"],record[\"End2\"],record[\"Start3\"],record[\"End3\"],record[\"Start4\"],record[\"End4\"],record[\"Start5\"],record[\"End5\"] ]\n",
    "        nonEmpty_cut_list = [i for i in cut_list if i] \n",
    "        cuts_topple=[]\n",
    "        it=iter(nonEmpty_cut_list)\n",
    "        for x in it:\n",
    "            cuts_topple.append((x,next(it)))\n",
    "        print(cuts_topple)    \n",
    "        \n",
    "        for i,cut in enumerate(cuts_topple):\n",
    "            start=float(format(str(cut[0]).split(\".\")[0],'%.2f')*60 + float(str(cut[0]).split(\".\")[1])\n",
    "            end=float(str(cut[1]).split(\".\")[0])*60 + float(str(cut[1]).split(\".\")[1])\n",
    "            if(len(str(cut[0]).split(\".\"))==3):\n",
    "                start = start*60+float(str(cut[0]).split(\".\")[2])\n",
    "                end = end*60+float(str(cut[1]).split(\".\")[2])"
   ]
  },
  {
   "cell_type": "code",
   "execution_count": 10,
   "id": "c9280e04",
   "metadata": {},
   "outputs": [
    {
     "data": {
      "text/plain": [
       "20.0"
      ]
     },
     "execution_count": 10,
     "metadata": {},
     "output_type": "execute_result"
    }
   ],
   "source": [
    "float(str().split(\".\")[1])"
   ]
  },
  {
   "cell_type": "code",
   "execution_count": 8,
   "id": "f84939b8",
   "metadata": {},
   "outputs": [
    {
     "data": {
      "text/plain": [
       "'2'"
      ]
     },
     "execution_count": 8,
     "metadata": {},
     "output_type": "execute_result"
    }
   ],
   "source": [
    "str(cut[1]).split(\".\")[1]"
   ]
  },
  {
   "cell_type": "code",
   "execution_count": null,
   "id": "f945713d",
   "metadata": {},
   "outputs": [],
   "source": [
    "from mimetypes import MimeTypes\n",
    "from googleapiclient.http import MediaFileUpload\n",
    "\n",
    "mimetype = MimeTypes().guess_type(cl_O.savetitle)[0]\n",
    "\n",
    "from googleapiclient.discovery import build\n",
    "service = build('drive', 'v3', credentials=self.creds)\n",
    "\n",
    "\n",
    "media = MediaFileUpload(filepath, mimetype=mimetype)\n",
    "              \n",
    "# Create a new file in the Drive storage\n",
    "file = cl_O.drive.files().create(\n",
    "    body=file_metadata, media_body=media, fields='id')"
   ]
  },
  {
   "cell_type": "code",
   "execution_count": null,
   "id": "3494afe2",
   "metadata": {},
   "outputs": [],
   "source": [
    "\n",
    "folder_id=\"11QFUz_IhNIWtIk7vo4UyqKcOuqxaRd62\"\n",
    "file_metadata = {'title': 'sample.txt', \"parents\": [{\"id\": folder_id, \"kind\": \"drive#childList\"}]}\n",
    "#file_metadata = {\"parents\": [\"id\":\"19SyToVl9Uik6DR0vC4RXRY66HO2C9lpp\",\"kind\": \"drive#file\"]}\n",
    "file1 = drive.CreateFile(metadata=file_metadata)\n",
    "file1.SetContentFile('big.txt')\n",
    "file1.Upload()"
   ]
  },
  {
   "cell_type": "code",
   "execution_count": null,
   "id": "7e606a6c",
   "metadata": {},
   "outputs": [],
   "source": [
    "fileList = drive.ListFile({'q': \"'19SyToVl9Uik6DR0vC4RXRY66HO2C9lpp' in parents and trashed=false\"}).GetList()\n",
    "for file in fileList:\n",
    "    if(file['mimeType'] == \"application/vnd.google-apps.folder\") and file['title']==\"July\":\n",
    "        month_folder = drive.ListFile({'q': \"'\"+file['id']+\"' in parents and trashed=false\"}).GetList()\n",
    "        for each_file in month_folder: \n",
    "            print('Title: %s, ID: %s AND mimeType: %s \\n\\n' % (each_file['title'], each_file['id'], each_file['mimeType']))"
   ]
  },
  {
   "cell_type": "code",
   "execution_count": null,
   "id": "bae55d30",
   "metadata": {},
   "outputs": [],
   "source": [
    "\"'\"+file['id']+\"' in parents and trashed=false\""
   ]
  },
  {
   "cell_type": "code",
   "execution_count": 23,
   "id": "7b2d8438",
   "metadata": {},
   "outputs": [
    {
     "name": "stdout",
     "output_type": "stream",
     "text": [
      "YouTube Link - https://www.youtube.com/watch?v=HaOLZ0VmoCs\n",
      "Tranakarta Dasa\n",
      "[(35.3, 36.1)]\n"
     ]
    },
    {
     "ename": "AttributeError",
     "evalue": "'float' object has no attribute 'split'",
     "output_type": "error",
     "traceback": [
      "\u001b[1;31m---------------------------------------------------------------------------\u001b[0m",
      "\u001b[1;31mAttributeError\u001b[0m                            Traceback (most recent call last)",
      "Input \u001b[1;32mIn [23]\u001b[0m, in \u001b[0;36m<cell line: 2>\u001b[1;34m()\u001b[0m\n\u001b[0;32m     15\u001b[0m \u001b[38;5;66;03m#clips.append(intro_subclip)\u001b[39;00m\n\u001b[0;32m     16\u001b[0m \u001b[38;5;28;01mfor\u001b[39;00m i,cut \u001b[38;5;129;01min\u001b[39;00m \u001b[38;5;28menumerate\u001b[39m(cuts_topple):\n\u001b[1;32m---> 17\u001b[0m     start\u001b[38;5;241m=\u001b[39m\u001b[38;5;28mfloat\u001b[39m(\u001b[43mcut\u001b[49m\u001b[43m[\u001b[49m\u001b[38;5;241;43m0\u001b[39;49m\u001b[43m]\u001b[49m\u001b[38;5;241;43m.\u001b[39;49m\u001b[43msplit\u001b[49m(\u001b[38;5;124m\"\u001b[39m\u001b[38;5;124m:\u001b[39m\u001b[38;5;124m\"\u001b[39m)[\u001b[38;5;241m1\u001b[39m])\u001b[38;5;241m*\u001b[39m\u001b[38;5;241m60\u001b[39m \u001b[38;5;241m+\u001b[39m \u001b[38;5;28mfloat\u001b[39m(cut[\u001b[38;5;241m0\u001b[39m]\u001b[38;5;241m.\u001b[39msplit(\u001b[38;5;124m\"\u001b[39m\u001b[38;5;124m:\u001b[39m\u001b[38;5;124m\"\u001b[39m)[\u001b[38;5;241m2\u001b[39m])\n\u001b[0;32m     18\u001b[0m     end\u001b[38;5;241m=\u001b[39m\u001b[38;5;28mfloat\u001b[39m(cut[\u001b[38;5;241m1\u001b[39m]\u001b[38;5;241m.\u001b[39msplit(\u001b[38;5;124m\"\u001b[39m\u001b[38;5;124m:\u001b[39m\u001b[38;5;124m\"\u001b[39m)[\u001b[38;5;241m1\u001b[39m])\u001b[38;5;241m*\u001b[39m\u001b[38;5;241m60\u001b[39m \u001b[38;5;241m+\u001b[39m \u001b[38;5;28mfloat\u001b[39m(cut[\u001b[38;5;241m1\u001b[39m]\u001b[38;5;241m.\u001b[39msplit(\u001b[38;5;124m\"\u001b[39m\u001b[38;5;124m:\u001b[39m\u001b[38;5;124m\"\u001b[39m)[\u001b[38;5;241m2\u001b[39m])\n\u001b[0;32m     19\u001b[0m     clip \u001b[38;5;241m=\u001b[39m video\u001b[38;5;241m.\u001b[39msubclip(start, end )\n",
      "\u001b[1;31mAttributeError\u001b[0m: 'float' object has no attribute 'split'"
     ]
    }
   ],
   "source": [
    "cl_O.read_spreadsheet()\n",
    "for index,each_record in cl_O.run_records.iterrows():\n",
    "    cl_O.download_video(each_record)\n",
    "    #cl_O.get_clip(each_record)\n",
    "    record =each_record\n",
    "    cut_list=[record[\"Start\"],record[\"End\"],record[\"Start2\"],record[\"End2\"],record[\"Start3\"],record[\"End3\"],record[\"Start4\"],record[\"End4\"],record[\"Start5\"],record[\"End5\"] ]\n",
    "    nonEmpty_cut_list = [i for i in cut_list if i] \n",
    "    cuts_topple=[]\n",
    "    it=iter(nonEmpty_cut_list)\n",
    "    for x in it:\n",
    "        cuts_topple.append((x,next(it)))\n",
    "    print(cuts_topple)    \n",
    "    video= mpy.VideoFileClip(cl_O.video_name)\n",
    "    clips = []\n",
    "    #clips.append(intro_subclip)\n",
    "    for i,cut in enumerate(cuts_topple):\n",
    "        start=float(cut[0].split(\":\")[1])*60 + float(cut[0].split(\":\")[2])\n",
    "        end=float(cut[1].split(\":\")[1])*60 + float(cut[1].split(\":\")[2])\n",
    "        clip = video.subclip(start, end )\n",
    "        #clip.set_fps(25.0)\n",
    "        clips.append(clip)        \n",
    "    final_clip = mpy.concatenate_videoclips(clips,method=\"compose\")        \n",
    "    cl_O.video_clip = cl_O.video_path+'_edited.mp4'\n",
    "    final_clip.write_videofile(cl_O.video_clip,fps=25)\n",
    "    video.close()"
   ]
  },
  {
   "cell_type": "code",
   "execution_count": null,
   "id": "0f20029d",
   "metadata": {},
   "outputs": [],
   "source": [
    "start=float(cut[0].split(\":\")[1])*60 + float(cut[0].split(\":\")[2])"
   ]
  },
  {
   "cell_type": "code",
   "execution_count": null,
   "id": "bcf5700d",
   "metadata": {},
   "outputs": [],
   "source": [
    "float(cut[0].split(\":\")[1])*60"
   ]
  },
  {
   "cell_type": "code",
   "execution_count": null,
   "id": "c6c258e3",
   "metadata": {},
   "outputs": [],
   "source": [
    "cut[0].split(\":\")"
   ]
  },
  {
   "cell_type": "code",
   "execution_count": null,
   "id": "3879ffaa",
   "metadata": {},
   "outputs": [],
   "source": [
    "crop_w=50\n",
    "crop_h=0\n",
    "max_l =50\n",
    "x=20\n",
    "y=20\n",
    "width = 100\n",
    "height = 150\n",
    "cut_w = min(x+int(max_l+max_l),width)\n",
    "cut_h = min(y+int(max_l+max_l),height)\n",
    "cut_w = crop_w if crop_w else cut_w\n",
    "cut_h = crop_h if crop_h else cut_h\n",
    "print(cut_w,cut_h)"
   ]
  },
  {
   "cell_type": "code",
   "execution_count": null,
   "id": "82c8473a",
   "metadata": {},
   "outputs": [],
   "source": [
    "video.get(cv2.CAP_PROP_FRAME_WIDTH)\n",
    "video.get(cv2.CAP_PROP_FRAME_HEIGHT)"
   ]
  },
  {
   "cell_type": "code",
   "execution_count": null,
   "id": "61a2e225",
   "metadata": {},
   "outputs": [],
   "source": [
    "\n",
    "import moviepy.editor as mpy\n",
    "\n",
    "cl_O.video_cropped = cl_O.video_path+'_cropped.mp4'\n",
    "video_edited_final = cl_O.video_path+'blur.mp4'\n",
    "pad=6\n",
    "with mpy.VideoFileClip(cl_O.video_cropped) as video:\n",
    "    if video.aspect_ratio < 1.8:\n",
    "        video.write_videofile(\n",
    "            video_edited_final,\n",
    "            #ffmpeg_params=['-lavfi', '[0:v]scale=-1:ih*16/9,boxblur=luma_radius=min(h\\,w)/20:luma_power=1:chroma_radius=min(cw\\,ch)/20:chroma_power=1[bg];[bg][0:v]overlay=(W-w)/2:(H-h)/2,crop=h=iw*9/16']\n",
    "            #ffmpeg_params=[\"-lavfi\", \"[0:v] scale=350:640,boxblur=5[bg];[0:v]scale=350:500,pad=w=350:h=510:x=0:y=5:color=black [paded];[bg][paded]overlay=trunc((W-w)/2):trunc((H-h)/2)[prefinal];movie=logo_final2.png [watermark]; [prefinal][watermark] overlay=main_w-overlay_w-5:10\"]\n",
    "            ffmpeg_params=[\"-lavfi\", \"[0:v] scale=350:640,boxblur=4[bg];[0:v]scale=350:520,pad=350:\"+str(520+2*pad)+\":0:\"+str(pad)+\":color=black [paded];[bg][paded]overlay=(W-w)/2:(H-h)/2[prefinal];movie=logo_final2.png [watermark]; [prefinal][watermark] overlay=main_w-overlay_w-5:6\"]\n",
    "\n",
    "            #ffmpeg_params=[\"-lavfi\", \"[0:v]scale=-1:720[scaled_video];[1:v]scale=1280:720,boxblur=50[blur_image];[blur_image][scaled_video]overlay=(main_w-overlay_w)/2:(main_h-overlay_h)/2[outv]\"]\n",
    "        )"
   ]
  },
  {
   "cell_type": "code",
   "execution_count": null,
   "id": "ab4c4fe7",
   "metadata": {},
   "outputs": [],
   "source": [
    "\"-lavfi\", \"[0:v] scale=350:640,boxblur=4[bg];[0:v][0:v]scale=350:520,pad=350:532:0:\"+str(6)+\":color=black [paded];[bg][paded]overlay=(W-w)/2:(H-h)/2[prefinal];movie=logo_final2.png [watermark]; [prefinal][watermark] overlay=main_w-overlay_w-5:6\".format(pad)"
   ]
  },
  {
   "cell_type": "code",
   "execution_count": null,
   "id": "91b59624",
   "metadata": {},
   "outputs": [],
   "source": []
  },
  {
   "cell_type": "code",
   "execution_count": null,
   "id": "5b8b6111",
   "metadata": {},
   "outputs": [],
   "source": []
  },
  {
   "cell_type": "code",
   "execution_count": null,
   "id": "6d0ebf31",
   "metadata": {},
   "outputs": [],
   "source": []
  },
  {
   "cell_type": "code",
   "execution_count": null,
   "id": "9f0e29ab",
   "metadata": {},
   "outputs": [],
   "source": []
  }
 ],
 "metadata": {
  "kernelspec": {
   "display_name": "Python 3 (ipykernel)",
   "language": "python",
   "name": "python3"
  },
  "language_info": {
   "codemirror_mode": {
    "name": "ipython",
    "version": 3
   },
   "file_extension": ".py",
   "mimetype": "text/x-python",
   "name": "python",
   "nbconvert_exporter": "python",
   "pygments_lexer": "ipython3",
   "version": "3.10.1"
  }
 },
 "nbformat": 4,
 "nbformat_minor": 5
}
