{
 "cells": [
  {
   "cell_type": "code",
   "execution_count": 9,
   "id": "8dcba21d",
   "metadata": {},
   "outputs": [
    {
     "name": "stderr",
     "output_type": "stream",
     "text": [
      "\n",
      "\n",
      "\n",
      "\n",
      "\n",
      "                                                                                                                       \u001b[A\u001b[A\u001b[A\u001b[A\u001b[A\n",
      "\n",
      "\n",
      "\n",
      "                                                                                                                       \u001b[A\u001b[A\u001b[A\u001b[A"
     ]
    },
    {
     "name": "stdout",
     "output_type": "stream",
     "text": [
      "YouTube Link - https://youtu.be/i_BdrQ_hXO8\n",
      "Ambarisha Dasa\n",
      "Downloaded video exists\n",
      "Moviepy - Building video C:\\Users\\rmallik\\Downloads\\service\\automatic_video_clip_creation\\Final\\Ambarisha Dasa\\Ambarisha Dasa_Interview 01blur_background_logo_strip_added.mp4.\n",
      "MoviePy - Writing audio in Ambarisha Dasa_Interview 01blur_background_logo_strip_addedTEMP_MPY_wvf_snd.mp3\n"
     ]
    },
    {
     "name": "stderr",
     "output_type": "stream",
     "text": [
      "                                                                                                                       \r"
     ]
    },
    {
     "name": "stdout",
     "output_type": "stream",
     "text": [
      "MoviePy - Done.\n",
      "Moviepy - Writing video C:\\Users\\rmallik\\Downloads\\service\\automatic_video_clip_creation\\Final\\Ambarisha Dasa\\Ambarisha Dasa_Interview 01blur_background_logo_strip_added.mp4\n",
      "\n"
     ]
    },
    {
     "name": "stderr",
     "output_type": "stream",
     "text": [
      "                                                                                                                       \r"
     ]
    },
    {
     "name": "stdout",
     "output_type": "stream",
     "text": [
      "Moviepy - Done !\n",
      "Moviepy - video ready C:\\Users\\rmallik\\Downloads\\service\\automatic_video_clip_creation\\Final\\Ambarisha Dasa\\Ambarisha Dasa_Interview 01blur_background_logo_strip_added.mp4\n",
      "Moviepy - Building video C:\\Users\\rmallik\\Downloads\\service\\automatic_video_clip_creation\\Final\\Ambarisha Dasa\\Ambarisha Dasa_Interview 01_into_outro_added.mp4.\n",
      "MoviePy - Writing audio in Ambarisha Dasa_Interview 01_into_outro_addedTEMP_MPY_wvf_snd.mp4\n"
     ]
    },
    {
     "name": "stderr",
     "output_type": "stream",
     "text": [
      "                                                                                                                       \r"
     ]
    },
    {
     "name": "stdout",
     "output_type": "stream",
     "text": [
      "MoviePy - Done.\n",
      "Moviepy - Writing video C:\\Users\\rmallik\\Downloads\\service\\automatic_video_clip_creation\\Final\\Ambarisha Dasa\\Ambarisha Dasa_Interview 01_into_outro_added.mp4\n",
      "\n"
     ]
    },
    {
     "name": "stderr",
     "output_type": "stream",
     "text": [
      "                                                                                                                       "
     ]
    },
    {
     "name": "stdout",
     "output_type": "stream",
     "text": [
      "Moviepy - Done !\n",
      "Moviepy - video ready C:\\Users\\rmallik\\Downloads\\service\\automatic_video_clip_creation\\Final\\Ambarisha Dasa\\Ambarisha Dasa_Interview 01_into_outro_added.mp4\n"
     ]
    },
    {
     "name": "stderr",
     "output_type": "stream",
     "text": [
      "\r"
     ]
    }
   ],
   "source": [
    "import cv2\n",
    "import numpy as np\n",
    "from moviepy.video.fx.all import crop\n",
    "import moviepy.video.fx.all as vfx\n",
    "\n",
    "import moviepy.editor as mpy\n",
    "import pytube\n",
    "import os\n",
    "import random\n",
    "import xlrd\n",
    "import pandas as pd\n",
    "\n",
    "import gspread\n",
    "import pandas as pd\n",
    "import numpy as np\n",
    "import matplotlib.pyplot as plt\n",
    "from oauth2client.service_account import ServiceAccountCredentials\n",
    "from pydrive.auth import GoogleAuth\n",
    "from pydrive.drive import GoogleDrive\n",
    "import pandas as pd\n",
    "import requests\n",
    "from io import BytesIO\n",
    "\n",
    "from skimage.filters import gaussian\n",
    "\n",
    "class MakingVideo():\n",
    "    \n",
    "    def __init__(self):\n",
    "        # define the scope\n",
    "        self.scope = ['https://spreadsheets.google.com/feeds','https://www.googleapis.com/auth/drive']\n",
    "        self.json_file_name = 'splila-204506-3f4a019fbea2.json'\n",
    "        self.sheet_name = '54 Devotees'\n",
    "        pass\n",
    "    \n",
    "    def read_spreadsheet(self):\n",
    "        # add credentials to the account\n",
    "        creds = ServiceAccountCredentials.from_json_keyfile_name(self.json_file_name, self.scope)\n",
    "\n",
    "        # authorize the clientsheet \n",
    "        client = gspread.authorize(creds)\n",
    "\n",
    "        # get the instance of the Spreadsheet\n",
    "        sheet = client.open(self.sheet_name)\n",
    "\n",
    "        # get the first sheet of the Spreadsheet\n",
    "        sheet_instance = sheet.get_worksheet(1)\n",
    "\n",
    "        # get all the records of the data\n",
    "        records_data = sheet_instance.get_all_records()\n",
    "        '''spreadsheetId = \"1GkBTSYSSBYcTOhGA0FDv8hcAI0NryiDo\"  # <--- Please set the Spreadsheet ID.\n",
    "\n",
    "        # 1. Download the Google Spreadsheet as XLSX format.\n",
    "        gauth = GoogleAuth()\n",
    "        gauth.LocalWebserverAuth()\n",
    "        url = \"https://www.googleapis.com/drive/v3/files/\" + spreadsheetId + \"/export?mimeType=application%2Fvnd.openxmlformats-officedocument.spreadsheetml.sheet\"\n",
    "        res = requests.get(url, headers={\"Authorization\": \"Bearer \" + gauth.attr['credentials'].access_token})\n",
    "\n",
    "        # 2. The downloaded XLSX data is read with `pd.read_excel`.\n",
    "        sheet = \"Videos\"\n",
    "        records_df = pd.read_excel(BytesIO(res.content), usecols=None, sheet_name=sheet)'''\n",
    "\n",
    "        #convert the json to dataframe\n",
    "        records_df = pd.DataFrame.from_dict(records_data)\n",
    "\n",
    "        # run with yes records\n",
    "        self.run_records = records_df[records_df['Run']=='Yes']\n",
    "        pass\n",
    "    def download_video(self, record):\n",
    "        link = record['YouTube link']\n",
    "        print(\"YouTube Link - \"+link)\n",
    "        self.folder_name = record['Name']\n",
    "        working_dir = os.getcwd()\n",
    "        self.directory = os.path.join(working_dir,self.folder_name)\n",
    "        self.video_path=os.path.join(self.directory,self.folder_name+'_'+str(record['Video Source Vanipedia']))\n",
    "        if not os.path.exists(self.directory):\n",
    "            os.makedirs(self.directory)\n",
    "        self.video_name = self.video_path+'.mp4'\n",
    "        print(record['Name'])\n",
    "        try:\n",
    "            yt = pytube.YouTube(link)\n",
    "        except:\n",
    "            print('Youtube link is not working')\n",
    "        try:\n",
    "            if os.path.isfile(self.video_name):\n",
    "                print('Downloaded video exists')\n",
    "            else:\n",
    "                yt.streams.filter(progressive=True, file_extension='mp4').order_by('resolution')[-1].download(filename=self.video_name)\n",
    "        except:\n",
    "            print('Download was not successful')\n",
    "        pass\n",
    "    def get_clip(self,record):        \n",
    "        #get_cuts\n",
    "        cut_list=[record[\"Start\"],record[\"End\"],record[\"Start2\"],record[\"End2\"],record[\"Start3\"],record[\"End3\"],record[\"Start4\"],record[\"End4\"],record[\"Start5\"],record[\"End5\"] ]\n",
    "        nonEmpty_cut_list = [i for i in cut_list if i] \n",
    "        cuts_topple=[]\n",
    "        it=iter(nonEmpty_cut_list)\n",
    "        for x in it:\n",
    "            cuts_topple.append((x,next(it)))\n",
    "        print(cuts_topple)    \n",
    "        video= mpy.VideoFileClip(self.video_name)\n",
    "        clips = []\n",
    "        #clips.append(intro_subclip)\n",
    "        for i,cut in enumerate(cuts_topple):\n",
    "            start=float(cut[0].split(\":\")[1])*60 + float(cut[0].split(\":\")[2])\n",
    "            end=float(cut[1].split(\":\")[1])*60 + float(cut[1].split(\":\")[2])\n",
    "            clip = video.subclip(start, end )\n",
    "            #clip.set_fps(25.0)\n",
    "            clips.append(clip)        \n",
    "        final_clip = mpy.concatenate_videoclips(clips,method=\"compose\")        \n",
    "        self.video_clip = self.video_path+'_edited.mp4'\n",
    "        final_clip.write_videofile(self.video_clip,fps=25)\n",
    "        video.close()\n",
    "        \n",
    "    def crop_clip(self,crop_x=0,crop_y=0, crop_w=0,crop_h=0):\n",
    "        if crop_x and crop_y and crop_w and crop_h:\n",
    "            a,b,c,d= crop_x, crop_y, crop_w, crop_h\n",
    "        else:\n",
    "            video = cv2.VideoCapture(self.video_clip) \n",
    "            ret,frame= video.read()\n",
    "            face_cascade = cv2.CascadeClassifier('haarcascade_frontalface_default.xml') \n",
    "            width = video.get(cv2.CAP_PROP_FRAME_WIDTH)\n",
    "            height = video.get(cv2.CAP_PROP_FRAME_HEIGHT)\n",
    "            gray = cv2.cvtColor(frame, cv2.COLOR_BGR2GRAY)  \n",
    "            faces = face_cascade.detectMultiScale(gray, 1.1, 4) \n",
    "            max_i=0\n",
    "            max_a=0\n",
    "            for i,(x, y, w, h) in enumerate(faces):\n",
    "\n",
    "                if  h*w > max_a:\n",
    "                    max_i=i\n",
    "                    max_a= h*w\n",
    "                    x_, y_, w_, h_=x, y, w, h\n",
    "            x, y, w, h = faces[max_i][0],faces[max_i][1],faces[max_i][2],faces[max_i][3] \n",
    "            max_l=max(w,h)\n",
    "            cut_x = max(0,x-int(max_l))\n",
    "            cut_y = max(0,y-int(max_l))\n",
    "            cut_w = min(x+int(max_l+max_l),width)\n",
    "            cut_h = min(y+int(max_l+max_l),height)\n",
    "\n",
    "            #Replacing with input arguments\n",
    "            cut_x = crop_x if crop_x else cut_x\n",
    "            cut_y = crop_y if crop_y else cut_y\n",
    "            cut_w = crop_w if crop_w else cut_w\n",
    "            cut_h = crop_h if crop_h else cut_h\n",
    "            a,b,c,d= cut_x, cut_y, cut_w, cut_h\n",
    "            print(\"Original width \"+str(width)+\" and height \"+str(height))\n",
    "            print(\"Cropping at point x \"+str(cut_x)+\" point y \"+str(cut_y)+\" width \"+str(cut_w)+\" and height at \"+str(cut_h))\n",
    "\n",
    "        self.video_cropped = self.video_path+'_cropped.mp4'\n",
    "        video2 = mpy.VideoFileClip(self.video_clip)\n",
    "        video_final= crop(video2, x1=a, y1=b, x2=c, y2=d)\n",
    "\n",
    "        video_final.write_videofile(\n",
    "            self.video_cropped ,\n",
    "            fps=30,\n",
    "            remove_temp=True,\n",
    "            codec=\"libx264\",\n",
    "            audio_codec=\"aac\",\n",
    "            threads = 6,\n",
    "        )\n",
    "        video2.close()\n",
    "\n",
    "\n",
    "    def add_blur_background_logo_strip(self, pad=0, cropping_failed = False ,each_record=None):\n",
    "        if cropping_failed:\n",
    "            self.video_cropped = self.video_path+'_edited.mp4'\n",
    "        else:\n",
    "            self.video_cropped = self.video_path+'_cropped.mp4'\n",
    "        self.video_edited_final = self.video_path+'blur_background_logo_strip_added.mp4'\n",
    "        with mpy.VideoFileClip(self.video_cropped) as video:\n",
    "            if video.aspect_ratio < 1.8:\n",
    "                video.write_videofile(\n",
    "                    self.video_edited_final,\n",
    "                    #ffmpeg_params=['-lavfi', '[0:v]scale=-1:ih*16/9,boxblur=luma_radius=min(h\\,w)/20:luma_power=1:chroma_radius=min(cw\\,ch)/20:chroma_power=1[bg];[bg][0:v]overlay=(W-w)/2:(H-h)/2,crop=h=iw*9/16']\n",
    "                    #ffmpeg_params=[\"-lavfi\", \"[0:v] scale=350:640,boxblur=5[bg];[0:v]scale=350:500,pad=w=350:h=510:x=0:y=5:color=black [paded];[bg][paded]overlay=trunc((W-w)/2):trunc((H-h)/2)[prefinal];movie=logo_final2.png [watermark]; [prefinal][watermark] overlay=main_w-overlay_w-5:10\"]\n",
    "                    ffmpeg_params=[\"-lavfi\", \"[0:v] scale=350:640,boxblur=4[bg];[0:v]scale=350:520,pad=350:\"+str(520+2*pad)+\":0:\"+str(pad)+\":color=black [paded];[bg][paded]overlay=(W-w)/2:(H-h)/2[prefinal];movie=logo_final2.png [watermark]; [prefinal][watermark] overlay=main_w-overlay_w-5:6\"]\n",
    "                    \n",
    "                    #ffmpeg_params=[\"-lavfi\", \"[0:v]scale=-1:720[scaled_video];[1:v]scale=1280:720,boxblur=50[blur_image];[blur_image][scaled_video]overlay=(main_w-overlay_w)/2:(main_h-overlay_h)/2[outv]\"]\n",
    "                )\n",
    "        '''\n",
    "        clips=[]\n",
    "        clips.append(video)\n",
    "        working_dir = os.getcwd()\n",
    "        intro_fname = str(each_record['Intro'])+\".mp4\"\n",
    "        Intro_video_name = os.path.join(working_dir,\"Outro_short\",intro_fname)\n",
    "        intro_clip= mpy.VideoFileClip(Intro_video_name).resize( (350,640) )\n",
    "        intro_subclip=intro_clip.set_fps(25.0)\n",
    "        clips.append(intro_clip)\n",
    "        \n",
    "        Outro_video_name = os.path.join(working_dir,\"Outro_short\",intro_fname)\n",
    "        Outro_clip= mpy.VideoFileClip(Outro_video_name).resize( (350,640) )\n",
    "        Outro_clip=Outro_clip.set_fps(25.0)\n",
    "        clips.append(Outro_clip)\n",
    "        \n",
    "        self.savetitle= self.video_path+'_into_outro_added.mp4'\n",
    "        #final_clip = mpy.concatenate_videoclips(clips,method=\"compose\")\n",
    "        #final_clip= mpy.CompositeVideoClip([intro_subclip,video,Outro_clip])\n",
    "        #final_clip.write_videofile(self.savetitle,fps=25)\n",
    "\n",
    "        #video.close()\n",
    "        '''\n",
    "        \n",
    "        main_video = mpy.VideoFileClip(self.video_edited_final)\n",
    "        main_video=main_video.fx(vfx.resize, height=350, width=640).set_fps(25.0)\n",
    "        \n",
    "        working_dir = os.getcwd()\n",
    "        intro_fname = str(each_record['Intro'])+\".mp4\"\n",
    "        Intro_video_name = os.path.join(working_dir,\"Outro_short\",intro_fname)\n",
    "        intro_clip= mpy.VideoFileClip(Intro_video_name)\n",
    "        intro_clip =intro_clip.fx(vfx.resize, height=350, width=640).set_fps(25.0)\n",
    "        \n",
    "        Outro_video_name = os.path.join(working_dir,\"Outro_short\",intro_fname)\n",
    "        Outro_clip= mpy.VideoFileClip(Outro_video_name)\n",
    "        Outro_clip = Outro_clip.fx(vfx.resize, height=350, width=640).set_fps(25.0)\n",
    "        \n",
    "        self.savetitle= self.video_path+'_into_outro_added.mp4'\n",
    "        #final_video = mpy.CompositeVideoClip([intro_clip,main_video,Outro_clip])\n",
    "        final_video = mpy.concatenate_videoclips([intro_clip,main_video,Outro_clip],method=\"compose\")\n",
    "\n",
    "        final_video.write_videofile(\n",
    "            self.savetitle,\n",
    "            fps=25,\n",
    "            remove_temp=True,\n",
    "            codec=\"libx264\",\n",
    "            audio_codec=\"aac\",\n",
    "            threads = 6,\n",
    "        )\n",
    "        \n",
    "   \n",
    "  \n",
    "    def add_intro_outro(self):\n",
    "        pass\n",
    "    \n",
    "    def start(self):\n",
    "        self.read_spreadsheet()\n",
    "        for index,each_record in self.run_records.iterrows():\n",
    "            self.download_video(each_record)\n",
    "            #self.get_clip(each_record)\n",
    "            #each_record\n",
    "            try:\n",
    "                #self.crop_clip()\n",
    "                self.add_blur_background_logo_strip(5,False,each_record)\n",
    "            except Exception as e:\n",
    "                print(e)\n",
    "                self.add_blur_background_logo_strip(5,True,each_record)\n",
    "            #add_text_strips()\n",
    "            #add_intro_outro()\n",
    "        \n",
    "        \n",
    "if __name__ == \"__main__\":\n",
    "    cl_O=MakingVideo()\n",
    "    cl_O.start()       \n",
    "        \n",
    "        \n",
    "        "
   ]
  },
  {
   "cell_type": "code",
   "execution_count": 4,
   "id": "f945713d",
   "metadata": {},
   "outputs": [
    {
     "data": {
      "text/plain": [
       "1.3333333333333333"
      ]
     },
     "execution_count": 4,
     "metadata": {},
     "output_type": "execute_result"
    }
   ],
   "source": [
    "mpy.VideoFileClip(cl_O.video_cropped).aspect_ratio"
   ]
  },
  {
   "cell_type": "code",
   "execution_count": null,
   "id": "3494afe2",
   "metadata": {},
   "outputs": [],
   "source": [
    "video = cv2.VideoCapture(cl_O.video_clip) \n",
    "ret,frame= video.read()\n",
    "face_cascade = cv2.CascadeClassifier('haarcascade_frontalface_default.xml') \n",
    "width = video.get(cv2.CAP_PROP_FRAME_WIDTH)\n",
    "height = video.get(cv2.CAP_PROP_FRAME_HEIGHT)\n",
    "gray = cv2.cvtColor(frame, cv2.COLOR_BGR2GRAY)  \n",
    "faces = face_cascade.detectMultiScale(gray, 1.1, 4) "
   ]
  },
  {
   "cell_type": "code",
   "execution_count": null,
   "id": "7b2d8438",
   "metadata": {},
   "outputs": [],
   "source": [
    "cl_O.read_spreadsheet()\n",
    "for index,each_record in cl_O.run_records.iterrows():\n",
    "    cl_O.download_video(each_record)\n",
    "    #cl_O.get_clip(each_record)\n",
    "    record =each_record\n",
    "    cut_list=[record[\"Start\"],record[\"End\"],record[\"Start2\"],record[\"End2\"],record[\"Start3\"],record[\"End3\"],record[\"Start4\"],record[\"End4\"],record[\"Start5\"],record[\"End5\"] ]\n",
    "    nonEmpty_cut_list = [i for i in cut_list if i] \n",
    "    cuts_topple=[]\n",
    "    it=iter(nonEmpty_cut_list)\n",
    "    for x in it:\n",
    "        cuts_topple.append((x,next(it)))\n",
    "    print(cuts_topple)    \n",
    "    video= mpy.VideoFileClip(cl_O.video_name)\n",
    "    clips = []\n",
    "    #clips.append(intro_subclip)\n",
    "    for i,cut in enumerate(cuts_topple):\n",
    "        start=float(cut[0].split(\":\")[1])*60 + float(cut[0].split(\":\")[2])\n",
    "        end=float(cut[1].split(\":\")[1])*60 + float(cut[1].split(\":\")[2])\n",
    "        clip = video.subclip(start, end )\n",
    "        #clip.set_fps(25.0)\n",
    "        clips.append(clip)        \n",
    "    final_clip = mpy.concatenate_videoclips(clips,method=\"compose\")        \n",
    "    cl_O.video_clip = cl_O.video_path+'_edited.mp4'\n",
    "    final_clip.write_videofile(cl_O.video_clip,fps=25)\n",
    "    video.close()"
   ]
  },
  {
   "cell_type": "code",
   "execution_count": null,
   "id": "0f20029d",
   "metadata": {},
   "outputs": [],
   "source": [
    "start=float(cut[0].split(\":\")[1])*60 + float(cut[0].split(\":\")[2])"
   ]
  },
  {
   "cell_type": "code",
   "execution_count": null,
   "id": "bcf5700d",
   "metadata": {},
   "outputs": [],
   "source": [
    "float(cut[0].split(\":\")[1])*60"
   ]
  },
  {
   "cell_type": "code",
   "execution_count": null,
   "id": "c6c258e3",
   "metadata": {},
   "outputs": [],
   "source": [
    "cut[0].split(\":\")"
   ]
  },
  {
   "cell_type": "code",
   "execution_count": null,
   "id": "3879ffaa",
   "metadata": {},
   "outputs": [],
   "source": [
    "crop_w=50\n",
    "crop_h=0\n",
    "max_l =50\n",
    "x=20\n",
    "y=20\n",
    "width = 100\n",
    "height = 150\n",
    "cut_w = min(x+int(max_l+max_l),width)\n",
    "cut_h = min(y+int(max_l+max_l),height)\n",
    "cut_w = crop_w if crop_w else cut_w\n",
    "cut_h = crop_h if crop_h else cut_h\n",
    "print(cut_w,cut_h)"
   ]
  },
  {
   "cell_type": "code",
   "execution_count": null,
   "id": "82c8473a",
   "metadata": {},
   "outputs": [],
   "source": [
    "video.get(cv2.CAP_PROP_FRAME_WIDTH)\n",
    "video.get(cv2.CAP_PROP_FRAME_HEIGHT)"
   ]
  },
  {
   "cell_type": "code",
   "execution_count": null,
   "id": "61a2e225",
   "metadata": {},
   "outputs": [],
   "source": [
    "\n",
    "import moviepy.editor as mpy\n",
    "\n",
    "cl_O.video_cropped = cl_O.video_path+'_cropped.mp4'\n",
    "video_edited_final = cl_O.video_path+'blur.mp4'\n",
    "pad=6\n",
    "with mpy.VideoFileClip(cl_O.video_cropped) as video:\n",
    "    if video.aspect_ratio < 1.8:\n",
    "        video.write_videofile(\n",
    "            video_edited_final,\n",
    "            #ffmpeg_params=['-lavfi', '[0:v]scale=-1:ih*16/9,boxblur=luma_radius=min(h\\,w)/20:luma_power=1:chroma_radius=min(cw\\,ch)/20:chroma_power=1[bg];[bg][0:v]overlay=(W-w)/2:(H-h)/2,crop=h=iw*9/16']\n",
    "            #ffmpeg_params=[\"-lavfi\", \"[0:v] scale=350:640,boxblur=5[bg];[0:v]scale=350:500,pad=w=350:h=510:x=0:y=5:color=black [paded];[bg][paded]overlay=trunc((W-w)/2):trunc((H-h)/2)[prefinal];movie=logo_final2.png [watermark]; [prefinal][watermark] overlay=main_w-overlay_w-5:10\"]\n",
    "            ffmpeg_params=[\"-lavfi\", \"[0:v] scale=350:640,boxblur=4[bg];[0:v]scale=350:520,pad=350:\"+str(520+2*pad)+\":0:\"+str(pad)+\":color=black [paded];[bg][paded]overlay=(W-w)/2:(H-h)/2[prefinal];movie=logo_final2.png [watermark]; [prefinal][watermark] overlay=main_w-overlay_w-5:6\"]\n",
    "\n",
    "            #ffmpeg_params=[\"-lavfi\", \"[0:v]scale=-1:720[scaled_video];[1:v]scale=1280:720,boxblur=50[blur_image];[blur_image][scaled_video]overlay=(main_w-overlay_w)/2:(main_h-overlay_h)/2[outv]\"]\n",
    "        )"
   ]
  },
  {
   "cell_type": "code",
   "execution_count": null,
   "id": "ab4c4fe7",
   "metadata": {},
   "outputs": [],
   "source": [
    "\"-lavfi\", \"[0:v] scale=350:640,boxblur=4[bg];[0:v][0:v]scale=350:520,pad=350:532:0:\"+str(6)+\":color=black [paded];[bg][paded]overlay=(W-w)/2:(H-h)/2[prefinal];movie=logo_final2.png [watermark]; [prefinal][watermark] overlay=main_w-overlay_w-5:6\".format(pad)"
   ]
  }
 ],
 "metadata": {
  "kernelspec": {
   "display_name": "Python 3 (ipykernel)",
   "language": "python",
   "name": "python3"
  },
  "language_info": {
   "codemirror_mode": {
    "name": "ipython",
    "version": 3
   },
   "file_extension": ".py",
   "mimetype": "text/x-python",
   "name": "python",
   "nbconvert_exporter": "python",
   "pygments_lexer": "ipython3",
   "version": "3.9.2"
  }
 },
 "nbformat": 4,
 "nbformat_minor": 5
}
