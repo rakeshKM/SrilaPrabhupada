{
 "cells": [
  {
   "cell_type": "code",
   "execution_count": 8,
   "id": "d05f8237",
   "metadata": {},
   "outputs": [
    {
     "name": "stdout",
     "output_type": "stream",
     "text": [
      "Your browser has been opened to visit:\n",
      "\n",
      "    https://accounts.google.com/o/oauth2/auth?client_id=6241901948-jgbd6m744b6l85jk8gpt924oqj1ik232.apps.googleusercontent.com&redirect_uri=http%3A%2F%2Flocalhost%3A8080%2F&scope=https%3A%2F%2Fwww.googleapis.com%2Fauth%2Fdrive&access_type=offline&response_type=code\n",
      "\n",
      "Authentication successful.\n"
     ]
    }
   ],
   "source": [
    "from pydrive.auth import GoogleAuth\n",
    "from pydrive.drive import GoogleDrive\n",
    "\n",
    "#1st authentification\n",
    "gauth = GoogleAuth()\n",
    "gauth.LocalWebserverAuth() # Creates local webserver and auto handles \n",
    "#authentication\n",
    "drive = GoogleDrive(gauth)"
   ]
  },
  {
   "cell_type": "code",
   "execution_count": null,
   "id": "8dcba21d",
   "metadata": {
    "scrolled": false
   },
   "outputs": [
    {
     "name": "stdout",
     "output_type": "stream",
     "text": [
      "YouTube Link - https://www.youtube.com/watch?v=8aFmzg783_w\n",
      "Hari Sauri\n",
      "[(12.51, 13.21)]\n",
      "Moviepy - Building video C:\\Users\\rnand\\Desktop\\nithya\\videos SPA\\October 29_Hari Sauri\\October 29_Hari Sauri_clip.mp4.\n",
      "MoviePy - Writing audio in October 29_Hari Sauri_clipTEMP_MPY_wvf_snd.mp3\n"
     ]
    },
    {
     "name": "stderr",
     "output_type": "stream",
     "text": [
      "                                                                                                                       \r"
     ]
    },
    {
     "name": "stdout",
     "output_type": "stream",
     "text": [
      "MoviePy - Done.\n",
      "Moviepy - Writing video C:\\Users\\rnand\\Desktop\\nithya\\videos SPA\\October 29_Hari Sauri\\October 29_Hari Sauri_clip.mp4\n",
      "\n"
     ]
    },
    {
     "name": "stderr",
     "output_type": "stream",
     "text": [
      "                                                                                                                       \r"
     ]
    },
    {
     "name": "stdout",
     "output_type": "stream",
     "text": [
      "Moviepy - Done !\n",
      "Moviepy - video ready C:\\Users\\rnand\\Desktop\\nithya\\videos SPA\\October 29_Hari Sauri\\October 29_Hari Sauri_clip.mp4\n",
      "Original width 480.0 and height 360.0\n",
      "OpenCV(4.6.0) D:\\a\\opencv-python\\opencv-python\\opencv\\modules\\objdetect\\src\\cascadedetect.cpp:1689: error: (-215:Assertion failed) !empty() in function 'cv::CascadeClassifier::detectMultiScale'\n",
      "\n",
      "Moviepy - Building video C:\\Users\\rnand\\Desktop\\nithya\\videos SPA\\October 29_Hari Sauri\\October 29_Hari Sauriblur_background_logo_strip_added.mp4.\n",
      "MoviePy - Writing audio in October 29_Hari Sauriblur_background_logo_strip_addedTEMP_MPY_wvf_snd.mp3\n"
     ]
    },
    {
     "name": "stderr",
     "output_type": "stream",
     "text": [
      "                                                                                                                       \r"
     ]
    },
    {
     "name": "stdout",
     "output_type": "stream",
     "text": [
      "MoviePy - Done.\n",
      "Moviepy - Writing video C:\\Users\\rnand\\Desktop\\nithya\\videos SPA\\October 29_Hari Sauri\\October 29_Hari Sauriblur_background_logo_strip_added.mp4\n",
      "\n"
     ]
    },
    {
     "name": "stderr",
     "output_type": "stream",
     "text": [
      "                                                                                                                       \r"
     ]
    },
    {
     "name": "stdout",
     "output_type": "stream",
     "text": [
      "Moviepy - Done !\n",
      "Moviepy - video ready C:\\Users\\rnand\\Desktop\\nithya\\videos SPA\\October 29_Hari Sauri\\October 29_Hari Sauriblur_background_logo_strip_added.mp4\n",
      "Moviepy - Building video C:\\Users\\rnand\\Desktop\\nithya\\videos SPA\\October 29_Hari Sauri\\October 29_Hari Sauri_short.mp4.\n",
      "MoviePy - Writing audio in October 29_Hari Sauri_shortTEMP_MPY_wvf_snd.mp4\n"
     ]
    },
    {
     "name": "stderr",
     "output_type": "stream",
     "text": [
      "                                                                                                                       \r"
     ]
    },
    {
     "name": "stdout",
     "output_type": "stream",
     "text": [
      "MoviePy - Done.\n",
      "Moviepy - Writing video C:\\Users\\rnand\\Desktop\\nithya\\videos SPA\\October 29_Hari Sauri\\October 29_Hari Sauri_short.mp4\n",
      "\n"
     ]
    },
    {
     "name": "stderr",
     "output_type": "stream",
     "text": [
      "                                                                                                                       \r"
     ]
    },
    {
     "name": "stdout",
     "output_type": "stream",
     "text": [
      "Moviepy - Done !\n",
      "Moviepy - video ready C:\\Users\\rnand\\Desktop\\nithya\\videos SPA\\October 29_Hari Sauri\\October 29_Hari Sauri_short.mp4\n",
      "Uploading the files\n",
      "Saving in the month folder October and date folder 29\n",
      "Months folder ID 1RulvazKvmVoAiqzBbqXgzEXXW-HRRbOk\n",
      "Date folder ID 18Gp2hMVgzHJzdYHegcUkxxqSL4xXSp9l\n",
      "YouTube Link - https://youtu.be/KQ7HKDNINwI\n",
      "Guru Kripa\n",
      "[(24.16, 25.58)]\n",
      "Moviepy - Building video C:\\Users\\rnand\\Desktop\\nithya\\videos SPA\\October 31_Guru Kripa\\October 31_Guru Kripa_clip.mp4.\n",
      "MoviePy - Writing audio in October 31_Guru Kripa_clipTEMP_MPY_wvf_snd.mp3\n"
     ]
    },
    {
     "name": "stderr",
     "output_type": "stream",
     "text": [
      "                                                                                                                       \r"
     ]
    },
    {
     "name": "stdout",
     "output_type": "stream",
     "text": [
      "MoviePy - Done.\n",
      "Moviepy - Writing video C:\\Users\\rnand\\Desktop\\nithya\\videos SPA\\October 31_Guru Kripa\\October 31_Guru Kripa_clip.mp4\n",
      "\n"
     ]
    },
    {
     "name": "stderr",
     "output_type": "stream",
     "text": [
      "                                                                                                                       \r"
     ]
    },
    {
     "name": "stdout",
     "output_type": "stream",
     "text": [
      "Moviepy - Done !\n",
      "Moviepy - video ready C:\\Users\\rnand\\Desktop\\nithya\\videos SPA\\October 31_Guru Kripa\\October 31_Guru Kripa_clip.mp4\n",
      "Original width 480.0 and height 360.0\n",
      "OpenCV(4.6.0) D:\\a\\opencv-python\\opencv-python\\opencv\\modules\\objdetect\\src\\cascadedetect.cpp:1689: error: (-215:Assertion failed) !empty() in function 'cv::CascadeClassifier::detectMultiScale'\n",
      "\n",
      "Moviepy - Building video C:\\Users\\rnand\\Desktop\\nithya\\videos SPA\\October 31_Guru Kripa\\October 31_Guru Kripablur_background_logo_strip_added.mp4.\n",
      "MoviePy - Writing audio in October 31_Guru Kripablur_background_logo_strip_addedTEMP_MPY_wvf_snd.mp3\n"
     ]
    },
    {
     "name": "stderr",
     "output_type": "stream",
     "text": [
      "                                                                                                                       \r"
     ]
    },
    {
     "name": "stdout",
     "output_type": "stream",
     "text": [
      "MoviePy - Done.\n",
      "Moviepy - Writing video C:\\Users\\rnand\\Desktop\\nithya\\videos SPA\\October 31_Guru Kripa\\October 31_Guru Kripablur_background_logo_strip_added.mp4\n",
      "\n"
     ]
    },
    {
     "name": "stderr",
     "output_type": "stream",
     "text": [
      "                                                                                                                       \r"
     ]
    },
    {
     "name": "stdout",
     "output_type": "stream",
     "text": [
      "Moviepy - Done !\n",
      "Moviepy - video ready C:\\Users\\rnand\\Desktop\\nithya\\videos SPA\\October 31_Guru Kripa\\October 31_Guru Kripablur_background_logo_strip_added.mp4\n",
      "Moviepy - Building video C:\\Users\\rnand\\Desktop\\nithya\\videos SPA\\October 31_Guru Kripa\\October 31_Guru Kripa_short.mp4.\n",
      "MoviePy - Writing audio in October 31_Guru Kripa_shortTEMP_MPY_wvf_snd.mp4\n"
     ]
    },
    {
     "name": "stderr",
     "output_type": "stream",
     "text": [
      "                                                                                                                       \r"
     ]
    },
    {
     "name": "stdout",
     "output_type": "stream",
     "text": [
      "MoviePy - Done.\n",
      "Moviepy - Writing video C:\\Users\\rnand\\Desktop\\nithya\\videos SPA\\October 31_Guru Kripa\\October 31_Guru Kripa_short.mp4\n",
      "\n"
     ]
    },
    {
     "name": "stderr",
     "output_type": "stream",
     "text": [
      "                                                                                                                       \r"
     ]
    },
    {
     "name": "stdout",
     "output_type": "stream",
     "text": [
      "Moviepy - Done !\n",
      "Moviepy - video ready C:\\Users\\rnand\\Desktop\\nithya\\videos SPA\\October 31_Guru Kripa\\October 31_Guru Kripa_short.mp4\n",
      "Uploading the files\n",
      "Saving in the month folder October and date folder 31\n",
      "Months folder ID 1RulvazKvmVoAiqzBbqXgzEXXW-HRRbOk\n",
      "Date folder ID 1kHFp6c2pUMTob2J2NOiicgpD4z2iLSTr\n",
      "YouTube Link - https://www.youtube.com/watch?v=gkGesYsBOeg\n",
      "Jadurani Dasi\n"
     ]
    }
   ],
   "source": [
    "import cv2\n",
    "import numpy as np\n",
    "from moviepy.video.fx.all import crop\n",
    "import moviepy.video.fx.all as vfx\n",
    "\n",
    "import moviepy.editor as mpy\n",
    "import pytube\n",
    "import os\n",
    "import random\n",
    "import xlrd\n",
    "import pandas as pd\n",
    "\n",
    "import gspread\n",
    "import pandas as pd\n",
    "import numpy as np\n",
    "\n",
    "from oauth2client.service_account import ServiceAccountCredentials\n",
    "from pydrive.auth import GoogleAuth\n",
    "from pydrive.drive import GoogleDrive\n",
    "import pandas as pd\n",
    "import requests\n",
    "from io import BytesIO\n",
    "\n",
    "\n",
    "\n",
    "class MakingVideo():\n",
    "    \n",
    "    def __init__(self,upload=False, drive=None):\n",
    "        # define the scope\n",
    "        self.scope = ['https://spreadsheets.google.com/feeds','https://www.googleapis.com/auth/drive']\n",
    "        self.json_file_name = 'splila-204506-3f4a019fbea2.json'\n",
    "        self.sheet_name = '54 Devotees'\n",
    "        self.upload=upload\n",
    "        self.drive=drive\n",
    "\n",
    "    \n",
    "    def read_spreadsheet(self):\n",
    "        # add credentials to the account\n",
    "        creds = ServiceAccountCredentials.from_json_keyfile_name(self.json_file_name, self.scope)\n",
    "\n",
    "        # authorize the clientsheet \n",
    "        client = gspread.authorize(creds)\n",
    "\n",
    "        # get the instance of the Spreadsheet\n",
    "        sheet = client.open(self.sheet_name)\n",
    "\n",
    "        # get the first sheet of the Spreadsheet\n",
    "        sheet_instance = sheet.get_worksheet(0)\n",
    "\n",
    "        # get all the records of the data\n",
    "        records_data = sheet_instance.get_all_records()\n",
    "        '''spreadsheetId = \"1GkBTSYSSBYcTOhGA0FDv8hcAI0NryiDo\"  # <--- Please set the Spreadsheet ID.\n",
    "\n",
    "        # 1. Download the Google Spreadsheet as XLSX format.\n",
    "        gauth = GoogleAuth()\n",
    "        gauth.LocalWebserverAuth()\n",
    "        url = \"https://www.googleapis.com/drive/v3/files/\" + spreadsheetId + \"/export?mimeType=application%2Fvnd.openxmlformats-officedocument.spreadsheetml.sheet\"\n",
    "        res = requests.get(url, headers={\"Authorization\": \"Bearer \" + gauth.attr['credentials'].access_token})\n",
    "\n",
    "        # 2. The downloaded XLSX data is read with `pd.read_excel`.\n",
    "        sheet = \"Videos\"\n",
    "        records_df = pd.read_excel(BytesIO(res.content), usecols=None, sheet_name=sheet)'''\n",
    "\n",
    "        #convert the json to dataframe\n",
    "        records_df = pd.DataFrame.from_dict(records_data)\n",
    "\n",
    "        # run with yes records\n",
    "        self.run_records = records_df[records_df['Run']=='Yes']\n",
    "        pass\n",
    "    def download_video(self, record):\n",
    "        link = record['YouTube link']\n",
    "        print(\"YouTube Link - \"+link)\n",
    "        self.folder_name = str(record['Posting Day'])+'_'+record['Name']\n",
    "        working_dir = os.getcwd()\n",
    "        self.directory = os.path.join(working_dir,self.folder_name)\n",
    "        self.video_path=os.path.join(self.directory,self.folder_name)\n",
    "        self.video_clip = self.video_path+'_clip.mp4'\n",
    "        if not os.path.exists(self.directory):\n",
    "            os.makedirs(self.directory)\n",
    "        self.video_name = self.video_path+'.mp4'\n",
    "        print(record['Name'])\n",
    "        try:\n",
    "            self.yt = pytube.YouTube(link)\n",
    "        except Exception as e:\n",
    "            print('Youtube link is not working')\n",
    "            print(e)\n",
    "        try:\n",
    "            if os.path.isfile(self.video_name):\n",
    "                print('Downloaded video exists')\n",
    "            else:\n",
    "                self.yt.streams.filter(progressive=True, file_extension='mp4').get_highest_resolution().download(filename=self.video_name)\n",
    "        except Exception as e:\n",
    "            print('Download was not successful')\n",
    "            print(e)\n",
    "        pass\n",
    "    def get_clip(self,record):        \n",
    "        #get_cuts\n",
    "        cut_list=[record[\"Start\"],record[\"End\"],record[\"Start2\"],record[\"End2\"],record[\"Start3\"],record[\"End3\"],record[\"Start4\"],record[\"End4\"],record[\"Start5\"],record[\"End5\"] ]\n",
    "        nonEmpty_cut_list = [i for i in cut_list if i] \n",
    "        cuts_topple=[]\n",
    "        it=iter(nonEmpty_cut_list)\n",
    "        for x in it:\n",
    "            cuts_topple.append((x,next(it)))\n",
    "        print(cuts_topple)    \n",
    "        video= mpy.VideoFileClip(self.video_name)\n",
    "        clips = []\n",
    "        #clips.append(intro_subclip)\n",
    "        for i,cut in enumerate(cuts_topple):\n",
    "            start=float(str(cut[0]).split(\".\")[0])*60 + float(str(format(cut[0],'.2f')).split(\".\")[1])\n",
    "            end=float(str(cut[1]).split(\".\")[0])*60 + float(str(format(cut[1],'.2f')).split(\".\")[1])\n",
    "            if(len(str(cut[0]).split(\".\"))==3):\n",
    "                start = start*60+float(str(cut[0]).split(\".\")[2])\n",
    "                end = end*60+float(str(cut[1]).split(\".\")[2])\n",
    "            \n",
    "            clip = video.subclip(start, end )\n",
    "            #clip.set_fps(25.0)\n",
    "            clips.append(clip)        \n",
    "        final_clip = mpy.concatenate_videoclips(clips,method=\"compose\")        \n",
    "        \n",
    "        final_clip.write_videofile(self.video_clip,fps=25)\n",
    "        video.close()\n",
    "        \n",
    "    def crop_clip(self,crop_x=0,crop_y=0, crop_w=0,crop_h=0):\n",
    "        if crop_x and crop_y and crop_w and crop_h:\n",
    "            a,b,c,d= crop_x, crop_y, crop_w, crop_h\n",
    "        else:\n",
    "            video = cv2.VideoCapture(self.video_clip) \n",
    "            ret,frame= video.read()\n",
    "            face_cascade = cv2.CascadeClassifier('haarcascade_frontalface_default.xml') \n",
    "            width = video.get(cv2.CAP_PROP_FRAME_WIDTH)\n",
    "            height = video.get(cv2.CAP_PROP_FRAME_HEIGHT)\n",
    "            print(\"Original width \"+str(width)+\" and height \"+str(height))\n",
    "            gray = cv2.cvtColor(frame, cv2.COLOR_BGR2GRAY)  \n",
    "            faces = face_cascade.detectMultiScale(gray, 1.1, 4) \n",
    "            max_i=0\n",
    "            max_a=0\n",
    "            for i,(x, y, w, h) in enumerate(faces):\n",
    "\n",
    "                if  h*w > max_a:\n",
    "                    max_i=i\n",
    "                    max_a= h*w\n",
    "                    x_, y_, w_, h_=x, y, w, h\n",
    "            x, y, w, h = faces[max_i][0],faces[max_i][1],faces[max_i][2],faces[max_i][3] \n",
    "            max_l=max(w,h)\n",
    "            cut_x = max(0,x-int(0.75*max_l))\n",
    "            cut_y = max(0,y-int(0.75*max_l))\n",
    "            cut_w = min(x+int(max_l+0.75*max_l),width)\n",
    "            cut_h = min(y+int(max_l+0.75*max_l),height)\n",
    "\n",
    "            #Replacing with input arguments\n",
    "            cut_x = crop_x if crop_x else cut_x\n",
    "            cut_y = crop_y if crop_y else cut_y\n",
    "            cut_w = crop_w if crop_w else cut_w\n",
    "            cut_h = crop_h if crop_h else cut_h\n",
    "            a,b,c,d= cut_x, cut_y, cut_w, cut_h\n",
    "            \n",
    "        print(\"Cropping at point x \"+str(a)+\" point y \"+str(b)+\" width \"+str(c)+\" and height at \"+str(d))\n",
    "\n",
    "        self.video_cropped = self.video_path+'_crop.mp4'\n",
    "        video2 = mpy.VideoFileClip(self.video_clip)\n",
    "        video_final= crop(video2, x1=a, y1=b, x2=c, y2=d)\n",
    "\n",
    "        video_final.write_videofile(\n",
    "            self.video_cropped ,\n",
    "            fps=30,\n",
    "            remove_temp=True,\n",
    "            codec=\"libx264\",\n",
    "            audio_codec=\"aac\",\n",
    "            threads = 6,\n",
    "        )\n",
    "        video2.close()\n",
    "\n",
    "\n",
    "    def add_blur_background_logo_strip(self, pad=0, cropping_failed = False ,each_record=None):\n",
    "        if cropping_failed:\n",
    "            self.video_cropped = self.video_path+'_clip.mp4'\n",
    "        else:\n",
    "            self.video_cropped = self.video_path+'_crop.mp4'\n",
    "        self.video_edited_final = self.video_path+'blur_background_logo_strip_added.mp4'\n",
    "        with mpy.VideoFileClip(self.video_cropped) as video:\n",
    "            if video.aspect_ratio < 1.8:\n",
    "                video.write_videofile(\n",
    "                    self.video_edited_final,\n",
    "                    #ffmpeg_params=['-lavfi', '[0:v]scale=-1:ih*16/9,boxblur=luma_radius=min(h\\,w)/20:luma_power=1:chroma_radius=min(cw\\,ch)/20:chroma_power=1[bg];[bg][0:v]overlay=(W-w)/2:(H-h)/2,crop=h=iw*9/16']\n",
    "                    #ffmpeg_params=[\"-lavfi\", \"[0:v] scale=350:640,boxblur=5[bg];[0:v]scale=350:500,pad=w=350:h=510:x=0:y=5:color=black [paded];[bg][paded]overlay=trunc((W-w)/2):trunc((H-h)/2)[prefinal];movie=logo_final2.png [watermark]; [prefinal][watermark] overlay=main_w-overlay_w-5:10\"]\n",
    "                    ffmpeg_params=[\"-lavfi\", \"[0:v] scale=350:640,boxblur=4[bg];[0:v]scale=350:520,pad=350:\"+str(520+2*pad)+\":0:\"+str(pad)+\":color=black [paded];[bg][paded]overlay=(W-w)/2:(H-h)/2[prefinal];movie=logo_final2.png [watermark]; [prefinal][watermark] overlay=main_w-overlay_w-5:6\"]\n",
    "                    \n",
    "                    #ffmpeg_params=[\"-lavfi\", \"[0:v]scale=-1:720[scaled_video];[1:v]scale=1280:720,boxblur=50[blur_image];[blur_image][scaled_video]overlay=(main_w-overlay_w)/2:(main_h-overlay_h)/2[outv]\"]\n",
    "                )\n",
    "        '''\n",
    "        clips=[]\n",
    "        clips.append(video)\n",
    "        working_dir = os.getcwd()\n",
    "        intro_fname = str(each_record['Intro'])+\".mp4\"\n",
    "        Intro_video_name = os.path.join(working_dir,\"Outro_short\",intro_fname)\n",
    "        intro_clip= mpy.VideoFileClip(Intro_video_name).resize( (350,640) )\n",
    "        intro_subclip=intro_clip.set_fps(25.0)\n",
    "        clips.append(intro_clip)\n",
    "        \n",
    "        Outro_video_name = os.path.join(working_dir,\"Outro_short\",intro_fname)\n",
    "        Outro_clip= mpy.VideoFileClip(Outro_video_name).resize( (350,640) )\n",
    "        Outro_clip=Outro_clip.set_fps(25.0)\n",
    "        clips.append(Outro_clip)\n",
    "        \n",
    "        self.savetitle= self.video_path+'_into_outro_added.mp4'\n",
    "        #final_clip = mpy.concatenate_videoclips(clips,method=\"compose\")\n",
    "        #final_clip= mpy.CompositeVideoClip([intro_subclip,video,Outro_clip])\n",
    "        #final_clip.write_videofile(self.savetitle,fps=25)\n",
    "\n",
    "        #video.close()\n",
    "        '''\n",
    "        \n",
    "        main_video = mpy.VideoFileClip(self.video_edited_final)\n",
    "        main_video=main_video.fx(vfx.resize, height=350, width=640).set_fps(25.0)\n",
    "        \n",
    "        working_dir = os.getcwd()\n",
    "        intro_fname = str(each_record['Intro'])+\".mp4\"\n",
    "        Intro_video_name = os.path.join(working_dir,\"Intro\",intro_fname)\n",
    "        intro_clip= mpy.VideoFileClip(Intro_video_name)\n",
    "        intro_clip =intro_clip.fx(vfx.resize, height=350, width=640).set_fps(25.0)\n",
    "        \n",
    "        Outro_video_name = os.path.join(working_dir,\"Outro\",intro_fname)\n",
    "        Outro_clip= mpy.VideoFileClip(Outro_video_name)\n",
    "        Outro_clip = Outro_clip.fx(vfx.resize, height=350, width=640).set_fps(25.0)\n",
    "        \n",
    "        self.savetitle= self.video_path+'_short.mp4'\n",
    "        #final_video = mpy.CompositeVideoClip([intro_clip,main_video,Outro_clip])\n",
    "        final_video = mpy.concatenate_videoclips([intro_clip,main_video,Outro_clip],method=\"compose\")\n",
    "\n",
    "        final_video.write_videofile(\n",
    "            self.savetitle,\n",
    "            fps=25,\n",
    "            remove_temp=True,\n",
    "            codec=\"libx264\",\n",
    "            audio_codec=\"aac\",\n",
    "            threads = 6,\n",
    "        )\n",
    "        \n",
    "   \n",
    "  \n",
    "    def createDriveFolder(self, folderName, parentID = None):\n",
    "        # Create a folder on Drive, returns the newely created folders ID\n",
    "        body = {\n",
    "          'title': folderName,\n",
    "          'mimeType': \"application/vnd.google-apps.folder\"\n",
    "        }\n",
    "        if parentID:\n",
    "            body['parents'] = [{'id': parentID}]\n",
    "        root_folder = self.drive.files().insert(body = body).execute()\n",
    "        return root_folder['id']\n",
    "    \n",
    "    def upload_files(self,each_record):\n",
    "        [month, date]=each_record['Posting Day'].split()\n",
    "        print(\"Saving in the month folder \"+month+\" and date folder \"+date)\n",
    "        fileList = self.drive.ListFile({'q': \"'19SyToVl9Uik6DR0vC4RXRY66HO2C9lpp' in parents and trashed=false\"}).GetList()\n",
    "        for file in fileList:\n",
    "            if(file['mimeType'] == \"application/vnd.google-apps.folder\") and file['title']==month:\n",
    "                month_folder = self.drive.ListFile({'q': \"'\"+file['id']+\"' in parents and trashed=false\"}).GetList()\n",
    "                print(\"Months folder ID \"+file['id'])\n",
    "                folder_ID=None\n",
    "                for each_file in month_folder: \n",
    "                    if each_file['title']==date:\n",
    "                        folder_ID = each_file['id']\n",
    "                if not folder_ID:       \n",
    "                    folder_ID = self.createDriveFolder(date,file['id'])\n",
    "                print(\"Date folder ID \"+folder_ID)\n",
    "        \n",
    "        file_metadata = {'title': 'Unedited_'+self.folder_name+'.mp4', \"parents\": [{\"id\": folder_ID, \"kind\": \"drive#childList\"}]}\n",
    "        file1 = self.drive.CreateFile(metadata=file_metadata)\n",
    "        file1.SetContentFile(self.savetitle)\n",
    "        file1.Upload()\n",
    "        \n",
    "    def start(self):\n",
    "        self.read_spreadsheet()\n",
    "        for index,each_record in self.run_records.iterrows():\n",
    "            self.download_video(each_record)\n",
    "            self.get_clip(each_record)\n",
    "            try:\n",
    "                self.crop_clip()\n",
    "                self.add_blur_background_logo_strip(5,False,each_record)\n",
    "            except Exception as e:\n",
    "                print(e)                \n",
    "                self.add_blur_background_logo_strip(5,True,each_record)\n",
    "            if self.upload:\n",
    "                print(\"Uploading the files\")\n",
    "                self.upload_files(each_record)\n",
    "        \n",
    "        \n",
    "if __name__ == \"__main__\":\n",
    "    upload= True\n",
    "    cl_O=MakingVideo(upload, drive)\n",
    "    cl_O.start()   \n",
    "        "
   ]
  },
  {
   "cell_type": "code",
   "execution_count": 6,
   "id": "3e55dd9e",
   "metadata": {},
   "outputs": [
    {
     "name": "stdout",
     "output_type": "stream",
     "text": [
      "Moviepy - Building video C:\\Users\\rnand\\Desktop\\nithya\\videos SPA\\August 10_Achyutananda Dasa\\August 10_Achyutananda Dasa_crop.mp4.\n",
      "MoviePy - Writing audio in August 10_Achyutananda Dasa_cropTEMP_MPY_wvf_snd.mp4\n"
     ]
    },
    {
     "name": "stderr",
     "output_type": "stream",
     "text": [
      "                                                                                                                       \r"
     ]
    },
    {
     "name": "stdout",
     "output_type": "stream",
     "text": [
      "MoviePy - Done.\n",
      "Moviepy - Writing video C:\\Users\\rnand\\Desktop\\nithya\\videos SPA\\August 10_Achyutananda Dasa\\August 10_Achyutananda Dasa_crop.mp4\n",
      "\n"
     ]
    },
    {
     "name": "stderr",
     "output_type": "stream",
     "text": [
      "                                                                                                                       "
     ]
    },
    {
     "name": "stdout",
     "output_type": "stream",
     "text": [
      "Moviepy - Done !\n",
      "Moviepy - video ready C:\\Users\\rnand\\Desktop\\nithya\\videos SPA\\August 10_Achyutananda Dasa\\August 10_Achyutananda Dasa_crop.mp4\n"
     ]
    },
    {
     "name": "stderr",
     "output_type": "stream",
     "text": [
      "\r"
     ]
    }
   ],
   "source": [
    "cl_O.video_cropped = cl_O.video_path+'_crop.mp4'\n",
    "video2 = mpy.VideoFileClip(cl_O.video_clip)\n",
    "video_final= crop(video2, x1=170, y1=40, x2=400, y2=300)\n",
    "\n",
    "video_final.write_videofile(\n",
    "    cl_O.video_cropped ,\n",
    "    fps=30,\n",
    "    remove_temp=True,\n",
    "    codec=\"libx264\",\n",
    "    audio_codec=\"aac\",\n",
    "    threads = 6,\n",
    ")\n",
    "video2.close()"
   ]
  },
  {
   "cell_type": "code",
   "execution_count": 15,
   "id": "b80eb0af",
   "metadata": {},
   "outputs": [
    {
     "ename": "FileNotFoundError",
     "evalue": "[Errno 2] No such file or directory: 'C:\\\\Users\\\\rnand\\\\Desktop\\\\nithya\\\\videos SPA\\\\October 29_Hari Sauri \\\\October 29_Hari Sauri .mp4'",
     "output_type": "error",
     "traceback": [
      "\u001b[1;31m---------------------------------------------------------------------------\u001b[0m",
      "\u001b[1;31mFileNotFoundError\u001b[0m                         Traceback (most recent call last)",
      "Input \u001b[1;32mIn [15]\u001b[0m, in \u001b[0;36m<cell line: 1>\u001b[1;34m()\u001b[0m\n\u001b[1;32m----> 1\u001b[0m \u001b[43mcl_O\u001b[49m\u001b[38;5;241;43m.\u001b[39;49m\u001b[43myt\u001b[49m\u001b[38;5;241;43m.\u001b[39;49m\u001b[43mstreams\u001b[49m\u001b[38;5;241;43m.\u001b[39;49m\u001b[43mfilter\u001b[49m\u001b[43m(\u001b[49m\u001b[43mprogressive\u001b[49m\u001b[38;5;241;43m=\u001b[39;49m\u001b[38;5;28;43;01mTrue\u001b[39;49;00m\u001b[43m,\u001b[49m\u001b[43m \u001b[49m\u001b[43mfile_extension\u001b[49m\u001b[38;5;241;43m=\u001b[39;49m\u001b[38;5;124;43m'\u001b[39;49m\u001b[38;5;124;43mmp4\u001b[39;49m\u001b[38;5;124;43m'\u001b[39;49m\u001b[43m)\u001b[49m\u001b[38;5;241;43m.\u001b[39;49m\u001b[43mget_highest_resolution\u001b[49m\u001b[43m(\u001b[49m\u001b[43m)\u001b[49m\u001b[38;5;241;43m.\u001b[39;49m\u001b[43mdownload\u001b[49m\u001b[43m(\u001b[49m\u001b[43mfilename\u001b[49m\u001b[38;5;241;43m=\u001b[39;49m\u001b[43mcl_O\u001b[49m\u001b[38;5;241;43m.\u001b[39;49m\u001b[43mvideo_name\u001b[49m\u001b[43m)\u001b[49m\n",
      "File \u001b[1;32m~\\anaconda3\\lib\\site-packages\\pytube\\streams.py:250\u001b[0m, in \u001b[0;36mStream.download\u001b[1;34m(self, output_path, filename, filename_prefix, skip_existing, timeout, max_retries)\u001b[0m\n\u001b[0;32m    247\u001b[0m bytes_remaining \u001b[38;5;241m=\u001b[39m \u001b[38;5;28mself\u001b[39m\u001b[38;5;241m.\u001b[39mfilesize\n\u001b[0;32m    248\u001b[0m logger\u001b[38;5;241m.\u001b[39mdebug(\u001b[38;5;124mf\u001b[39m\u001b[38;5;124m'\u001b[39m\u001b[38;5;124mdownloading (\u001b[39m\u001b[38;5;132;01m{\u001b[39;00m\u001b[38;5;28mself\u001b[39m\u001b[38;5;241m.\u001b[39mfilesize\u001b[38;5;132;01m}\u001b[39;00m\u001b[38;5;124m total bytes) file to \u001b[39m\u001b[38;5;132;01m{\u001b[39;00mfile_path\u001b[38;5;132;01m}\u001b[39;00m\u001b[38;5;124m'\u001b[39m)\n\u001b[1;32m--> 250\u001b[0m \u001b[38;5;28;01mwith\u001b[39;00m \u001b[38;5;28;43mopen\u001b[39;49m\u001b[43m(\u001b[49m\u001b[43mfile_path\u001b[49m\u001b[43m,\u001b[49m\u001b[43m \u001b[49m\u001b[38;5;124;43m\"\u001b[39;49m\u001b[38;5;124;43mwb\u001b[39;49m\u001b[38;5;124;43m\"\u001b[39;49m\u001b[43m)\u001b[49m \u001b[38;5;28;01mas\u001b[39;00m fh:\n\u001b[0;32m    251\u001b[0m     \u001b[38;5;28;01mtry\u001b[39;00m:\n\u001b[0;32m    252\u001b[0m         \u001b[38;5;28;01mfor\u001b[39;00m chunk \u001b[38;5;129;01min\u001b[39;00m request\u001b[38;5;241m.\u001b[39mstream(\n\u001b[0;32m    253\u001b[0m             \u001b[38;5;28mself\u001b[39m\u001b[38;5;241m.\u001b[39murl,\n\u001b[0;32m    254\u001b[0m             timeout\u001b[38;5;241m=\u001b[39mtimeout,\n\u001b[0;32m    255\u001b[0m             max_retries\u001b[38;5;241m=\u001b[39mmax_retries\n\u001b[0;32m    256\u001b[0m         ):\n\u001b[0;32m    257\u001b[0m             \u001b[38;5;66;03m# reduce the (bytes) remainder by the length of the chunk.\u001b[39;00m\n",
      "\u001b[1;31mFileNotFoundError\u001b[0m: [Errno 2] No such file or directory: 'C:\\\\Users\\\\rnand\\\\Desktop\\\\nithya\\\\videos SPA\\\\October 29_Hari Sauri \\\\October 29_Hari Sauri .mp4'"
     ]
    }
   ],
   "source": [
    "cl_O.yt.streams.filter(progressive=True, file_extension='mp4').get_highest_resolution().download(filename=cl_O.video_name)"
   ]
  },
  {
   "cell_type": "code",
   "execution_count": 3,
   "id": "c9280e04",
   "metadata": {},
   "outputs": [
    {
     "ename": "NameError",
     "evalue": "name 'video' is not defined",
     "output_type": "error",
     "traceback": [
      "\u001b[1;31m---------------------------------------------------------------------------\u001b[0m",
      "\u001b[1;31mNameError\u001b[0m                                 Traceback (most recent call last)",
      "Input \u001b[1;32mIn [3]\u001b[0m, in \u001b[0;36m<cell line: 1>\u001b[1;34m()\u001b[0m\n\u001b[1;32m----> 1\u001b[0m \u001b[43mvideo\u001b[49m\u001b[38;5;241m.\u001b[39mclose()\n",
      "\u001b[1;31mNameError\u001b[0m: name 'video' is not defined"
     ]
    }
   ],
   "source": [
    "video.close()"
   ]
  },
  {
   "cell_type": "code",
   "execution_count": 8,
   "id": "f84939b8",
   "metadata": {},
   "outputs": [
    {
     "data": {
      "text/plain": [
       "'2'"
      ]
     },
     "execution_count": 8,
     "metadata": {},
     "output_type": "execute_result"
    }
   ],
   "source": [
    "str(cut[1]).split(\".\")[1]"
   ]
  },
  {
   "cell_type": "code",
   "execution_count": null,
   "id": "f945713d",
   "metadata": {},
   "outputs": [],
   "source": [
    "from mimetypes import MimeTypes\n",
    "from googleapiclient.http import MediaFileUpload\n",
    "\n",
    "mimetype = MimeTypes().guess_type(cl_O.savetitle)[0]\n",
    "\n",
    "from googleapiclient.discovery import build\n",
    "service = build('drive', 'v3', credentials=self.creds)\n",
    "\n",
    "\n",
    "media = MediaFileUpload(filepath, mimetype=mimetype)\n",
    "              \n",
    "# Create a new file in the Drive storage\n",
    "file = cl_O.drive.files().create(\n",
    "    body=file_metadata, media_body=media, fields='id')"
   ]
  },
  {
   "cell_type": "code",
   "execution_count": null,
   "id": "3494afe2",
   "metadata": {},
   "outputs": [],
   "source": [
    "\n",
    "folder_id=\"11QFUz_IhNIWtIk7vo4UyqKcOuqxaRd62\"\n",
    "file_metadata = {'title': 'sample.txt', \"parents\": [{\"id\": folder_id, \"kind\": \"drive#childList\"}]}\n",
    "#file_metadata = {\"parents\": [\"id\":\"19SyToVl9Uik6DR0vC4RXRY66HO2C9lpp\",\"kind\": \"drive#file\"]}\n",
    "file1 = drive.CreateFile(metadata=file_metadata)\n",
    "file1.SetContentFile('big.txt')\n",
    "file1.Upload()"
   ]
  },
  {
   "cell_type": "code",
   "execution_count": null,
   "id": "7e606a6c",
   "metadata": {},
   "outputs": [],
   "source": [
    "fileList = drive.ListFile({'q': \"'19SyToVl9Uik6DR0vC4RXRY66HO2C9lpp' in parents and trashed=false\"}).GetList()\n",
    "for file in fileList:\n",
    "    if(file['mimeType'] == \"application/vnd.google-apps.folder\") and file['title']==\"July\":\n",
    "        month_folder = drive.ListFile({'q': \"'\"+file['id']+\"' in parents and trashed=false\"}).GetList()\n",
    "        for each_file in month_folder: \n",
    "            print('Title: %s, ID: %s AND mimeType: %s \\n\\n' % (each_file['title'], each_file['id'], each_file['mimeType']))"
   ]
  },
  {
   "cell_type": "code",
   "execution_count": null,
   "id": "bae55d30",
   "metadata": {},
   "outputs": [],
   "source": [
    "\"'\"+file['id']+\"' in parents and trashed=false\""
   ]
  },
  {
   "cell_type": "code",
   "execution_count": 23,
   "id": "7b2d8438",
   "metadata": {},
   "outputs": [
    {
     "name": "stdout",
     "output_type": "stream",
     "text": [
      "YouTube Link - https://www.youtube.com/watch?v=HaOLZ0VmoCs\n",
      "Tranakarta Dasa\n",
      "[(35.3, 36.1)]\n"
     ]
    },
    {
     "ename": "AttributeError",
     "evalue": "'float' object has no attribute 'split'",
     "output_type": "error",
     "traceback": [
      "\u001b[1;31m---------------------------------------------------------------------------\u001b[0m",
      "\u001b[1;31mAttributeError\u001b[0m                            Traceback (most recent call last)",
      "Input \u001b[1;32mIn [23]\u001b[0m, in \u001b[0;36m<cell line: 2>\u001b[1;34m()\u001b[0m\n\u001b[0;32m     15\u001b[0m \u001b[38;5;66;03m#clips.append(intro_subclip)\u001b[39;00m\n\u001b[0;32m     16\u001b[0m \u001b[38;5;28;01mfor\u001b[39;00m i,cut \u001b[38;5;129;01min\u001b[39;00m \u001b[38;5;28menumerate\u001b[39m(cuts_topple):\n\u001b[1;32m---> 17\u001b[0m     start\u001b[38;5;241m=\u001b[39m\u001b[38;5;28mfloat\u001b[39m(\u001b[43mcut\u001b[49m\u001b[43m[\u001b[49m\u001b[38;5;241;43m0\u001b[39;49m\u001b[43m]\u001b[49m\u001b[38;5;241;43m.\u001b[39;49m\u001b[43msplit\u001b[49m(\u001b[38;5;124m\"\u001b[39m\u001b[38;5;124m:\u001b[39m\u001b[38;5;124m\"\u001b[39m)[\u001b[38;5;241m1\u001b[39m])\u001b[38;5;241m*\u001b[39m\u001b[38;5;241m60\u001b[39m \u001b[38;5;241m+\u001b[39m \u001b[38;5;28mfloat\u001b[39m(cut[\u001b[38;5;241m0\u001b[39m]\u001b[38;5;241m.\u001b[39msplit(\u001b[38;5;124m\"\u001b[39m\u001b[38;5;124m:\u001b[39m\u001b[38;5;124m\"\u001b[39m)[\u001b[38;5;241m2\u001b[39m])\n\u001b[0;32m     18\u001b[0m     end\u001b[38;5;241m=\u001b[39m\u001b[38;5;28mfloat\u001b[39m(cut[\u001b[38;5;241m1\u001b[39m]\u001b[38;5;241m.\u001b[39msplit(\u001b[38;5;124m\"\u001b[39m\u001b[38;5;124m:\u001b[39m\u001b[38;5;124m\"\u001b[39m)[\u001b[38;5;241m1\u001b[39m])\u001b[38;5;241m*\u001b[39m\u001b[38;5;241m60\u001b[39m \u001b[38;5;241m+\u001b[39m \u001b[38;5;28mfloat\u001b[39m(cut[\u001b[38;5;241m1\u001b[39m]\u001b[38;5;241m.\u001b[39msplit(\u001b[38;5;124m\"\u001b[39m\u001b[38;5;124m:\u001b[39m\u001b[38;5;124m\"\u001b[39m)[\u001b[38;5;241m2\u001b[39m])\n\u001b[0;32m     19\u001b[0m     clip \u001b[38;5;241m=\u001b[39m video\u001b[38;5;241m.\u001b[39msubclip(start, end )\n",
      "\u001b[1;31mAttributeError\u001b[0m: 'float' object has no attribute 'split'"
     ]
    }
   ],
   "source": [
    "cl_O.read_spreadsheet()\n",
    "for index,each_record in cl_O.run_records.iterrows():\n",
    "    cl_O.download_video(each_record)\n",
    "    #cl_O.get_clip(each_record)\n",
    "    record =each_record\n",
    "    cut_list=[record[\"Start\"],record[\"End\"],record[\"Start2\"],record[\"End2\"],record[\"Start3\"],record[\"End3\"],record[\"Start4\"],record[\"End4\"],record[\"Start5\"],record[\"End5\"] ]\n",
    "    nonEmpty_cut_list = [i for i in cut_list if i] \n",
    "    cuts_topple=[]\n",
    "    it=iter(nonEmpty_cut_list)\n",
    "    for x in it:\n",
    "        cuts_topple.append((x,next(it)))\n",
    "    print(cuts_topple)    \n",
    "    video= mpy.VideoFileClip(cl_O.video_name)\n",
    "    clips = []\n",
    "    #clips.append(intro_subclip)\n",
    "    for i,cut in enumerate(cuts_topple):\n",
    "        start=float(cut[0].split(\":\")[1])*60 + float(cut[0].split(\":\")[2])\n",
    "        end=float(cut[1].split(\":\")[1])*60 + float(cut[1].split(\":\")[2])\n",
    "        clip = video.subclip(start, end )\n",
    "        #clip.set_fps(25.0)\n",
    "        clips.append(clip)        \n",
    "    final_clip = mpy.concatenate_videoclips(clips,method=\"compose\")        \n",
    "    cl_O.video_clip = cl_O.video_path+'_edited.mp4'\n",
    "    final_clip.write_videofile(cl_O.video_clip,fps=25)\n",
    "    video.close()"
   ]
  },
  {
   "cell_type": "code",
   "execution_count": null,
   "id": "0f20029d",
   "metadata": {},
   "outputs": [],
   "source": [
    "start=float(cut[0].split(\":\")[1])*60 + float(cut[0].split(\":\")[2])"
   ]
  },
  {
   "cell_type": "code",
   "execution_count": null,
   "id": "bcf5700d",
   "metadata": {},
   "outputs": [],
   "source": [
    "float(cut[0].split(\":\")[1])*60"
   ]
  },
  {
   "cell_type": "code",
   "execution_count": null,
   "id": "c6c258e3",
   "metadata": {},
   "outputs": [],
   "source": [
    "cut[0].split(\":\")"
   ]
  },
  {
   "cell_type": "code",
   "execution_count": null,
   "id": "3879ffaa",
   "metadata": {},
   "outputs": [],
   "source": [
    "crop_w=50\n",
    "crop_h=0\n",
    "max_l =50\n",
    "x=20\n",
    "y=20\n",
    "width = 100\n",
    "height = 150\n",
    "cut_w = min(x+int(max_l+max_l),width)\n",
    "cut_h = min(y+int(max_l+max_l),height)\n",
    "cut_w = crop_w if crop_w else cut_w\n",
    "cut_h = crop_h if crop_h else cut_h\n",
    "print(cut_w,cut_h)"
   ]
  },
  {
   "cell_type": "code",
   "execution_count": null,
   "id": "82c8473a",
   "metadata": {},
   "outputs": [],
   "source": [
    "video.get(cv2.CAP_PROP_FRAME_WIDTH)\n",
    "video.get(cv2.CAP_PROP_FRAME_HEIGHT)"
   ]
  },
  {
   "cell_type": "code",
   "execution_count": null,
   "id": "61a2e225",
   "metadata": {},
   "outputs": [],
   "source": [
    "\n",
    "import moviepy.editor as mpy\n",
    "\n",
    "cl_O.video_cropped = cl_O.video_path+'_cropped.mp4'\n",
    "video_edited_final = cl_O.video_path+'blur.mp4'\n",
    "pad=6\n",
    "with mpy.VideoFileClip(cl_O.video_cropped) as video:\n",
    "    if video.aspect_ratio < 1.8:\n",
    "        video.write_videofile(\n",
    "            video_edited_final,\n",
    "            #ffmpeg_params=['-lavfi', '[0:v]scale=-1:ih*16/9,boxblur=luma_radius=min(h\\,w)/20:luma_power=1:chroma_radius=min(cw\\,ch)/20:chroma_power=1[bg];[bg][0:v]overlay=(W-w)/2:(H-h)/2,crop=h=iw*9/16']\n",
    "            #ffmpeg_params=[\"-lavfi\", \"[0:v] scale=350:640,boxblur=5[bg];[0:v]scale=350:500,pad=w=350:h=510:x=0:y=5:color=black [paded];[bg][paded]overlay=trunc((W-w)/2):trunc((H-h)/2)[prefinal];movie=logo_final2.png [watermark]; [prefinal][watermark] overlay=main_w-overlay_w-5:10\"]\n",
    "            ffmpeg_params=[\"-lavfi\", \"[0:v] scale=350:640,boxblur=4[bg];[0:v]scale=350:520,pad=350:\"+str(520+2*pad)+\":0:\"+str(pad)+\":color=black [paded];[bg][paded]overlay=(W-w)/2:(H-h)/2[prefinal];movie=logo_final2.png [watermark]; [prefinal][watermark] overlay=main_w-overlay_w-5:6\"]\n",
    "\n",
    "            #ffmpeg_params=[\"-lavfi\", \"[0:v]scale=-1:720[scaled_video];[1:v]scale=1280:720,boxblur=50[blur_image];[blur_image][scaled_video]overlay=(main_w-overlay_w)/2:(main_h-overlay_h)/2[outv]\"]\n",
    "        )"
   ]
  },
  {
   "cell_type": "code",
   "execution_count": null,
   "id": "ab4c4fe7",
   "metadata": {},
   "outputs": [],
   "source": [
    "\"-lavfi\", \"[0:v] scale=350:640,boxblur=4[bg];[0:v][0:v]scale=350:520,pad=350:532:0:\"+str(6)+\":color=black [paded];[bg][paded]overlay=(W-w)/2:(H-h)/2[prefinal];movie=logo_final2.png [watermark]; [prefinal][watermark] overlay=main_w-overlay_w-5:6\".format(pad)"
   ]
  },
  {
   "cell_type": "code",
   "execution_count": null,
   "id": "91b59624",
   "metadata": {},
   "outputs": [],
   "source": []
  },
  {
   "cell_type": "code",
   "execution_count": null,
   "id": "5b8b6111",
   "metadata": {},
   "outputs": [],
   "source": []
  },
  {
   "cell_type": "code",
   "execution_count": null,
   "id": "6d0ebf31",
   "metadata": {},
   "outputs": [],
   "source": []
  },
  {
   "cell_type": "code",
   "execution_count": null,
   "id": "9f0e29ab",
   "metadata": {},
   "outputs": [],
   "source": []
  }
 ],
 "metadata": {
  "kernelspec": {
   "display_name": "Python 3 (ipykernel)",
   "language": "python",
   "name": "python3"
  },
  "language_info": {
   "codemirror_mode": {
    "name": "ipython",
    "version": 3
   },
   "file_extension": ".py",
   "mimetype": "text/x-python",
   "name": "python",
   "nbconvert_exporter": "python",
   "pygments_lexer": "ipython3",
   "version": "3.9.12"
  }
 },
 "nbformat": 4,
 "nbformat_minor": 5
}
