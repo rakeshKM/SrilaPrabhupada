{
 "cells": [
  {
   "cell_type": "code",
   "execution_count": 1,
   "id": "d05f8237",
   "metadata": {},
   "outputs": [
    {
     "name": "stdout",
     "output_type": "stream",
     "text": [
      "Your browser has been opened to visit:\n",
      "\n",
      "    https://accounts.google.com/o/oauth2/auth?client_id=6241901948-jgbd6m744b6l85jk8gpt924oqj1ik232.apps.googleusercontent.com&redirect_uri=http%3A%2F%2Flocalhost%3A8080%2F&scope=https%3A%2F%2Fwww.googleapis.com%2Fauth%2Fdrive&access_type=offline&response_type=code\n",
      "\n",
      "Authentication successful.\n"
     ]
    }
   ],
   "source": [
    "from pydrive.auth import GoogleAuth\n",
    "from pydrive.drive import GoogleDrive\n",
    "\n",
    "#1st authentification\n",
    "gauth = GoogleAuth()\n",
    "gauth.LocalWebserverAuth() # Creates local webserver and auto handles \n",
    "#authentication\n",
    "drive = GoogleDrive(gauth)"
   ]
  },
  {
   "cell_type": "code",
   "execution_count": 2,
   "id": "8dcba21d",
   "metadata": {
    "scrolled": false
   },
   "outputs": [
    {
     "name": "stdout",
     "output_type": "stream",
     "text": [
      "YouTube Link - https://www.youtube.com/watch?v=bnVgq95t7fI\n",
      "Tattvavit\n",
      "[(5.36, 7.18)]\n",
      "Moviepy - Building video C:\\Users\\rnand\\Desktop\\nithya\\videos SPA\\September 5_Tattvavit\\September 5_Tattvavit_clip.mp4.\n",
      "MoviePy - Writing audio in September 5_Tattvavit_clipTEMP_MPY_wvf_snd.mp3\n"
     ]
    },
    {
     "name": "stderr",
     "output_type": "stream",
     "text": [
      "                                                                                                                       \r"
     ]
    },
    {
     "name": "stdout",
     "output_type": "stream",
     "text": [
      "MoviePy - Done.\n",
      "Moviepy - Writing video C:\\Users\\rnand\\Desktop\\nithya\\videos SPA\\September 5_Tattvavit\\September 5_Tattvavit_clip.mp4\n",
      "\n"
     ]
    },
    {
     "name": "stderr",
     "output_type": "stream",
     "text": [
      "                                                                                                                       \r"
     ]
    },
    {
     "name": "stdout",
     "output_type": "stream",
     "text": [
      "Moviepy - Done !\n",
      "Moviepy - video ready C:\\Users\\rnand\\Desktop\\nithya\\videos SPA\\September 5_Tattvavit\\September 5_Tattvavit_clip.mp4\n",
      "Cropping at point x 200 point y 40 width 200 and height at 250\n",
      "Moviepy - Building video C:\\Users\\rnand\\Desktop\\nithya\\videos SPA\\September 5_Tattvavit\\September 5_Tattvavit_crop.mp4.\n",
      "MoviePy - Writing audio in September 5_Tattvavit_cropTEMP_MPY_wvf_snd.mp4\n"
     ]
    },
    {
     "name": "stderr",
     "output_type": "stream",
     "text": [
      "                                                                                                                       \r"
     ]
    },
    {
     "name": "stdout",
     "output_type": "stream",
     "text": [
      "MoviePy - Done.\n",
      "Moviepy - Writing video C:\\Users\\rnand\\Desktop\\nithya\\videos SPA\\September 5_Tattvavit\\September 5_Tattvavit_crop.mp4\n",
      "\n"
     ]
    },
    {
     "name": "stderr",
     "output_type": "stream",
     "text": [
      "                                                                                                                       \r"
     ]
    },
    {
     "name": "stdout",
     "output_type": "stream",
     "text": [
      "Moviepy - Done !\n",
      "Moviepy - video ready C:\\Users\\rnand\\Desktop\\nithya\\videos SPA\\September 5_Tattvavit\\September 5_Tattvavit_crop.mp4\n",
      "MoviePy error: the file C:\\Users\\rnand\\Desktop\\nithya\\videos SPA\\September 5_Tattvavit\\September 5_Tattvavit_crop.mp4 could not be found!\n",
      "Please check that you entered the correct path.\n",
      "Moviepy - Building video C:\\Users\\rnand\\Desktop\\nithya\\videos SPA\\September 5_Tattvavit\\September 5_Tattvavitblur_background_logo_strip_added.mp4.\n",
      "MoviePy - Writing audio in September 5_Tattvavitblur_background_logo_strip_addedTEMP_MPY_wvf_snd.mp3\n"
     ]
    },
    {
     "name": "stderr",
     "output_type": "stream",
     "text": [
      "                                                                                                                       \r"
     ]
    },
    {
     "name": "stdout",
     "output_type": "stream",
     "text": [
      "MoviePy - Done.\n",
      "Moviepy - Writing video C:\\Users\\rnand\\Desktop\\nithya\\videos SPA\\September 5_Tattvavit\\September 5_Tattvavitblur_background_logo_strip_added.mp4\n",
      "\n"
     ]
    },
    {
     "name": "stderr",
     "output_type": "stream",
     "text": [
      "                                                                                                                       \r"
     ]
    },
    {
     "name": "stdout",
     "output_type": "stream",
     "text": [
      "Moviepy - Done !\n",
      "Moviepy - video ready C:\\Users\\rnand\\Desktop\\nithya\\videos SPA\\September 5_Tattvavit\\September 5_Tattvavitblur_background_logo_strip_added.mp4\n",
      "Moviepy - Building video C:\\Users\\rnand\\Desktop\\nithya\\videos SPA\\September 5_Tattvavit\\September 5_Tattvavit_short.mp4.\n",
      "MoviePy - Writing audio in September 5_Tattvavit_shortTEMP_MPY_wvf_snd.mp4\n"
     ]
    },
    {
     "name": "stderr",
     "output_type": "stream",
     "text": [
      "                                                                                                                       \r"
     ]
    },
    {
     "name": "stdout",
     "output_type": "stream",
     "text": [
      "MoviePy - Done.\n",
      "Moviepy - Writing video C:\\Users\\rnand\\Desktop\\nithya\\videos SPA\\September 5_Tattvavit\\September 5_Tattvavit_short.mp4\n",
      "\n"
     ]
    },
    {
     "name": "stderr",
     "output_type": "stream",
     "text": [
      "                                                                                                                       \r"
     ]
    },
    {
     "name": "stdout",
     "output_type": "stream",
     "text": [
      "Moviepy - Done !\n",
      "Moviepy - video ready C:\\Users\\rnand\\Desktop\\nithya\\videos SPA\\September 5_Tattvavit\\September 5_Tattvavit_short.mp4\n",
      "Uploading the files\n",
      "Saving in the month folder September and date folder 5\n",
      "Months folder ID 1K9hzKE8PEpq1Os_PQYNaF9bTmeADZ4TE\n",
      "Date folder ID 1BazUTbnW0pdoDPQByFpMFJMbhMBkh6U5\n",
      "YouTube Link - https://www.youtube.com/watch?v=kVYQJo-C4K4\n",
      "Giriraj Swami\n",
      "[(2.39, 3.53)]\n",
      "Moviepy - Building video C:\\Users\\rnand\\Desktop\\nithya\\videos SPA\\September 6_Giriraj Swami\\September 6_Giriraj Swami_clip.mp4.\n",
      "MoviePy - Writing audio in September 6_Giriraj Swami_clipTEMP_MPY_wvf_snd.mp3\n"
     ]
    },
    {
     "name": "stderr",
     "output_type": "stream",
     "text": [
      "                                                                                                                       \r"
     ]
    },
    {
     "name": "stdout",
     "output_type": "stream",
     "text": [
      "MoviePy - Done.\n",
      "Moviepy - Writing video C:\\Users\\rnand\\Desktop\\nithya\\videos SPA\\September 6_Giriraj Swami\\September 6_Giriraj Swami_clip.mp4\n",
      "\n"
     ]
    },
    {
     "name": "stderr",
     "output_type": "stream",
     "text": [
      "                                                                                                                       \r"
     ]
    },
    {
     "name": "stdout",
     "output_type": "stream",
     "text": [
      "Moviepy - Done !\n",
      "Moviepy - video ready C:\\Users\\rnand\\Desktop\\nithya\\videos SPA\\September 6_Giriraj Swami\\September 6_Giriraj Swami_clip.mp4\n",
      "Cropping at point x 200 point y 40 width 200 and height at 250\n",
      "Moviepy - Building video C:\\Users\\rnand\\Desktop\\nithya\\videos SPA\\September 6_Giriraj Swami\\September 6_Giriraj Swami_crop.mp4.\n",
      "MoviePy - Writing audio in September 6_Giriraj Swami_cropTEMP_MPY_wvf_snd.mp4\n"
     ]
    },
    {
     "name": "stderr",
     "output_type": "stream",
     "text": [
      "                                                                                                                       \r"
     ]
    },
    {
     "name": "stdout",
     "output_type": "stream",
     "text": [
      "MoviePy - Done.\n",
      "Moviepy - Writing video C:\\Users\\rnand\\Desktop\\nithya\\videos SPA\\September 6_Giriraj Swami\\September 6_Giriraj Swami_crop.mp4\n",
      "\n"
     ]
    },
    {
     "name": "stderr",
     "output_type": "stream",
     "text": [
      "                                                                                                                       \r"
     ]
    },
    {
     "name": "stdout",
     "output_type": "stream",
     "text": [
      "Moviepy - Done !\n",
      "Moviepy - video ready C:\\Users\\rnand\\Desktop\\nithya\\videos SPA\\September 6_Giriraj Swami\\September 6_Giriraj Swami_crop.mp4\n",
      "MoviePy error: the file C:\\Users\\rnand\\Desktop\\nithya\\videos SPA\\September 6_Giriraj Swami\\September 6_Giriraj Swami_crop.mp4 could not be found!\n",
      "Please check that you entered the correct path.\n",
      "Moviepy - Building video C:\\Users\\rnand\\Desktop\\nithya\\videos SPA\\September 6_Giriraj Swami\\September 6_Giriraj Swamiblur_background_logo_strip_added.mp4.\n",
      "MoviePy - Writing audio in September 6_Giriraj Swamiblur_background_logo_strip_addedTEMP_MPY_wvf_snd.mp3\n"
     ]
    },
    {
     "name": "stderr",
     "output_type": "stream",
     "text": [
      "                                                                                                                       \r"
     ]
    },
    {
     "name": "stdout",
     "output_type": "stream",
     "text": [
      "MoviePy - Done.\n",
      "Moviepy - Writing video C:\\Users\\rnand\\Desktop\\nithya\\videos SPA\\September 6_Giriraj Swami\\September 6_Giriraj Swamiblur_background_logo_strip_added.mp4\n",
      "\n"
     ]
    },
    {
     "name": "stderr",
     "output_type": "stream",
     "text": [
      "                                                                                                                       \r"
     ]
    },
    {
     "name": "stdout",
     "output_type": "stream",
     "text": [
      "Moviepy - Done !\n",
      "Moviepy - video ready C:\\Users\\rnand\\Desktop\\nithya\\videos SPA\\September 6_Giriraj Swami\\September 6_Giriraj Swamiblur_background_logo_strip_added.mp4\n",
      "Moviepy - Building video C:\\Users\\rnand\\Desktop\\nithya\\videos SPA\\September 6_Giriraj Swami\\September 6_Giriraj Swami_short.mp4.\n",
      "MoviePy - Writing audio in September 6_Giriraj Swami_shortTEMP_MPY_wvf_snd.mp4\n"
     ]
    },
    {
     "name": "stderr",
     "output_type": "stream",
     "text": [
      "                                                                                                                       \r"
     ]
    },
    {
     "name": "stdout",
     "output_type": "stream",
     "text": [
      "MoviePy - Done.\n",
      "Moviepy - Writing video C:\\Users\\rnand\\Desktop\\nithya\\videos SPA\\September 6_Giriraj Swami\\September 6_Giriraj Swami_short.mp4\n",
      "\n"
     ]
    },
    {
     "name": "stderr",
     "output_type": "stream",
     "text": [
      "                                                                                                                       \r"
     ]
    },
    {
     "name": "stdout",
     "output_type": "stream",
     "text": [
      "Moviepy - Done !\n",
      "Moviepy - video ready C:\\Users\\rnand\\Desktop\\nithya\\videos SPA\\September 6_Giriraj Swami\\September 6_Giriraj Swami_short.mp4\n",
      "Uploading the files\n",
      "Saving in the month folder September and date folder 6\n",
      "Months folder ID 1K9hzKE8PEpq1Os_PQYNaF9bTmeADZ4TE\n",
      "Date folder ID 1EObLvY2oG1LBOVFNm7cim4jdpXiO3qLa\n",
      "YouTube Link - https://www.youtube.com/watch?v=WeMH4808F-g\n",
      "Indradyumna Swami\n",
      "[(40.45, 41.31)]\n",
      "Moviepy - Building video C:\\Users\\rnand\\Desktop\\nithya\\videos SPA\\September 7_Indradyumna Swami\\September 7_Indradyumna Swami_clip.mp4.\n",
      "MoviePy - Writing audio in September 7_Indradyumna Swami_clipTEMP_MPY_wvf_snd.mp3\n"
     ]
    },
    {
     "name": "stderr",
     "output_type": "stream",
     "text": [
      "                                                                                                                       \r"
     ]
    },
    {
     "name": "stdout",
     "output_type": "stream",
     "text": [
      "MoviePy - Done.\n",
      "Moviepy - Writing video C:\\Users\\rnand\\Desktop\\nithya\\videos SPA\\September 7_Indradyumna Swami\\September 7_Indradyumna Swami_clip.mp4\n",
      "\n"
     ]
    },
    {
     "name": "stderr",
     "output_type": "stream",
     "text": [
      "                                                                                                                       \r"
     ]
    },
    {
     "name": "stdout",
     "output_type": "stream",
     "text": [
      "Moviepy - Done !\n",
      "Moviepy - video ready C:\\Users\\rnand\\Desktop\\nithya\\videos SPA\\September 7_Indradyumna Swami\\September 7_Indradyumna Swami_clip.mp4\n",
      "Cropping at point x 200 point y 40 width 200 and height at 250\n",
      "Moviepy - Building video C:\\Users\\rnand\\Desktop\\nithya\\videos SPA\\September 7_Indradyumna Swami\\September 7_Indradyumna Swami_crop.mp4.\n",
      "MoviePy - Writing audio in September 7_Indradyumna Swami_cropTEMP_MPY_wvf_snd.mp4\n"
     ]
    },
    {
     "name": "stderr",
     "output_type": "stream",
     "text": [
      "                                                                                                                       \r"
     ]
    },
    {
     "name": "stdout",
     "output_type": "stream",
     "text": [
      "MoviePy - Done.\n",
      "Moviepy - Writing video C:\\Users\\rnand\\Desktop\\nithya\\videos SPA\\September 7_Indradyumna Swami\\September 7_Indradyumna Swami_crop.mp4\n",
      "\n"
     ]
    },
    {
     "name": "stderr",
     "output_type": "stream",
     "text": [
      "                                                                                                                       \r"
     ]
    },
    {
     "name": "stdout",
     "output_type": "stream",
     "text": [
      "Moviepy - Done !\n",
      "Moviepy - video ready C:\\Users\\rnand\\Desktop\\nithya\\videos SPA\\September 7_Indradyumna Swami\\September 7_Indradyumna Swami_crop.mp4\n",
      "MoviePy error: the file C:\\Users\\rnand\\Desktop\\nithya\\videos SPA\\September 7_Indradyumna Swami\\September 7_Indradyumna Swami_crop.mp4 could not be found!\n",
      "Please check that you entered the correct path.\n",
      "Moviepy - Building video C:\\Users\\rnand\\Desktop\\nithya\\videos SPA\\September 7_Indradyumna Swami\\September 7_Indradyumna Swamiblur_background_logo_strip_added.mp4.\n",
      "MoviePy - Writing audio in September 7_Indradyumna Swamiblur_background_logo_strip_addedTEMP_MPY_wvf_snd.mp3\n"
     ]
    },
    {
     "name": "stderr",
     "output_type": "stream",
     "text": [
      "                                                                                                                       \r"
     ]
    },
    {
     "name": "stdout",
     "output_type": "stream",
     "text": [
      "MoviePy - Done.\n",
      "Moviepy - Writing video C:\\Users\\rnand\\Desktop\\nithya\\videos SPA\\September 7_Indradyumna Swami\\September 7_Indradyumna Swamiblur_background_logo_strip_added.mp4\n",
      "\n"
     ]
    },
    {
     "name": "stderr",
     "output_type": "stream",
     "text": [
      "                                                                                                                       \r"
     ]
    },
    {
     "name": "stdout",
     "output_type": "stream",
     "text": [
      "Moviepy - Done !\n",
      "Moviepy - video ready C:\\Users\\rnand\\Desktop\\nithya\\videos SPA\\September 7_Indradyumna Swami\\September 7_Indradyumna Swamiblur_background_logo_strip_added.mp4\n",
      "Moviepy - Building video C:\\Users\\rnand\\Desktop\\nithya\\videos SPA\\September 7_Indradyumna Swami\\September 7_Indradyumna Swami_short.mp4.\n",
      "MoviePy - Writing audio in September 7_Indradyumna Swami_shortTEMP_MPY_wvf_snd.mp4\n"
     ]
    },
    {
     "name": "stderr",
     "output_type": "stream",
     "text": [
      "                                                                                                                       \r"
     ]
    },
    {
     "name": "stdout",
     "output_type": "stream",
     "text": [
      "MoviePy - Done.\n",
      "Moviepy - Writing video C:\\Users\\rnand\\Desktop\\nithya\\videos SPA\\September 7_Indradyumna Swami\\September 7_Indradyumna Swami_short.mp4\n",
      "\n"
     ]
    },
    {
     "name": "stderr",
     "output_type": "stream",
     "text": [
      "                                                                                                                       \r"
     ]
    },
    {
     "name": "stdout",
     "output_type": "stream",
     "text": [
      "Moviepy - Done !\n",
      "Moviepy - video ready C:\\Users\\rnand\\Desktop\\nithya\\videos SPA\\September 7_Indradyumna Swami\\September 7_Indradyumna Swami_short.mp4\n",
      "Uploading the files\n",
      "Saving in the month folder September and date folder 7\n",
      "Months folder ID 1K9hzKE8PEpq1Os_PQYNaF9bTmeADZ4TE\n",
      "Date folder ID 1UeXYvk7cuAGTydQhNp9P7riP8LF5HpC-\n",
      "YouTube Link - https://www.youtube.com/watch?v=JVicqXSywKA\n",
      "Jayapataka Swami\n",
      "Download was not successful\n",
      "[(18.39, 20.38)]\n"
     ]
    },
    {
     "ename": "OSError",
     "evalue": "MoviePy error: failed to read the first frame of video file C:\\Users\\rnand\\Desktop\\nithya\\videos SPA\\September 8_Jayapataka Swami\\September 8_Jayapataka Swami.mp4. That might mean that the file is corrupted. That may also mean that you are using a deprecated version of FFMPEG. On Ubuntu/Debian for instance the version in the repos is deprecated. Please update to a recent version from the website.",
     "output_type": "error",
     "traceback": [
      "\u001b[1;31m---------------------------------------------------------------------------\u001b[0m",
      "\u001b[1;31mOSError\u001b[0m                                   Traceback (most recent call last)",
      "Input \u001b[1;32mIn [2]\u001b[0m, in \u001b[0;36m<cell line: 287>\u001b[1;34m()\u001b[0m\n\u001b[0;32m    288\u001b[0m upload\u001b[38;5;241m=\u001b[39m \u001b[38;5;28;01mTrue\u001b[39;00m\n\u001b[0;32m    289\u001b[0m cl_O\u001b[38;5;241m=\u001b[39mMakingVideo(upload, drive)\n\u001b[1;32m--> 290\u001b[0m \u001b[43mcl_O\u001b[49m\u001b[38;5;241;43m.\u001b[39;49m\u001b[43mstart\u001b[49m\u001b[43m(\u001b[49m\u001b[43m)\u001b[49m\n",
      "Input \u001b[1;32mIn [2]\u001b[0m, in \u001b[0;36mMakingVideo.start\u001b[1;34m(self)\u001b[0m\n\u001b[0;32m    273\u001b[0m \u001b[38;5;28;01mfor\u001b[39;00m index,each_record \u001b[38;5;129;01min\u001b[39;00m \u001b[38;5;28mself\u001b[39m\u001b[38;5;241m.\u001b[39mrun_records\u001b[38;5;241m.\u001b[39miterrows():\n\u001b[0;32m    274\u001b[0m     \u001b[38;5;28mself\u001b[39m\u001b[38;5;241m.\u001b[39mdownload_video(each_record)\n\u001b[1;32m--> 275\u001b[0m     \u001b[38;5;28;43mself\u001b[39;49m\u001b[38;5;241;43m.\u001b[39;49m\u001b[43mget_clip\u001b[49m\u001b[43m(\u001b[49m\u001b[43meach_record\u001b[49m\u001b[43m)\u001b[49m\n\u001b[0;32m    276\u001b[0m     \u001b[38;5;28;01mtry\u001b[39;00m:\n\u001b[0;32m    277\u001b[0m         \u001b[38;5;28mself\u001b[39m\u001b[38;5;241m.\u001b[39mcrop_clip(\u001b[38;5;241m200\u001b[39m,\u001b[38;5;241m40\u001b[39m,\u001b[38;5;241m200\u001b[39m,\u001b[38;5;241m250\u001b[39m)\n",
      "Input \u001b[1;32mIn [2]\u001b[0m, in \u001b[0;36mMakingVideo.get_clip\u001b[1;34m(self, record)\u001b[0m\n\u001b[0;32m    110\u001b[0m     start \u001b[38;5;241m=\u001b[39m start\u001b[38;5;241m*\u001b[39m\u001b[38;5;241m60\u001b[39m\u001b[38;5;241m+\u001b[39m\u001b[38;5;28mfloat\u001b[39m(\u001b[38;5;28mstr\u001b[39m(cut[\u001b[38;5;241m0\u001b[39m])\u001b[38;5;241m.\u001b[39msplit(\u001b[38;5;124m\"\u001b[39m\u001b[38;5;124m.\u001b[39m\u001b[38;5;124m\"\u001b[39m)[\u001b[38;5;241m2\u001b[39m])\n\u001b[0;32m    111\u001b[0m     end \u001b[38;5;241m=\u001b[39m end\u001b[38;5;241m*\u001b[39m\u001b[38;5;241m60\u001b[39m\u001b[38;5;241m+\u001b[39m\u001b[38;5;28mfloat\u001b[39m(\u001b[38;5;28mstr\u001b[39m(cut[\u001b[38;5;241m1\u001b[39m])\u001b[38;5;241m.\u001b[39msplit(\u001b[38;5;124m\"\u001b[39m\u001b[38;5;124m.\u001b[39m\u001b[38;5;124m\"\u001b[39m)[\u001b[38;5;241m2\u001b[39m])\n\u001b[1;32m--> 113\u001b[0m clip \u001b[38;5;241m=\u001b[39m \u001b[43mvideo\u001b[49m\u001b[38;5;241;43m.\u001b[39;49m\u001b[43msubclip\u001b[49m\u001b[43m(\u001b[49m\u001b[43mstart\u001b[49m\u001b[43m,\u001b[49m\u001b[43m \u001b[49m\u001b[43mend\u001b[49m\u001b[43m \u001b[49m\u001b[43m)\u001b[49m\n\u001b[0;32m    114\u001b[0m \u001b[38;5;66;03m#clip.set_fps(25.0)\u001b[39;00m\n\u001b[0;32m    115\u001b[0m clips\u001b[38;5;241m.\u001b[39mappend(clip)        \n",
      "File \u001b[1;32m<decorator-gen-55>:2\u001b[0m, in \u001b[0;36msubclip\u001b[1;34m(self, t_start, t_end)\u001b[0m\n",
      "File \u001b[1;32m~\\anaconda3\\lib\\site-packages\\moviepy\\decorators.py:89\u001b[0m, in \u001b[0;36mpreprocess_args.<locals>.wrapper\u001b[1;34m(f, *a, **kw)\u001b[0m\n\u001b[0;32m     85\u001b[0m new_a \u001b[38;5;241m=\u001b[39m [fun(arg) \u001b[38;5;28;01mif\u001b[39;00m (name \u001b[38;5;129;01min\u001b[39;00m varnames) \u001b[38;5;28;01melse\u001b[39;00m arg\n\u001b[0;32m     86\u001b[0m          \u001b[38;5;28;01mfor\u001b[39;00m (arg, name) \u001b[38;5;129;01min\u001b[39;00m \u001b[38;5;28mzip\u001b[39m(a, names)]\n\u001b[0;32m     87\u001b[0m new_kw \u001b[38;5;241m=\u001b[39m {k: fun(v) \u001b[38;5;28;01mif\u001b[39;00m k \u001b[38;5;129;01min\u001b[39;00m varnames \u001b[38;5;28;01melse\u001b[39;00m v\n\u001b[0;32m     88\u001b[0m          \u001b[38;5;28;01mfor\u001b[39;00m (k,v) \u001b[38;5;129;01min\u001b[39;00m kw\u001b[38;5;241m.\u001b[39mitems()}\n\u001b[1;32m---> 89\u001b[0m \u001b[38;5;28;01mreturn\u001b[39;00m f(\u001b[38;5;241m*\u001b[39mnew_a, \u001b[38;5;241m*\u001b[39m\u001b[38;5;241m*\u001b[39mnew_kw)\n",
      "File \u001b[1;32m<decorator-gen-54>:2\u001b[0m, in \u001b[0;36msubclip\u001b[1;34m(self, t_start, t_end)\u001b[0m\n",
      "File \u001b[1;32m~\\anaconda3\\lib\\site-packages\\moviepy\\decorators.py:29\u001b[0m, in \u001b[0;36mapply_to_mask\u001b[1;34m(f, clip, *a, **k)\u001b[0m\n\u001b[0;32m     24\u001b[0m \u001b[38;5;129m@decorator\u001b[39m\u001b[38;5;241m.\u001b[39mdecorator\n\u001b[0;32m     25\u001b[0m \u001b[38;5;28;01mdef\u001b[39;00m \u001b[38;5;21mapply_to_mask\u001b[39m(f, clip, \u001b[38;5;241m*\u001b[39ma, \u001b[38;5;241m*\u001b[39m\u001b[38;5;241m*\u001b[39mk):\n\u001b[0;32m     26\u001b[0m     \u001b[38;5;124;03m\"\"\" This decorator will apply the same function f to the mask of\u001b[39;00m\n\u001b[0;32m     27\u001b[0m \u001b[38;5;124;03m        the clip created with f \"\"\"\u001b[39;00m\n\u001b[1;32m---> 29\u001b[0m     newclip \u001b[38;5;241m=\u001b[39m f(clip, \u001b[38;5;241m*\u001b[39ma, \u001b[38;5;241m*\u001b[39m\u001b[38;5;241m*\u001b[39mk)\n\u001b[0;32m     30\u001b[0m     \u001b[38;5;28;01mif\u001b[39;00m \u001b[38;5;28mgetattr\u001b[39m(newclip, \u001b[38;5;124m'\u001b[39m\u001b[38;5;124mmask\u001b[39m\u001b[38;5;124m'\u001b[39m, \u001b[38;5;28;01mNone\u001b[39;00m):\n\u001b[0;32m     31\u001b[0m         newclip\u001b[38;5;241m.\u001b[39mmask \u001b[38;5;241m=\u001b[39m f(newclip\u001b[38;5;241m.\u001b[39mmask, \u001b[38;5;241m*\u001b[39ma, \u001b[38;5;241m*\u001b[39m\u001b[38;5;241m*\u001b[39mk)\n",
      "File \u001b[1;32m<decorator-gen-53>:2\u001b[0m, in \u001b[0;36msubclip\u001b[1;34m(self, t_start, t_end)\u001b[0m\n",
      "File \u001b[1;32m~\\anaconda3\\lib\\site-packages\\moviepy\\decorators.py:41\u001b[0m, in \u001b[0;36mapply_to_audio\u001b[1;34m(f, clip, *a, **k)\u001b[0m\n\u001b[0;32m     36\u001b[0m \u001b[38;5;129m@decorator\u001b[39m\u001b[38;5;241m.\u001b[39mdecorator\n\u001b[0;32m     37\u001b[0m \u001b[38;5;28;01mdef\u001b[39;00m \u001b[38;5;21mapply_to_audio\u001b[39m(f, clip, \u001b[38;5;241m*\u001b[39ma, \u001b[38;5;241m*\u001b[39m\u001b[38;5;241m*\u001b[39mk):\n\u001b[0;32m     38\u001b[0m     \u001b[38;5;124;03m\"\"\" This decorator will apply the function f to the audio of\u001b[39;00m\n\u001b[0;32m     39\u001b[0m \u001b[38;5;124;03m        the clip created with f \"\"\"\u001b[39;00m\n\u001b[1;32m---> 41\u001b[0m     newclip \u001b[38;5;241m=\u001b[39m f(clip, \u001b[38;5;241m*\u001b[39ma, \u001b[38;5;241m*\u001b[39m\u001b[38;5;241m*\u001b[39mk)\n\u001b[0;32m     42\u001b[0m     \u001b[38;5;28;01mif\u001b[39;00m \u001b[38;5;28mgetattr\u001b[39m(newclip, \u001b[38;5;124m'\u001b[39m\u001b[38;5;124maudio\u001b[39m\u001b[38;5;124m'\u001b[39m, \u001b[38;5;28;01mNone\u001b[39;00m):\n\u001b[0;32m     43\u001b[0m         newclip\u001b[38;5;241m.\u001b[39maudio \u001b[38;5;241m=\u001b[39m f(newclip\u001b[38;5;241m.\u001b[39maudio, \u001b[38;5;241m*\u001b[39ma, \u001b[38;5;241m*\u001b[39m\u001b[38;5;241m*\u001b[39mk)\n",
      "File \u001b[1;32m~\\anaconda3\\lib\\site-packages\\moviepy\\Clip.py:389\u001b[0m, in \u001b[0;36mClip.subclip\u001b[1;34m(self, t_start, t_end)\u001b[0m\n\u001b[0;32m    384\u001b[0m \u001b[38;5;28;01mif\u001b[39;00m (\u001b[38;5;28mself\u001b[39m\u001b[38;5;241m.\u001b[39mduration \u001b[38;5;129;01mis\u001b[39;00m \u001b[38;5;129;01mnot\u001b[39;00m \u001b[38;5;28;01mNone\u001b[39;00m) \u001b[38;5;129;01mand\u001b[39;00m (t_start \u001b[38;5;241m>\u001b[39m \u001b[38;5;28mself\u001b[39m\u001b[38;5;241m.\u001b[39mduration):\n\u001b[0;32m    385\u001b[0m     \u001b[38;5;28;01mraise\u001b[39;00m \u001b[38;5;167;01mValueError\u001b[39;00m(\u001b[38;5;124m\"\u001b[39m\u001b[38;5;124mt_start (\u001b[39m\u001b[38;5;132;01m%.02f\u001b[39;00m\u001b[38;5;124m) \u001b[39m\u001b[38;5;124m\"\u001b[39m \u001b[38;5;241m%\u001b[39m t_start \u001b[38;5;241m+\u001b[39m\n\u001b[0;32m    386\u001b[0m                      \u001b[38;5;124m\"\u001b[39m\u001b[38;5;124mshould be smaller than the clip\u001b[39m\u001b[38;5;124m'\u001b[39m\u001b[38;5;124ms \u001b[39m\u001b[38;5;124m\"\u001b[39m \u001b[38;5;241m+\u001b[39m\n\u001b[0;32m    387\u001b[0m                      \u001b[38;5;124m\"\u001b[39m\u001b[38;5;124mduration (\u001b[39m\u001b[38;5;132;01m%.02f\u001b[39;00m\u001b[38;5;124m).\u001b[39m\u001b[38;5;124m\"\u001b[39m \u001b[38;5;241m%\u001b[39m \u001b[38;5;28mself\u001b[39m\u001b[38;5;241m.\u001b[39mduration)\n\u001b[1;32m--> 389\u001b[0m newclip \u001b[38;5;241m=\u001b[39m \u001b[38;5;28;43mself\u001b[39;49m\u001b[38;5;241;43m.\u001b[39;49m\u001b[43mfl_time\u001b[49m\u001b[43m(\u001b[49m\u001b[38;5;28;43;01mlambda\u001b[39;49;00m\u001b[43m \u001b[49m\u001b[43mt\u001b[49m\u001b[43m:\u001b[49m\u001b[43m \u001b[49m\u001b[43mt\u001b[49m\u001b[43m \u001b[49m\u001b[38;5;241;43m+\u001b[39;49m\u001b[43m \u001b[49m\u001b[43mt_start\u001b[49m\u001b[43m,\u001b[49m\u001b[43m \u001b[49m\u001b[43mapply_to\u001b[49m\u001b[38;5;241;43m=\u001b[39;49m\u001b[43m[\u001b[49m\u001b[43m]\u001b[49m\u001b[43m)\u001b[49m\n\u001b[0;32m    391\u001b[0m \u001b[38;5;28;01mif\u001b[39;00m (t_end \u001b[38;5;129;01mis\u001b[39;00m \u001b[38;5;28;01mNone\u001b[39;00m) \u001b[38;5;129;01mand\u001b[39;00m (\u001b[38;5;28mself\u001b[39m\u001b[38;5;241m.\u001b[39mduration \u001b[38;5;129;01mis\u001b[39;00m \u001b[38;5;129;01mnot\u001b[39;00m \u001b[38;5;28;01mNone\u001b[39;00m):\n\u001b[0;32m    393\u001b[0m     t_end \u001b[38;5;241m=\u001b[39m \u001b[38;5;28mself\u001b[39m\u001b[38;5;241m.\u001b[39mduration\n",
      "File \u001b[1;32m~\\anaconda3\\lib\\site-packages\\moviepy\\Clip.py:187\u001b[0m, in \u001b[0;36mClip.fl_time\u001b[1;34m(self, t_func, apply_to, keep_duration)\u001b[0m\n\u001b[0;32m    184\u001b[0m \u001b[38;5;28;01mif\u001b[39;00m apply_to \u001b[38;5;129;01mis\u001b[39;00m \u001b[38;5;28;01mNone\u001b[39;00m:\n\u001b[0;32m    185\u001b[0m     apply_to \u001b[38;5;241m=\u001b[39m []\n\u001b[1;32m--> 187\u001b[0m \u001b[38;5;28;01mreturn\u001b[39;00m \u001b[38;5;28;43mself\u001b[39;49m\u001b[38;5;241;43m.\u001b[39;49m\u001b[43mfl\u001b[49m\u001b[43m(\u001b[49m\u001b[38;5;28;43;01mlambda\u001b[39;49;00m\u001b[43m \u001b[49m\u001b[43mgf\u001b[49m\u001b[43m,\u001b[49m\u001b[43m \u001b[49m\u001b[43mt\u001b[49m\u001b[43m:\u001b[49m\u001b[43m \u001b[49m\u001b[43mgf\u001b[49m\u001b[43m(\u001b[49m\u001b[43mt_func\u001b[49m\u001b[43m(\u001b[49m\u001b[43mt\u001b[49m\u001b[43m)\u001b[49m\u001b[43m)\u001b[49m\u001b[43m,\u001b[49m\u001b[43m \u001b[49m\u001b[43mapply_to\u001b[49m\u001b[43m,\u001b[49m\n\u001b[0;32m    188\u001b[0m \u001b[43m               \u001b[49m\u001b[43mkeep_duration\u001b[49m\u001b[38;5;241;43m=\u001b[39;49m\u001b[43mkeep_duration\u001b[49m\u001b[43m)\u001b[49m\n",
      "File \u001b[1;32m~\\anaconda3\\lib\\site-packages\\moviepy\\Clip.py:136\u001b[0m, in \u001b[0;36mClip.fl\u001b[1;34m(self, fun, apply_to, keep_duration)\u001b[0m\n\u001b[0;32m    133\u001b[0m     apply_to \u001b[38;5;241m=\u001b[39m []\n\u001b[0;32m    135\u001b[0m \u001b[38;5;66;03m#mf = copy(self.make_frame)\u001b[39;00m\n\u001b[1;32m--> 136\u001b[0m newclip \u001b[38;5;241m=\u001b[39m \u001b[38;5;28;43mself\u001b[39;49m\u001b[38;5;241;43m.\u001b[39;49m\u001b[43mset_make_frame\u001b[49m\u001b[43m(\u001b[49m\u001b[38;5;28;43;01mlambda\u001b[39;49;00m\u001b[43m \u001b[49m\u001b[43mt\u001b[49m\u001b[43m:\u001b[49m\u001b[43m \u001b[49m\u001b[43mfun\u001b[49m\u001b[43m(\u001b[49m\u001b[38;5;28;43mself\u001b[39;49m\u001b[38;5;241;43m.\u001b[39;49m\u001b[43mget_frame\u001b[49m\u001b[43m,\u001b[49m\u001b[43m \u001b[49m\u001b[43mt\u001b[49m\u001b[43m)\u001b[49m\u001b[43m)\u001b[49m\n\u001b[0;32m    138\u001b[0m \u001b[38;5;28;01mif\u001b[39;00m \u001b[38;5;129;01mnot\u001b[39;00m keep_duration:\n\u001b[0;32m    139\u001b[0m     newclip\u001b[38;5;241m.\u001b[39mduration \u001b[38;5;241m=\u001b[39m \u001b[38;5;28;01mNone\u001b[39;00m\n",
      "File \u001b[1;32m<decorator-gen-80>:2\u001b[0m, in \u001b[0;36mset_make_frame\u001b[1;34m(self, mf)\u001b[0m\n",
      "File \u001b[1;32m~\\anaconda3\\lib\\site-packages\\moviepy\\decorators.py:14\u001b[0m, in \u001b[0;36moutplace\u001b[1;34m(f, clip, *a, **k)\u001b[0m\n\u001b[0;32m     12\u001b[0m \u001b[38;5;124;03m\"\"\" Applies f(clip.copy(), *a, **k) and returns clip.copy()\"\"\"\u001b[39;00m\n\u001b[0;32m     13\u001b[0m newclip \u001b[38;5;241m=\u001b[39m clip\u001b[38;5;241m.\u001b[39mcopy()\n\u001b[1;32m---> 14\u001b[0m f(newclip, \u001b[38;5;241m*\u001b[39ma, \u001b[38;5;241m*\u001b[39m\u001b[38;5;241m*\u001b[39mk)\n\u001b[0;32m     15\u001b[0m \u001b[38;5;28;01mreturn\u001b[39;00m newclip\n",
      "File \u001b[1;32m~\\anaconda3\\lib\\site-packages\\moviepy\\video\\VideoClip.py:644\u001b[0m, in \u001b[0;36mVideoClip.set_make_frame\u001b[1;34m(self, mf)\u001b[0m\n\u001b[0;32m    638\u001b[0m \u001b[38;5;124;03m\"\"\"Change the clip's ``get_frame``.\u001b[39;00m\n\u001b[0;32m    639\u001b[0m \n\u001b[0;32m    640\u001b[0m \u001b[38;5;124;03mReturns a copy of the VideoClip instance, with the make_frame\u001b[39;00m\n\u001b[0;32m    641\u001b[0m \u001b[38;5;124;03mattribute set to `mf`.\u001b[39;00m\n\u001b[0;32m    642\u001b[0m \u001b[38;5;124;03m\"\"\"\u001b[39;00m\n\u001b[0;32m    643\u001b[0m \u001b[38;5;28mself\u001b[39m\u001b[38;5;241m.\u001b[39mmake_frame \u001b[38;5;241m=\u001b[39m mf\n\u001b[1;32m--> 644\u001b[0m \u001b[38;5;28mself\u001b[39m\u001b[38;5;241m.\u001b[39msize \u001b[38;5;241m=\u001b[39m \u001b[38;5;28;43mself\u001b[39;49m\u001b[38;5;241;43m.\u001b[39;49m\u001b[43mget_frame\u001b[49m\u001b[43m(\u001b[49m\u001b[38;5;241;43m0\u001b[39;49m\u001b[43m)\u001b[49m\u001b[38;5;241m.\u001b[39mshape[:\u001b[38;5;241m2\u001b[39m][::\u001b[38;5;241m-\u001b[39m\u001b[38;5;241m1\u001b[39m]\n",
      "File \u001b[1;32m<decorator-gen-30>:2\u001b[0m, in \u001b[0;36mget_frame\u001b[1;34m(self, t)\u001b[0m\n",
      "File \u001b[1;32m~\\anaconda3\\lib\\site-packages\\moviepy\\decorators.py:89\u001b[0m, in \u001b[0;36mpreprocess_args.<locals>.wrapper\u001b[1;34m(f, *a, **kw)\u001b[0m\n\u001b[0;32m     85\u001b[0m new_a \u001b[38;5;241m=\u001b[39m [fun(arg) \u001b[38;5;28;01mif\u001b[39;00m (name \u001b[38;5;129;01min\u001b[39;00m varnames) \u001b[38;5;28;01melse\u001b[39;00m arg\n\u001b[0;32m     86\u001b[0m          \u001b[38;5;28;01mfor\u001b[39;00m (arg, name) \u001b[38;5;129;01min\u001b[39;00m \u001b[38;5;28mzip\u001b[39m(a, names)]\n\u001b[0;32m     87\u001b[0m new_kw \u001b[38;5;241m=\u001b[39m {k: fun(v) \u001b[38;5;28;01mif\u001b[39;00m k \u001b[38;5;129;01min\u001b[39;00m varnames \u001b[38;5;28;01melse\u001b[39;00m v\n\u001b[0;32m     88\u001b[0m          \u001b[38;5;28;01mfor\u001b[39;00m (k,v) \u001b[38;5;129;01min\u001b[39;00m kw\u001b[38;5;241m.\u001b[39mitems()}\n\u001b[1;32m---> 89\u001b[0m \u001b[38;5;28;01mreturn\u001b[39;00m f(\u001b[38;5;241m*\u001b[39mnew_a, \u001b[38;5;241m*\u001b[39m\u001b[38;5;241m*\u001b[39mnew_kw)\n",
      "File \u001b[1;32m~\\anaconda3\\lib\\site-packages\\moviepy\\Clip.py:93\u001b[0m, in \u001b[0;36mClip.get_frame\u001b[1;34m(self, t)\u001b[0m\n\u001b[0;32m     91\u001b[0m         \u001b[38;5;28;01mreturn\u001b[39;00m frame\n\u001b[0;32m     92\u001b[0m \u001b[38;5;28;01melse\u001b[39;00m:\n\u001b[1;32m---> 93\u001b[0m     \u001b[38;5;28;01mreturn\u001b[39;00m \u001b[38;5;28;43mself\u001b[39;49m\u001b[38;5;241;43m.\u001b[39;49m\u001b[43mmake_frame\u001b[49m\u001b[43m(\u001b[49m\u001b[43mt\u001b[49m\u001b[43m)\u001b[49m\n",
      "File \u001b[1;32m~\\anaconda3\\lib\\site-packages\\moviepy\\Clip.py:136\u001b[0m, in \u001b[0;36mClip.fl.<locals>.<lambda>\u001b[1;34m(t)\u001b[0m\n\u001b[0;32m    133\u001b[0m     apply_to \u001b[38;5;241m=\u001b[39m []\n\u001b[0;32m    135\u001b[0m \u001b[38;5;66;03m#mf = copy(self.make_frame)\u001b[39;00m\n\u001b[1;32m--> 136\u001b[0m newclip \u001b[38;5;241m=\u001b[39m \u001b[38;5;28mself\u001b[39m\u001b[38;5;241m.\u001b[39mset_make_frame(\u001b[38;5;28;01mlambda\u001b[39;00m t: \u001b[43mfun\u001b[49m\u001b[43m(\u001b[49m\u001b[38;5;28;43mself\u001b[39;49m\u001b[38;5;241;43m.\u001b[39;49m\u001b[43mget_frame\u001b[49m\u001b[43m,\u001b[49m\u001b[43m \u001b[49m\u001b[43mt\u001b[49m\u001b[43m)\u001b[49m)\n\u001b[0;32m    138\u001b[0m \u001b[38;5;28;01mif\u001b[39;00m \u001b[38;5;129;01mnot\u001b[39;00m keep_duration:\n\u001b[0;32m    139\u001b[0m     newclip\u001b[38;5;241m.\u001b[39mduration \u001b[38;5;241m=\u001b[39m \u001b[38;5;28;01mNone\u001b[39;00m\n",
      "File \u001b[1;32m~\\anaconda3\\lib\\site-packages\\moviepy\\Clip.py:187\u001b[0m, in \u001b[0;36mClip.fl_time.<locals>.<lambda>\u001b[1;34m(gf, t)\u001b[0m\n\u001b[0;32m    184\u001b[0m \u001b[38;5;28;01mif\u001b[39;00m apply_to \u001b[38;5;129;01mis\u001b[39;00m \u001b[38;5;28;01mNone\u001b[39;00m:\n\u001b[0;32m    185\u001b[0m     apply_to \u001b[38;5;241m=\u001b[39m []\n\u001b[1;32m--> 187\u001b[0m \u001b[38;5;28;01mreturn\u001b[39;00m \u001b[38;5;28mself\u001b[39m\u001b[38;5;241m.\u001b[39mfl(\u001b[38;5;28;01mlambda\u001b[39;00m gf, t: \u001b[43mgf\u001b[49m\u001b[43m(\u001b[49m\u001b[43mt_func\u001b[49m\u001b[43m(\u001b[49m\u001b[43mt\u001b[49m\u001b[43m)\u001b[49m\u001b[43m)\u001b[49m, apply_to,\n\u001b[0;32m    188\u001b[0m                keep_duration\u001b[38;5;241m=\u001b[39mkeep_duration)\n",
      "File \u001b[1;32m<decorator-gen-30>:2\u001b[0m, in \u001b[0;36mget_frame\u001b[1;34m(self, t)\u001b[0m\n",
      "File \u001b[1;32m~\\anaconda3\\lib\\site-packages\\moviepy\\decorators.py:89\u001b[0m, in \u001b[0;36mpreprocess_args.<locals>.wrapper\u001b[1;34m(f, *a, **kw)\u001b[0m\n\u001b[0;32m     85\u001b[0m new_a \u001b[38;5;241m=\u001b[39m [fun(arg) \u001b[38;5;28;01mif\u001b[39;00m (name \u001b[38;5;129;01min\u001b[39;00m varnames) \u001b[38;5;28;01melse\u001b[39;00m arg\n\u001b[0;32m     86\u001b[0m          \u001b[38;5;28;01mfor\u001b[39;00m (arg, name) \u001b[38;5;129;01min\u001b[39;00m \u001b[38;5;28mzip\u001b[39m(a, names)]\n\u001b[0;32m     87\u001b[0m new_kw \u001b[38;5;241m=\u001b[39m {k: fun(v) \u001b[38;5;28;01mif\u001b[39;00m k \u001b[38;5;129;01min\u001b[39;00m varnames \u001b[38;5;28;01melse\u001b[39;00m v\n\u001b[0;32m     88\u001b[0m          \u001b[38;5;28;01mfor\u001b[39;00m (k,v) \u001b[38;5;129;01min\u001b[39;00m kw\u001b[38;5;241m.\u001b[39mitems()}\n\u001b[1;32m---> 89\u001b[0m \u001b[38;5;28;01mreturn\u001b[39;00m f(\u001b[38;5;241m*\u001b[39mnew_a, \u001b[38;5;241m*\u001b[39m\u001b[38;5;241m*\u001b[39mnew_kw)\n",
      "File \u001b[1;32m~\\anaconda3\\lib\\site-packages\\moviepy\\Clip.py:93\u001b[0m, in \u001b[0;36mClip.get_frame\u001b[1;34m(self, t)\u001b[0m\n\u001b[0;32m     91\u001b[0m         \u001b[38;5;28;01mreturn\u001b[39;00m frame\n\u001b[0;32m     92\u001b[0m \u001b[38;5;28;01melse\u001b[39;00m:\n\u001b[1;32m---> 93\u001b[0m     \u001b[38;5;28;01mreturn\u001b[39;00m \u001b[38;5;28;43mself\u001b[39;49m\u001b[38;5;241;43m.\u001b[39;49m\u001b[43mmake_frame\u001b[49m\u001b[43m(\u001b[49m\u001b[43mt\u001b[49m\u001b[43m)\u001b[49m\n",
      "File \u001b[1;32m~\\anaconda3\\lib\\site-packages\\moviepy\\video\\io\\VideoFileClip.py:113\u001b[0m, in \u001b[0;36mVideoFileClip.__init__.<locals>.<lambda>\u001b[1;34m(t)\u001b[0m\n\u001b[0;32m    109\u001b[0m     \u001b[38;5;28mself\u001b[39m\u001b[38;5;241m.\u001b[39mmask\u001b[38;5;241m.\u001b[39mfps \u001b[38;5;241m=\u001b[39m \u001b[38;5;28mself\u001b[39m\u001b[38;5;241m.\u001b[39mfps\n\u001b[0;32m    111\u001b[0m \u001b[38;5;28;01melse\u001b[39;00m:\n\u001b[1;32m--> 113\u001b[0m     \u001b[38;5;28mself\u001b[39m\u001b[38;5;241m.\u001b[39mmake_frame \u001b[38;5;241m=\u001b[39m \u001b[38;5;28;01mlambda\u001b[39;00m t: \u001b[38;5;28;43mself\u001b[39;49m\u001b[38;5;241;43m.\u001b[39;49m\u001b[43mreader\u001b[49m\u001b[38;5;241;43m.\u001b[39;49m\u001b[43mget_frame\u001b[49m\u001b[43m(\u001b[49m\u001b[43mt\u001b[49m\u001b[43m)\u001b[49m\n\u001b[0;32m    115\u001b[0m \u001b[38;5;66;03m# Make a reader for the audio, if any.\u001b[39;00m\n\u001b[0;32m    116\u001b[0m \u001b[38;5;28;01mif\u001b[39;00m audio \u001b[38;5;129;01mand\u001b[39;00m \u001b[38;5;28mself\u001b[39m\u001b[38;5;241m.\u001b[39mreader\u001b[38;5;241m.\u001b[39minfos[\u001b[38;5;124m'\u001b[39m\u001b[38;5;124maudio_found\u001b[39m\u001b[38;5;124m'\u001b[39m]:\n",
      "File \u001b[1;32m~\\anaconda3\\lib\\site-packages\\moviepy\\video\\io\\ffmpeg_reader.py:184\u001b[0m, in \u001b[0;36mFFMPEG_VideoReader.get_frame\u001b[1;34m(self, t)\u001b[0m\n\u001b[0;32m    182\u001b[0m \u001b[38;5;28;01melse\u001b[39;00m:\n\u001b[0;32m    183\u001b[0m     \u001b[38;5;28mself\u001b[39m\u001b[38;5;241m.\u001b[39mskip_frames(pos\u001b[38;5;241m-\u001b[39m\u001b[38;5;28mself\u001b[39m\u001b[38;5;241m.\u001b[39mpos\u001b[38;5;241m-\u001b[39m\u001b[38;5;241m1\u001b[39m)\n\u001b[1;32m--> 184\u001b[0m result \u001b[38;5;241m=\u001b[39m \u001b[38;5;28;43mself\u001b[39;49m\u001b[38;5;241;43m.\u001b[39;49m\u001b[43mread_frame\u001b[49m\u001b[43m(\u001b[49m\u001b[43m)\u001b[49m\n\u001b[0;32m    185\u001b[0m \u001b[38;5;28mself\u001b[39m\u001b[38;5;241m.\u001b[39mpos \u001b[38;5;241m=\u001b[39m pos\n\u001b[0;32m    186\u001b[0m \u001b[38;5;28;01mreturn\u001b[39;00m result\n",
      "File \u001b[1;32m~\\anaconda3\\lib\\site-packages\\moviepy\\video\\io\\ffmpeg_reader.py:133\u001b[0m, in \u001b[0;36mFFMPEG_VideoReader.read_frame\u001b[1;34m(self)\u001b[0m\n\u001b[0;32m    123\u001b[0m     warnings\u001b[38;5;241m.\u001b[39mwarn(\u001b[38;5;124m\"\u001b[39m\u001b[38;5;124mWarning: in file \u001b[39m\u001b[38;5;132;01m%s\u001b[39;00m\u001b[38;5;124m, \u001b[39m\u001b[38;5;124m\"\u001b[39m\u001b[38;5;241m%\u001b[39m(\u001b[38;5;28mself\u001b[39m\u001b[38;5;241m.\u001b[39mfilename)\u001b[38;5;241m+\u001b[39m\n\u001b[0;32m    124\u001b[0m            \u001b[38;5;124m\"\u001b[39m\u001b[38;5;132;01m%d\u001b[39;00m\u001b[38;5;124m bytes wanted but \u001b[39m\u001b[38;5;132;01m%d\u001b[39;00m\u001b[38;5;124m bytes read,\u001b[39m\u001b[38;5;124m\"\u001b[39m\u001b[38;5;241m%\u001b[39m(nbytes, \u001b[38;5;28mlen\u001b[39m(s))\u001b[38;5;241m+\u001b[39m\n\u001b[0;32m    125\u001b[0m            \u001b[38;5;124m\"\u001b[39m\u001b[38;5;124mat frame \u001b[39m\u001b[38;5;132;01m%d\u001b[39;00m\u001b[38;5;124m/\u001b[39m\u001b[38;5;132;01m%d\u001b[39;00m\u001b[38;5;124m, at time \u001b[39m\u001b[38;5;132;01m%.02f\u001b[39;00m\u001b[38;5;124m/\u001b[39m\u001b[38;5;132;01m%.02f\u001b[39;00m\u001b[38;5;124m sec. \u001b[39m\u001b[38;5;124m\"\u001b[39m\u001b[38;5;241m%\u001b[39m(\n\u001b[1;32m   (...)\u001b[0m\n\u001b[0;32m    129\u001b[0m            \u001b[38;5;124m\"\u001b[39m\u001b[38;5;124mUsing the last valid frame instead.\u001b[39m\u001b[38;5;124m\"\u001b[39m,\n\u001b[0;32m    130\u001b[0m            \u001b[38;5;167;01mUserWarning\u001b[39;00m)\n\u001b[0;32m    132\u001b[0m     \u001b[38;5;28;01mif\u001b[39;00m \u001b[38;5;129;01mnot\u001b[39;00m \u001b[38;5;28mhasattr\u001b[39m(\u001b[38;5;28mself\u001b[39m, \u001b[38;5;124m'\u001b[39m\u001b[38;5;124mlastread\u001b[39m\u001b[38;5;124m'\u001b[39m):\n\u001b[1;32m--> 133\u001b[0m         \u001b[38;5;28;01mraise\u001b[39;00m \u001b[38;5;167;01mIOError\u001b[39;00m((\u001b[38;5;124m\"\u001b[39m\u001b[38;5;124mMoviePy error: failed to read the first frame of \u001b[39m\u001b[38;5;124m\"\u001b[39m\n\u001b[0;32m    134\u001b[0m                        \u001b[38;5;124m\"\u001b[39m\u001b[38;5;124mvideo file \u001b[39m\u001b[38;5;132;01m%s\u001b[39;00m\u001b[38;5;124m. That might mean that the file is \u001b[39m\u001b[38;5;124m\"\u001b[39m\n\u001b[0;32m    135\u001b[0m                        \u001b[38;5;124m\"\u001b[39m\u001b[38;5;124mcorrupted. That may also mean that you are using \u001b[39m\u001b[38;5;124m\"\u001b[39m\n\u001b[0;32m    136\u001b[0m                        \u001b[38;5;124m\"\u001b[39m\u001b[38;5;124ma deprecated version of FFMPEG. On Ubuntu/Debian \u001b[39m\u001b[38;5;124m\"\u001b[39m\n\u001b[0;32m    137\u001b[0m                        \u001b[38;5;124m\"\u001b[39m\u001b[38;5;124mfor instance the version in the repos is deprecated. \u001b[39m\u001b[38;5;124m\"\u001b[39m\n\u001b[0;32m    138\u001b[0m                        \u001b[38;5;124m\"\u001b[39m\u001b[38;5;124mPlease update to a recent version from the website.\u001b[39m\u001b[38;5;124m\"\u001b[39m)\u001b[38;5;241m%\u001b[39m(\n\u001b[0;32m    139\u001b[0m                         \u001b[38;5;28mself\u001b[39m\u001b[38;5;241m.\u001b[39mfilename))\n\u001b[0;32m    141\u001b[0m     result \u001b[38;5;241m=\u001b[39m \u001b[38;5;28mself\u001b[39m\u001b[38;5;241m.\u001b[39mlastread\n\u001b[0;32m    143\u001b[0m \u001b[38;5;28;01melse\u001b[39;00m:\n",
      "\u001b[1;31mOSError\u001b[0m: MoviePy error: failed to read the first frame of video file C:\\Users\\rnand\\Desktop\\nithya\\videos SPA\\September 8_Jayapataka Swami\\September 8_Jayapataka Swami.mp4. That might mean that the file is corrupted. That may also mean that you are using a deprecated version of FFMPEG. On Ubuntu/Debian for instance the version in the repos is deprecated. Please update to a recent version from the website."
     ]
    }
   ],
   "source": [
    "import cv2\n",
    "import numpy as np\n",
    "from moviepy.video.fx.all import crop\n",
    "import moviepy.video.fx.all as vfx\n",
    "\n",
    "import moviepy.editor as mpy\n",
    "import pytube\n",
    "import os\n",
    "import random\n",
    "import xlrd\n",
    "import pandas as pd\n",
    "\n",
    "import gspread\n",
    "import pandas as pd\n",
    "import numpy as np\n",
    "import matplotlib.pyplot as plt\n",
    "from oauth2client.service_account import ServiceAccountCredentials\n",
    "from pydrive.auth import GoogleAuth\n",
    "from pydrive.drive import GoogleDrive\n",
    "import pandas as pd\n",
    "import requests\n",
    "from io import BytesIO\n",
    "\n",
    "from skimage.filters import gaussian\n",
    "\n",
    "class MakingVideo():\n",
    "    \n",
    "    def __init__(self,upload=False, drive=None):\n",
    "        # define the scope\n",
    "        self.scope = ['https://spreadsheets.google.com/feeds','https://www.googleapis.com/auth/drive']\n",
    "        self.json_file_name = 'splila-204506-3f4a019fbea2.json'\n",
    "        self.sheet_name = '54 Devotees'\n",
    "        self.upload=upload\n",
    "        self.drive=drive\n",
    "\n",
    "    \n",
    "    def read_spreadsheet(self):\n",
    "        # add credentials to the account\n",
    "        creds = ServiceAccountCredentials.from_json_keyfile_name(self.json_file_name, self.scope)\n",
    "\n",
    "        # authorize the clientsheet \n",
    "        client = gspread.authorize(creds)\n",
    "\n",
    "        # get the instance of the Spreadsheet\n",
    "        sheet = client.open(self.sheet_name)\n",
    "\n",
    "        # get the first sheet of the Spreadsheet\n",
    "        sheet_instance = sheet.get_worksheet(0)\n",
    "\n",
    "        # get all the records of the data\n",
    "        records_data = sheet_instance.get_all_records()\n",
    "        '''spreadsheetId = \"1GkBTSYSSBYcTOhGA0FDv8hcAI0NryiDo\"  # <--- Please set the Spreadsheet ID.\n",
    "\n",
    "        # 1. Download the Google Spreadsheet as XLSX format.\n",
    "        gauth = GoogleAuth()\n",
    "        gauth.LocalWebserverAuth()\n",
    "        url = \"https://www.googleapis.com/drive/v3/files/\" + spreadsheetId + \"/export?mimeType=application%2Fvnd.openxmlformats-officedocument.spreadsheetml.sheet\"\n",
    "        res = requests.get(url, headers={\"Authorization\": \"Bearer \" + gauth.attr['credentials'].access_token})\n",
    "\n",
    "        # 2. The downloaded XLSX data is read with `pd.read_excel`.\n",
    "        sheet = \"Videos\"\n",
    "        records_df = pd.read_excel(BytesIO(res.content), usecols=None, sheet_name=sheet)'''\n",
    "\n",
    "        #convert the json to dataframe\n",
    "        records_df = pd.DataFrame.from_dict(records_data)\n",
    "\n",
    "        # run with yes records\n",
    "        self.run_records = records_df[records_df['Run']=='Yes']\n",
    "        pass\n",
    "    def download_video(self, record):\n",
    "        link = record['YouTube link']\n",
    "        print(\"YouTube Link - \"+link)\n",
    "        self.folder_name = str(record['Posting Day'])+'_'+record['Name']\n",
    "        working_dir = os.getcwd()\n",
    "        self.directory = os.path.join(working_dir,self.folder_name)\n",
    "        self.video_path=os.path.join(self.directory,self.folder_name)\n",
    "        self.video_clip = self.video_path+'_clip.mp4'\n",
    "        if not os.path.exists(self.directory):\n",
    "            os.makedirs(self.directory)\n",
    "        self.video_name = self.video_path+'.mp4'\n",
    "        print(record['Name'])\n",
    "        try:\n",
    "            yt = pytube.YouTube(link)\n",
    "        except:\n",
    "            print('Youtube link is not working')\n",
    "        try:\n",
    "            if os.path.isfile(self.video_name):\n",
    "                print('Downloaded video exists')\n",
    "            else:\n",
    "                yt.streams.filter(progressive=True, file_extension='mp4').get_highest_resolution().download(filename=self.video_name)\n",
    "        except:\n",
    "            print('Download was not successful')\n",
    "        pass\n",
    "    def get_clip(self,record):        \n",
    "        #get_cuts\n",
    "        cut_list=[record[\"Start\"],record[\"End\"],record[\"Start2\"],record[\"End2\"],record[\"Start3\"],record[\"End3\"],record[\"Start4\"],record[\"End4\"],record[\"Start5\"],record[\"End5\"] ]\n",
    "        nonEmpty_cut_list = [i for i in cut_list if i] \n",
    "        cuts_topple=[]\n",
    "        it=iter(nonEmpty_cut_list)\n",
    "        for x in it:\n",
    "            cuts_topple.append((x,next(it)))\n",
    "        print(cuts_topple)    \n",
    "        video= mpy.VideoFileClip(self.video_name)\n",
    "        clips = []\n",
    "        #clips.append(intro_subclip)\n",
    "        for i,cut in enumerate(cuts_topple):\n",
    "            start=float(str(cut[0]).split(\".\")[0])*60 + float(str(cut[0]).split(\".\")[1])\n",
    "            end=float(str(cut[1]).split(\".\")[0])*60 + float(str(cut[1]).split(\".\")[1])\n",
    "            if(len(str(cut[0]).split(\".\"))==3):\n",
    "                start = start*60+float(str(cut[0]).split(\".\")[2])\n",
    "                end = end*60+float(str(cut[1]).split(\".\")[2])\n",
    "            \n",
    "            clip = video.subclip(start, end )\n",
    "            #clip.set_fps(25.0)\n",
    "            clips.append(clip)        \n",
    "        final_clip = mpy.concatenate_videoclips(clips,method=\"compose\")        \n",
    "        \n",
    "        final_clip.write_videofile(self.video_clip,fps=25)\n",
    "        video.close()\n",
    "        \n",
    "    def crop_clip(self,crop_x=0,crop_y=0, crop_w=0,crop_h=0):\n",
    "        if crop_x and crop_y and crop_w and crop_h:\n",
    "            a,b,c,d= crop_x, crop_y, crop_w, crop_h\n",
    "        else:\n",
    "            video = cv2.VideoCapture(self.video_clip) \n",
    "            ret,frame= video.read()\n",
    "            face_cascade = cv2.CascadeClassifier('haarcascade_frontalface_default.xml') \n",
    "            width = video.get(cv2.CAP_PROP_FRAME_WIDTH)\n",
    "            height = video.get(cv2.CAP_PROP_FRAME_HEIGHT)\n",
    "            print(\"Original width \"+str(width)+\" and height \"+str(height))\n",
    "            gray = cv2.cvtColor(frame, cv2.COLOR_BGR2GRAY)  \n",
    "            faces = face_cascade.detectMultiScale(gray, 1.1, 4) \n",
    "            max_i=0\n",
    "            max_a=0\n",
    "            for i,(x, y, w, h) in enumerate(faces):\n",
    "\n",
    "                if  h*w > max_a:\n",
    "                    max_i=i\n",
    "                    max_a= h*w\n",
    "                    x_, y_, w_, h_=x, y, w, h\n",
    "            x, y, w, h = faces[max_i][0],faces[max_i][1],faces[max_i][2],faces[max_i][3] \n",
    "            max_l=max(w,h)\n",
    "            cut_x = max(0,x-int(0.75*max_l))\n",
    "            cut_y = max(0,y-int(0.75*max_l))\n",
    "            cut_w = min(x+int(max_l+0.75*max_l),width)\n",
    "            cut_h = min(y+int(max_l+0.75*max_l),height)\n",
    "\n",
    "            #Replacing with input arguments\n",
    "            cut_x = crop_x if crop_x else cut_x\n",
    "            cut_y = crop_y if crop_y else cut_y\n",
    "            cut_w = crop_w if crop_w else cut_w\n",
    "            cut_h = crop_h if crop_h else cut_h\n",
    "            a,b,c,d= cut_x, cut_y, cut_w, cut_h\n",
    "            \n",
    "        print(\"Cropping at point x \"+str(a)+\" point y \"+str(b)+\" width \"+str(c)+\" and height at \"+str(d))\n",
    "\n",
    "        self.video_cropped = self.video_path+'_crop.mp4'\n",
    "        video2 = mpy.VideoFileClip(self.video_clip)\n",
    "        video_final= crop(video2, x1=a, y1=b, x2=c, y2=d)\n",
    "\n",
    "        video_final.write_videofile(\n",
    "            self.video_cropped ,\n",
    "            fps=30,\n",
    "            remove_temp=True,\n",
    "            codec=\"libx264\",\n",
    "            audio_codec=\"aac\",\n",
    "            threads = 6,\n",
    "        )\n",
    "        video2.close()\n",
    "\n",
    "\n",
    "    def add_blur_background_logo_strip(self, pad=0, cropping_failed = False ,each_record=None):\n",
    "        if cropping_failed:\n",
    "            self.video_cropped = self.video_path+'_clip.mp4'\n",
    "        else:\n",
    "            self.video_cropped = self.video_path+'_crop.mp4'\n",
    "        self.video_edited_final = self.video_path+'blur_background_logo_strip_added.mp4'\n",
    "        with mpy.VideoFileClip(self.video_cropped) as video:\n",
    "            if video.aspect_ratio < 1.8:\n",
    "                video.write_videofile(\n",
    "                    self.video_edited_final,\n",
    "                    #ffmpeg_params=['-lavfi', '[0:v]scale=-1:ih*16/9,boxblur=luma_radius=min(h\\,w)/20:luma_power=1:chroma_radius=min(cw\\,ch)/20:chroma_power=1[bg];[bg][0:v]overlay=(W-w)/2:(H-h)/2,crop=h=iw*9/16']\n",
    "                    #ffmpeg_params=[\"-lavfi\", \"[0:v] scale=350:640,boxblur=5[bg];[0:v]scale=350:500,pad=w=350:h=510:x=0:y=5:color=black [paded];[bg][paded]overlay=trunc((W-w)/2):trunc((H-h)/2)[prefinal];movie=logo_final2.png [watermark]; [prefinal][watermark] overlay=main_w-overlay_w-5:10\"]\n",
    "                    ffmpeg_params=[\"-lavfi\", \"[0:v] scale=350:640,boxblur=4[bg];[0:v]scale=350:520,pad=350:\"+str(520+2*pad)+\":0:\"+str(pad)+\":color=black [paded];[bg][paded]overlay=(W-w)/2:(H-h)/2[prefinal];movie=logo_final2.png [watermark]; [prefinal][watermark] overlay=main_w-overlay_w-5:6\"]\n",
    "                    \n",
    "                    #ffmpeg_params=[\"-lavfi\", \"[0:v]scale=-1:720[scaled_video];[1:v]scale=1280:720,boxblur=50[blur_image];[blur_image][scaled_video]overlay=(main_w-overlay_w)/2:(main_h-overlay_h)/2[outv]\"]\n",
    "                )\n",
    "        '''\n",
    "        clips=[]\n",
    "        clips.append(video)\n",
    "        working_dir = os.getcwd()\n",
    "        intro_fname = str(each_record['Intro'])+\".mp4\"\n",
    "        Intro_video_name = os.path.join(working_dir,\"Outro_short\",intro_fname)\n",
    "        intro_clip= mpy.VideoFileClip(Intro_video_name).resize( (350,640) )\n",
    "        intro_subclip=intro_clip.set_fps(25.0)\n",
    "        clips.append(intro_clip)\n",
    "        \n",
    "        Outro_video_name = os.path.join(working_dir,\"Outro_short\",intro_fname)\n",
    "        Outro_clip= mpy.VideoFileClip(Outro_video_name).resize( (350,640) )\n",
    "        Outro_clip=Outro_clip.set_fps(25.0)\n",
    "        clips.append(Outro_clip)\n",
    "        \n",
    "        self.savetitle= self.video_path+'_into_outro_added.mp4'\n",
    "        #final_clip = mpy.concatenate_videoclips(clips,method=\"compose\")\n",
    "        #final_clip= mpy.CompositeVideoClip([intro_subclip,video,Outro_clip])\n",
    "        #final_clip.write_videofile(self.savetitle,fps=25)\n",
    "\n",
    "        #video.close()\n",
    "        '''\n",
    "        \n",
    "        main_video = mpy.VideoFileClip(self.video_edited_final)\n",
    "        main_video=main_video.fx(vfx.resize, height=350, width=640).set_fps(25.0)\n",
    "        \n",
    "        working_dir = os.getcwd()\n",
    "        intro_fname = str(each_record['Intro'])+\".mp4\"\n",
    "        Intro_video_name = os.path.join(working_dir,\"Intro\",intro_fname)\n",
    "        intro_clip= mpy.VideoFileClip(Intro_video_name)\n",
    "        intro_clip =intro_clip.fx(vfx.resize, height=350, width=640).set_fps(25.0)\n",
    "        \n",
    "        Outro_video_name = os.path.join(working_dir,\"Outro\",intro_fname)\n",
    "        Outro_clip= mpy.VideoFileClip(Outro_video_name)\n",
    "        Outro_clip = Outro_clip.fx(vfx.resize, height=350, width=640).set_fps(25.0)\n",
    "        \n",
    "        self.savetitle= self.video_path+'_short.mp4'\n",
    "        #final_video = mpy.CompositeVideoClip([intro_clip,main_video,Outro_clip])\n",
    "        final_video = mpy.concatenate_videoclips([intro_clip,main_video,Outro_clip],method=\"compose\")\n",
    "\n",
    "        final_video.write_videofile(\n",
    "            self.savetitle,\n",
    "            fps=25,\n",
    "            remove_temp=True,\n",
    "            codec=\"libx264\",\n",
    "            audio_codec=\"aac\",\n",
    "            threads = 6,\n",
    "        )\n",
    "        \n",
    "   \n",
    "  \n",
    "    def createDriveFolder(self, folderName, parentID = None):\n",
    "        # Create a folder on Drive, returns the newely created folders ID\n",
    "        body = {\n",
    "          'title': folderName,\n",
    "          'mimeType': \"application/vnd.google-apps.folder\"\n",
    "        }\n",
    "        if parentID:\n",
    "            body['parents'] = [{'id': parentID}]\n",
    "        root_folder = self.drive.files().insert(body = body).execute()\n",
    "        return root_folder['id']\n",
    "    \n",
    "    def upload_files(self,each_record):\n",
    "        [month, date]=each_record['Posting Day'].split()\n",
    "        print(\"Saving in the month folder \"+month+\" and date folder \"+date)\n",
    "        fileList = self.drive.ListFile({'q': \"'19SyToVl9Uik6DR0vC4RXRY66HO2C9lpp' in parents and trashed=false\"}).GetList()\n",
    "        for file in fileList:\n",
    "            if(file['mimeType'] == \"application/vnd.google-apps.folder\") and file['title']==month:\n",
    "                month_folder = self.drive.ListFile({'q': \"'\"+file['id']+\"' in parents and trashed=false\"}).GetList()\n",
    "                print(\"Months folder ID \"+file['id'])\n",
    "                folder_ID=None\n",
    "                for each_file in month_folder: \n",
    "                    if each_file['title']==date:\n",
    "                        folder_ID = each_file['id']\n",
    "                if not folder_ID:       \n",
    "                    folder_ID = self.createDriveFolder(date,file['id'])\n",
    "                print(\"Date folder ID \"+folder_ID)\n",
    "        \n",
    "        file_metadata = {'title': 'Unedited_'+self.folder_name+'.mp4', \"parents\": [{\"id\": folder_ID, \"kind\": \"drive#childList\"}]}\n",
    "        file1 = self.drive.CreateFile(metadata=file_metadata)\n",
    "        file1.SetContentFile(self.savetitle)\n",
    "        file1.Upload()\n",
    "        \n",
    "    def start(self):\n",
    "        self.read_spreadsheet()\n",
    "        for index,each_record in self.run_records.iterrows():\n",
    "            self.download_video(each_record)\n",
    "            self.get_clip(each_record)\n",
    "            try:\n",
    "                self.crop_clip()\n",
    "                self.add_blur_background_logo_strip(5,False,each_record)\n",
    "            except Exception as e:\n",
    "                print(e)                \n",
    "                self.add_blur_background_logo_strip(5,True,each_record)\n",
    "            if self.upload:\n",
    "                print(\"Uploading the files\")\n",
    "                self.upload_files(each_record)\n",
    "        \n",
    "        \n",
    "if __name__ == \"__main__\":\n",
    "    upload= True\n",
    "    cl_O=MakingVideo(upload, drive)\n",
    "    cl_O.start()   \n",
    "        "
   ]
  },
  {
   "cell_type": "code",
   "execution_count": 6,
   "id": "3e55dd9e",
   "metadata": {},
   "outputs": [
    {
     "name": "stdout",
     "output_type": "stream",
     "text": [
      "Moviepy - Building video C:\\Users\\rnand\\Desktop\\nithya\\videos SPA\\August 10_Achyutananda Dasa\\August 10_Achyutananda Dasa_crop.mp4.\n",
      "MoviePy - Writing audio in August 10_Achyutananda Dasa_cropTEMP_MPY_wvf_snd.mp4\n"
     ]
    },
    {
     "name": "stderr",
     "output_type": "stream",
     "text": [
      "                                                                                                                       \r"
     ]
    },
    {
     "name": "stdout",
     "output_type": "stream",
     "text": [
      "MoviePy - Done.\n",
      "Moviepy - Writing video C:\\Users\\rnand\\Desktop\\nithya\\videos SPA\\August 10_Achyutananda Dasa\\August 10_Achyutananda Dasa_crop.mp4\n",
      "\n"
     ]
    },
    {
     "name": "stderr",
     "output_type": "stream",
     "text": [
      "                                                                                                                       "
     ]
    },
    {
     "name": "stdout",
     "output_type": "stream",
     "text": [
      "Moviepy - Done !\n",
      "Moviepy - video ready C:\\Users\\rnand\\Desktop\\nithya\\videos SPA\\August 10_Achyutananda Dasa\\August 10_Achyutananda Dasa_crop.mp4\n"
     ]
    },
    {
     "name": "stderr",
     "output_type": "stream",
     "text": [
      "\r"
     ]
    }
   ],
   "source": [
    "cl_O.video_cropped = cl_O.video_path+'_crop.mp4'\n",
    "video2 = mpy.VideoFileClip(cl_O.video_clip)\n",
    "video_final= crop(video2, x1=170, y1=40, x2=400, y2=300)\n",
    "\n",
    "video_final.write_videofile(\n",
    "    cl_O.video_cropped ,\n",
    "    fps=30,\n",
    "    remove_temp=True,\n",
    "    codec=\"libx264\",\n",
    "    audio_codec=\"aac\",\n",
    "    threads = 6,\n",
    ")\n",
    "video2.close()"
   ]
  },
  {
   "cell_type": "code",
   "execution_count": 38,
   "id": "b80eb0af",
   "metadata": {},
   "outputs": [
    {
     "data": {
      "text/plain": [
       "'C:\\\\Users\\\\rnand\\\\Desktop\\\\nithya\\\\videos SPA\\\\August 9_Jananivas Dasa\\\\August 9_Jananivas Dasa_clip.mp4'"
      ]
     },
     "execution_count": 38,
     "metadata": {},
     "output_type": "execute_result"
    }
   ],
   "source": [
    "cl_O.video_clip"
   ]
  },
  {
   "cell_type": "code",
   "execution_count": null,
   "id": "c9280e04",
   "metadata": {},
   "outputs": [],
   "source": [
    " yt = pytube.YouTube(\"https://www.youtube.com/watch?v=5K4gz-A_qBY\")\n",
    "vid = yt.streams.filter(progressive=True, file_extension='mp4').get_highest_resolution()"
   ]
  },
  {
   "cell_type": "code",
   "execution_count": null,
   "id": "f84939b8",
   "metadata": {},
   "outputs": [],
   "source": [
    "vid"
   ]
  },
  {
   "cell_type": "code",
   "execution_count": null,
   "id": "f945713d",
   "metadata": {},
   "outputs": [],
   "source": [
    "from mimetypes import MimeTypes\n",
    "from googleapiclient.http import MediaFileUpload\n",
    "\n",
    "mimetype = MimeTypes().guess_type(cl_O.savetitle)[0]\n",
    "\n",
    "from googleapiclient.discovery import build\n",
    "service = build('drive', 'v3', credentials=self.creds)\n",
    "\n",
    "\n",
    "media = MediaFileUpload(filepath, mimetype=mimetype)\n",
    "              \n",
    "# Create a new file in the Drive storage\n",
    "file = cl_O.drive.files().create(\n",
    "    body=file_metadata, media_body=media, fields='id')"
   ]
  },
  {
   "cell_type": "code",
   "execution_count": null,
   "id": "3494afe2",
   "metadata": {},
   "outputs": [],
   "source": [
    "\n",
    "folder_id=\"11QFUz_IhNIWtIk7vo4UyqKcOuqxaRd62\"\n",
    "file_metadata = {'title': 'sample.txt', \"parents\": [{\"id\": folder_id, \"kind\": \"drive#childList\"}]}\n",
    "#file_metadata = {\"parents\": [\"id\":\"19SyToVl9Uik6DR0vC4RXRY66HO2C9lpp\",\"kind\": \"drive#file\"]}\n",
    "file1 = drive.CreateFile(metadata=file_metadata)\n",
    "file1.SetContentFile('big.txt')\n",
    "file1.Upload()"
   ]
  },
  {
   "cell_type": "code",
   "execution_count": null,
   "id": "7e606a6c",
   "metadata": {},
   "outputs": [],
   "source": [
    "fileList = drive.ListFile({'q': \"'19SyToVl9Uik6DR0vC4RXRY66HO2C9lpp' in parents and trashed=false\"}).GetList()\n",
    "for file in fileList:\n",
    "    if(file['mimeType'] == \"application/vnd.google-apps.folder\") and file['title']==\"July\":\n",
    "        month_folder = drive.ListFile({'q': \"'\"+file['id']+\"' in parents and trashed=false\"}).GetList()\n",
    "        for each_file in month_folder: \n",
    "            print('Title: %s, ID: %s AND mimeType: %s \\n\\n' % (each_file['title'], each_file['id'], each_file['mimeType']))"
   ]
  },
  {
   "cell_type": "code",
   "execution_count": null,
   "id": "bae55d30",
   "metadata": {},
   "outputs": [],
   "source": [
    "\"'\"+file['id']+\"' in parents and trashed=false\""
   ]
  },
  {
   "cell_type": "code",
   "execution_count": 23,
   "id": "7b2d8438",
   "metadata": {},
   "outputs": [
    {
     "name": "stdout",
     "output_type": "stream",
     "text": [
      "YouTube Link - https://www.youtube.com/watch?v=HaOLZ0VmoCs\n",
      "Tranakarta Dasa\n",
      "[(35.3, 36.1)]\n"
     ]
    },
    {
     "ename": "AttributeError",
     "evalue": "'float' object has no attribute 'split'",
     "output_type": "error",
     "traceback": [
      "\u001b[1;31m---------------------------------------------------------------------------\u001b[0m",
      "\u001b[1;31mAttributeError\u001b[0m                            Traceback (most recent call last)",
      "Input \u001b[1;32mIn [23]\u001b[0m, in \u001b[0;36m<cell line: 2>\u001b[1;34m()\u001b[0m\n\u001b[0;32m     15\u001b[0m \u001b[38;5;66;03m#clips.append(intro_subclip)\u001b[39;00m\n\u001b[0;32m     16\u001b[0m \u001b[38;5;28;01mfor\u001b[39;00m i,cut \u001b[38;5;129;01min\u001b[39;00m \u001b[38;5;28menumerate\u001b[39m(cuts_topple):\n\u001b[1;32m---> 17\u001b[0m     start\u001b[38;5;241m=\u001b[39m\u001b[38;5;28mfloat\u001b[39m(\u001b[43mcut\u001b[49m\u001b[43m[\u001b[49m\u001b[38;5;241;43m0\u001b[39;49m\u001b[43m]\u001b[49m\u001b[38;5;241;43m.\u001b[39;49m\u001b[43msplit\u001b[49m(\u001b[38;5;124m\"\u001b[39m\u001b[38;5;124m:\u001b[39m\u001b[38;5;124m\"\u001b[39m)[\u001b[38;5;241m1\u001b[39m])\u001b[38;5;241m*\u001b[39m\u001b[38;5;241m60\u001b[39m \u001b[38;5;241m+\u001b[39m \u001b[38;5;28mfloat\u001b[39m(cut[\u001b[38;5;241m0\u001b[39m]\u001b[38;5;241m.\u001b[39msplit(\u001b[38;5;124m\"\u001b[39m\u001b[38;5;124m:\u001b[39m\u001b[38;5;124m\"\u001b[39m)[\u001b[38;5;241m2\u001b[39m])\n\u001b[0;32m     18\u001b[0m     end\u001b[38;5;241m=\u001b[39m\u001b[38;5;28mfloat\u001b[39m(cut[\u001b[38;5;241m1\u001b[39m]\u001b[38;5;241m.\u001b[39msplit(\u001b[38;5;124m\"\u001b[39m\u001b[38;5;124m:\u001b[39m\u001b[38;5;124m\"\u001b[39m)[\u001b[38;5;241m1\u001b[39m])\u001b[38;5;241m*\u001b[39m\u001b[38;5;241m60\u001b[39m \u001b[38;5;241m+\u001b[39m \u001b[38;5;28mfloat\u001b[39m(cut[\u001b[38;5;241m1\u001b[39m]\u001b[38;5;241m.\u001b[39msplit(\u001b[38;5;124m\"\u001b[39m\u001b[38;5;124m:\u001b[39m\u001b[38;5;124m\"\u001b[39m)[\u001b[38;5;241m2\u001b[39m])\n\u001b[0;32m     19\u001b[0m     clip \u001b[38;5;241m=\u001b[39m video\u001b[38;5;241m.\u001b[39msubclip(start, end )\n",
      "\u001b[1;31mAttributeError\u001b[0m: 'float' object has no attribute 'split'"
     ]
    }
   ],
   "source": [
    "cl_O.read_spreadsheet()\n",
    "for index,each_record in cl_O.run_records.iterrows():\n",
    "    cl_O.download_video(each_record)\n",
    "    #cl_O.get_clip(each_record)\n",
    "    record =each_record\n",
    "    cut_list=[record[\"Start\"],record[\"End\"],record[\"Start2\"],record[\"End2\"],record[\"Start3\"],record[\"End3\"],record[\"Start4\"],record[\"End4\"],record[\"Start5\"],record[\"End5\"] ]\n",
    "    nonEmpty_cut_list = [i for i in cut_list if i] \n",
    "    cuts_topple=[]\n",
    "    it=iter(nonEmpty_cut_list)\n",
    "    for x in it:\n",
    "        cuts_topple.append((x,next(it)))\n",
    "    print(cuts_topple)    \n",
    "    video= mpy.VideoFileClip(cl_O.video_name)\n",
    "    clips = []\n",
    "    #clips.append(intro_subclip)\n",
    "    for i,cut in enumerate(cuts_topple):\n",
    "        start=float(cut[0].split(\":\")[1])*60 + float(cut[0].split(\":\")[2])\n",
    "        end=float(cut[1].split(\":\")[1])*60 + float(cut[1].split(\":\")[2])\n",
    "        clip = video.subclip(start, end )\n",
    "        #clip.set_fps(25.0)\n",
    "        clips.append(clip)        \n",
    "    final_clip = mpy.concatenate_videoclips(clips,method=\"compose\")        \n",
    "    cl_O.video_clip = cl_O.video_path+'_edited.mp4'\n",
    "    final_clip.write_videofile(cl_O.video_clip,fps=25)\n",
    "    video.close()"
   ]
  },
  {
   "cell_type": "code",
   "execution_count": null,
   "id": "0f20029d",
   "metadata": {},
   "outputs": [],
   "source": [
    "start=float(cut[0].split(\":\")[1])*60 + float(cut[0].split(\":\")[2])"
   ]
  },
  {
   "cell_type": "code",
   "execution_count": null,
   "id": "bcf5700d",
   "metadata": {},
   "outputs": [],
   "source": [
    "float(cut[0].split(\":\")[1])*60"
   ]
  },
  {
   "cell_type": "code",
   "execution_count": null,
   "id": "c6c258e3",
   "metadata": {},
   "outputs": [],
   "source": [
    "cut[0].split(\":\")"
   ]
  },
  {
   "cell_type": "code",
   "execution_count": null,
   "id": "3879ffaa",
   "metadata": {},
   "outputs": [],
   "source": [
    "crop_w=50\n",
    "crop_h=0\n",
    "max_l =50\n",
    "x=20\n",
    "y=20\n",
    "width = 100\n",
    "height = 150\n",
    "cut_w = min(x+int(max_l+max_l),width)\n",
    "cut_h = min(y+int(max_l+max_l),height)\n",
    "cut_w = crop_w if crop_w else cut_w\n",
    "cut_h = crop_h if crop_h else cut_h\n",
    "print(cut_w,cut_h)"
   ]
  },
  {
   "cell_type": "code",
   "execution_count": null,
   "id": "82c8473a",
   "metadata": {},
   "outputs": [],
   "source": [
    "video.get(cv2.CAP_PROP_FRAME_WIDTH)\n",
    "video.get(cv2.CAP_PROP_FRAME_HEIGHT)"
   ]
  },
  {
   "cell_type": "code",
   "execution_count": null,
   "id": "61a2e225",
   "metadata": {},
   "outputs": [],
   "source": [
    "\n",
    "import moviepy.editor as mpy\n",
    "\n",
    "cl_O.video_cropped = cl_O.video_path+'_cropped.mp4'\n",
    "video_edited_final = cl_O.video_path+'blur.mp4'\n",
    "pad=6\n",
    "with mpy.VideoFileClip(cl_O.video_cropped) as video:\n",
    "    if video.aspect_ratio < 1.8:\n",
    "        video.write_videofile(\n",
    "            video_edited_final,\n",
    "            #ffmpeg_params=['-lavfi', '[0:v]scale=-1:ih*16/9,boxblur=luma_radius=min(h\\,w)/20:luma_power=1:chroma_radius=min(cw\\,ch)/20:chroma_power=1[bg];[bg][0:v]overlay=(W-w)/2:(H-h)/2,crop=h=iw*9/16']\n",
    "            #ffmpeg_params=[\"-lavfi\", \"[0:v] scale=350:640,boxblur=5[bg];[0:v]scale=350:500,pad=w=350:h=510:x=0:y=5:color=black [paded];[bg][paded]overlay=trunc((W-w)/2):trunc((H-h)/2)[prefinal];movie=logo_final2.png [watermark]; [prefinal][watermark] overlay=main_w-overlay_w-5:10\"]\n",
    "            ffmpeg_params=[\"-lavfi\", \"[0:v] scale=350:640,boxblur=4[bg];[0:v]scale=350:520,pad=350:\"+str(520+2*pad)+\":0:\"+str(pad)+\":color=black [paded];[bg][paded]overlay=(W-w)/2:(H-h)/2[prefinal];movie=logo_final2.png [watermark]; [prefinal][watermark] overlay=main_w-overlay_w-5:6\"]\n",
    "\n",
    "            #ffmpeg_params=[\"-lavfi\", \"[0:v]scale=-1:720[scaled_video];[1:v]scale=1280:720,boxblur=50[blur_image];[blur_image][scaled_video]overlay=(main_w-overlay_w)/2:(main_h-overlay_h)/2[outv]\"]\n",
    "        )"
   ]
  },
  {
   "cell_type": "code",
   "execution_count": null,
   "id": "ab4c4fe7",
   "metadata": {},
   "outputs": [],
   "source": [
    "\"-lavfi\", \"[0:v] scale=350:640,boxblur=4[bg];[0:v][0:v]scale=350:520,pad=350:532:0:\"+str(6)+\":color=black [paded];[bg][paded]overlay=(W-w)/2:(H-h)/2[prefinal];movie=logo_final2.png [watermark]; [prefinal][watermark] overlay=main_w-overlay_w-5:6\".format(pad)"
   ]
  },
  {
   "cell_type": "code",
   "execution_count": null,
   "id": "91b59624",
   "metadata": {},
   "outputs": [],
   "source": []
  },
  {
   "cell_type": "code",
   "execution_count": null,
   "id": "5b8b6111",
   "metadata": {},
   "outputs": [],
   "source": []
  },
  {
   "cell_type": "code",
   "execution_count": null,
   "id": "6d0ebf31",
   "metadata": {},
   "outputs": [],
   "source": []
  },
  {
   "cell_type": "code",
   "execution_count": null,
   "id": "9f0e29ab",
   "metadata": {},
   "outputs": [],
   "source": []
  }
 ],
 "metadata": {
  "kernelspec": {
   "display_name": "Python 3 (ipykernel)",
   "language": "python",
   "name": "python3"
  },
  "language_info": {
   "codemirror_mode": {
    "name": "ipython",
    "version": 3
   },
   "file_extension": ".py",
   "mimetype": "text/x-python",
   "name": "python",
   "nbconvert_exporter": "python",
   "pygments_lexer": "ipython3",
   "version": "3.9.12"
  }
 },
 "nbformat": 4,
 "nbformat_minor": 5
}
